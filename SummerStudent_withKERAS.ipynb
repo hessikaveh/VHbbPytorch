{
  "nbformat": 4,
  "nbformat_minor": 0,
  "metadata": {
    "colab": {
      "name": "IndependenceSeminar.ipynb",
      "version": "0.3.2",
      "provenance": [],
      "collapsed_sections": [],
      "toc_visible": true,
      "include_colab_link": true
    },
    "language_info": {
      "codemirror_mode": {
        "name": "ipython",
        "version": 3
      },
      "file_extension": ".py",
      "mimetype": "text/x-python",
      "name": "python",
      "nbconvert_exporter": "python",
      "pygments_lexer": "ipython3",
      "version": "3.6.8"
    },
    "kernelspec": {
      "display_name": "Python 3",
      "language": "python",
      "name": "python3"
    }
  },
  "cells": [
    {
      "cell_type": "markdown",
      "metadata": {
        "id": "view-in-github",
        "colab_type": "text"
      },
      "source": [
        "<a href=\"https://colab.research.google.com/github/hessikaveh/VHbbPytorch/blob/master/SummerStudent_withKERAS.ipynb\" target=\"_parent\"><img src=\"https://colab.research.google.com/assets/colab-badge.svg\" alt=\"Open In Colab\"/></a>"
      ]
    },
    {
      "cell_type": "markdown",
      "metadata": {
        "colab_type": "text",
        "id": "vPlnTbD4-hDo"
      },
      "source": [
        "\n",
        "## 1.1 Visualise the data\n",
        "\n",
        "Let's generate the data and visualise it below. Darker reds correspond to higher values of z."
      ]
    },
    {
      "cell_type": "code",
      "metadata": {
        "id": "GkuQV-9-G9N9",
        "colab_type": "code",
        "colab": {}
      },
      "source": [
        "import matplotlib.pyplot as plt\n",
        "import numpy as np"
      ],
      "execution_count": 0,
      "outputs": []
    },
    {
      "cell_type": "markdown",
      "metadata": {
        "colab_type": "text",
        "id": "MGkBjAh15oCp"
      },
      "source": [
        "## 1.2 Classifier definition\n",
        "\n",
        "Let's define a basic Classifier class. It will be used in both the normal and the adversarial training."
      ]
    },
    {
      "cell_type": "code",
      "metadata": {
        "colab_type": "code",
        "id": "bW1F7cd1upQ6",
        "colab": {}
      },
      "source": [
        "import torch\n",
        "import torch.nn as nn\n",
        "import torch.nn.functional as F\n",
        "\n",
        "\n",
        "class Classifier(nn.Module):\n",
        "    \"\"\"\n",
        "    Basic classifier class\n",
        "    \n",
        "    Args:\n",
        "        width (int): number of nodes in each layer\n",
        "    \"\"\"\n",
        "    \n",
        "    def __init__(self, width, n_inputs=2):\n",
        "        super(Classifier, self).__init__()\n",
        "        self.width = width\n",
        "    \n",
        "        # input layer\n",
        "        self.input = nn.Linear(n_inputs, width)\n",
        "    \n",
        "        # hidden layers\n",
        "        self.h1 = nn.Linear(width, width)\n",
        "        self.h2 = nn.Linear(width, width)\n",
        "    \n",
        "        # output layer\n",
        "        self.output = nn.Linear(width, 1)\n",
        "\n",
        "    def forward(self, x):\n",
        "    \n",
        "        # input layer\n",
        "        x = F.relu(self.input(x))\n",
        "    \n",
        "        # hidden layers\n",
        "        x = F.relu(self.h1(x))\n",
        "        x = F.relu(self.h2(x))\n",
        "        \n",
        "        # output layer\n",
        "        x = torch.sigmoid(self.output(x))\n",
        "    \n",
        "        return x\n"
      ],
      "execution_count": 0,
      "outputs": []
    },
    {
      "cell_type": "markdown",
      "metadata": {
        "colab_type": "text",
        "id": "eCT5w_Zo5BXQ"
      },
      "source": [
        "## 1.3 Standard (non-adversarial) classifier training and evaluation\n",
        "\n",
        "Let's first train a vanilla classifier and see how it performs."
      ]
    },
    {
      "cell_type": "markdown",
      "metadata": {
        "colab_type": "text",
        "id": "dDkxj64--qQ8"
      },
      "source": [
        "### Training block\n",
        "\n",
        "Training block is written as a function in order to emphasize similarities between the toy and the physics example. All that will be different is the function which generates X, Y, and Z."
      ]
    },
    {
      "cell_type": "code",
      "metadata": {
        "colab_type": "code",
        "id": "_eWc_WE75udO",
        "colab": {}
      },
      "source": [
        "def normal_training(generating_function, N_train=500):\n",
        "    \n",
        "    # determine the size of hte classifier\n",
        "    X, _, _, _ = generating_function(10)\n",
        "    n_inputs = X.shape[1]\n",
        "    \n",
        "    # create the network and the optimiser\n",
        "    clf = Classifier(10, n_inputs=n_inputs)\n",
        "    optimiser = torch.optim.Adam(clf.parameters(), lr=0.001)\n",
        "    criterion = nn.BCELoss()\n",
        "\n",
        "    # track the losses\n",
        "    clf_losses = []\n",
        "    clf_losses_test = []\n",
        "\n",
        "    for _ in range(N_train):\n",
        "\n",
        "        # create the data\n",
        "        X, Y, Z, weights = generating_function(512)\n",
        "        X = torch.as_tensor(X, dtype=torch.float)\n",
        "        Y = torch.as_tensor(Y.reshape(-1, 1), dtype=torch.float)\n",
        "        Z = torch.as_tensor(Z.reshape(-1, 1), dtype=torch.float)\n",
        "        weights = torch.as_tensor(weights.reshape(-1, 1), dtype=torch.float)\n",
        "\n",
        "        # make the training loss\n",
        "        output = clf(X)\n",
        "        loss = criterion(output, Y)\n",
        "        clf_losses.append(loss.data.numpy().item())\n",
        "\n",
        "        # backprop\n",
        "        clf.zero_grad()\n",
        "        loss.backward()\n",
        "        optimiser.step()\n",
        "        \n",
        "        # test loss\n",
        "        X_test, Y_test, _ , weights_test= generating_function(512, train=False)\n",
        "        X_test = torch.as_tensor(X_test, dtype=torch.float)\n",
        "        Y_test = torch.as_tensor(Y_test.reshape(-1, 1), dtype=torch.float)\n",
        "        output_test = clf(X_test)\n",
        "        loss_test = criterion(output_test, Y_test) \n",
        "        clf_losses_test.append(loss_test.data.numpy().item())\n",
        "    \n",
        "    print('Done with training')\n",
        "\n",
        "    fig, ax = plt.subplots()\n",
        "    ax.plot(range(len(clf_losses)), clf_losses, label='train loss')\n",
        "    ax.plot(range(len(clf_losses_test)), clf_losses_test, label='test loss')\n",
        "    ax.set_xlabel('Training step')\n",
        "    ax.set_ylabel('Classifier loss')\n",
        "    ax.legend(loc='best')\n",
        "    plt.show()\n",
        "    \n",
        "    return clf\n",
        "\n",
        "#clf_toys = normal_training(generate_toys)"
      ],
      "execution_count": 0,
      "outputs": []
    },
    {
      "cell_type": "markdown",
      "metadata": {
        "colab_type": "text",
        "id": "4iYN5N1CA8qk"
      },
      "source": [
        "### Evaluation\n",
        "\n",
        "\n",
        "Lots of plotting code, no need to read, just look at the figures on the bottom.\n",
        "\n",
        "-----\n",
        "\n",
        "The first panel shows the variates as above, with darker reds meaning higher Z values.\n",
        "\n",
        "The second panel shows the classifier output as a surface over the 2D input plane.\n",
        "\n",
        "The third panel shows the ROC curves for examples generated at Z=-1, 0, and 1. It is clear that separation is easier for higher values of Z.\n",
        "\n",
        "The fourth panel shows the classifier output distribution for examples at Z=-1, 0, and 1. Similarly, the distribution of Z=1 examples is shifted to the right."
      ]
    },
    {
      "cell_type": "code",
      "metadata": {
        "colab_type": "code",
        "id": "ZwHwmWSdLRku",
        "colab": {}
      },
      "source": [
        "from sklearn.metrics import roc_curve\n",
        "\n",
        "def show_roc_curves(ax, clf, generate):\n",
        "\n",
        "    # generate test data\n",
        "    n_samples = 500\n",
        "    X0, Y0, Z0 = generate(n_samples, z=0)\n",
        "    X1, Y1, Z1 = generate(n_samples, z=1)\n",
        "    X_1, Y_1, Z_1 = generate(n_samples, z=-1)\n",
        "\n",
        "    # compute the roc curves\n",
        "    Y0_pred = clf(torch.as_tensor(X0, dtype=torch.float))\n",
        "    fpr0, tpr0, _ = roc_curve(Y0, Y0_pred.data)\n",
        "\n",
        "    Y1_pred = clf(torch.as_tensor(X1, dtype=torch.float))\n",
        "    fpr1, tpr1, _ = roc_curve(Y1, Y1_pred.data)\n",
        "\n",
        "    Y_1_pred = clf(torch.as_tensor(X_1, dtype=torch.float))\n",
        "    fpr_1, tpr_1, _ = roc_curve(Y_1, Y_1_pred.data)\n",
        "\n",
        "    # draw the roc curves\n",
        "    ax.plot(fpr_1, tpr_1, c='yellow', label='Z=-1')\n",
        "    ax.plot(fpr0, tpr0, c='red', label='Z=0')\n",
        "    ax.plot(fpr1, tpr1, c='darkred', label='Z=1')\n",
        "\n",
        "    # cosmetics\n",
        "    ax.legend(loc='best')\n",
        "    ax.set_xlabel('False positive rate')\n",
        "    ax.set_ylabel('True positive rate')\n",
        "    ax.set_title('ROC curve')\n",
        "\n",
        "def show_clf_output(ax, clf, generate):\n",
        "\n",
        "    # generate test data\n",
        "    n_samples = 500\n",
        "    X0, Y0, Z0 = generate(n_samples, z=0)\n",
        "    X1, Y1, Z1 = generate(n_samples, z=1)\n",
        "    X_1, Y_1, Z_1 = generate(n_samples, z=-1)\n",
        "\n",
        "    # compute the predictions\n",
        "    Y0_pred = clf(torch.as_tensor(X0, dtype=torch.float)) \n",
        "    Y1_pred = clf(torch.as_tensor(X1, dtype=torch.float))\n",
        "    Y_1_pred = clf(torch.as_tensor(X_1, dtype=torch.float))\n",
        "\n",
        "    # show them\n",
        "    bins = 30\n",
        "    ax.hist(Y1_pred.data.numpy(), bins=bins, density=True, color='darkred', histtype='step', label='Z=1')\n",
        "    ax.hist(Y0_pred.data.numpy(), bins=bins, density=True, color='red', histtype='step', label='Z=0')\n",
        "    ax.hist(Y_1_pred.data.numpy(), bins=bins, density=True, color='yellow', histtype='step', label='Z=-1')\n",
        "\n",
        "    # cosmetics\n",
        "    ax.legend(loc='best')\n",
        "    ax.set_title('Classifier output')\n",
        "    ax.set_xlabel('Classifier output f(X|Z=z)')\n",
        "\n",
        "def show_decision_boundary(ax, clf, generate):\n",
        "\n",
        "    # generate test data\n",
        "    n_samples = 500\n",
        "    X, Y, Z = generate(n_samples)\n",
        "\n",
        "    # predict\n",
        "    preds = clf(torch.as_tensor(X, dtype=torch.float)).data.numpy()\n",
        "\n",
        "    # plot\n",
        "    dec = ax.tricontourf(X[:,0], X[:,1], preds.ravel(), 20, extend='both')\n",
        "    plt.colorbar(dec, ax=ax)\n",
        "\n",
        "    # cosmetics\n",
        "    ax.set_ylim(-1, 3)\n",
        "    ax.set_xlim(-1, 2)\n",
        "    ax.set_title('Decision boundary')\n",
        "    ax.set_xlabel('x1')\n",
        "    ax.set_ylabel('x2')\n",
        "\n",
        "def evaluate_classifier(clf, generate):\n",
        "\n",
        "    fig, ax = plt.subplots(2, 2, figsize=(10, 10))\n",
        "    show_variates(ax[0, 0], generate)\n",
        "    show_decision_boundary(ax[0, 1], clf, generate)\n",
        "    show_roc_curves(ax[1,0], clf, generate)\n",
        "    show_clf_output(ax[1,1], clf, generate)\n",
        "    plt.show()\n",
        "    \n",
        "#evaluate_classifier(clf_toys, generate_toys)"
      ],
      "execution_count": 0,
      "outputs": []
    },
    {
      "cell_type": "markdown",
      "metadata": {
        "colab_type": "text",
        "id": "JHqJ34205yoy"
      },
      "source": [
        "## 1.4 Adversarial training of the classifier\n",
        "\n",
        "Let's now train the same classifier with it's loss function modified by the adversary. "
      ]
    },
    {
      "cell_type": "markdown",
      "metadata": {
        "colab_type": "text",
        "id": "5slQhbEy515g"
      },
      "source": [
        "### Adversary definition\n",
        "\n",
        "In this simple example the adversary is a regression NN. It is used to predict the protected parameter Z from the classifier output."
      ]
    },
    {
      "cell_type": "code",
      "metadata": {
        "colab_type": "code",
        "id": "BvBJeyd0-NHT",
        "colab": {}
      },
      "source": [
        "class Regressor(nn.Module):\n",
        "    \"\"\"\n",
        "    Basic regressor class. Can (and will) be used as the adversary in the\n",
        "    training of the classifier.\n",
        "    \n",
        "    Args:\n",
        "        width (int): number of nodes in each layer\n",
        "    \"\"\"\n",
        "    \n",
        "    def __init__(self, width):\n",
        "        super(Regressor, self).__init__()\n",
        "        self.width = width\n",
        "    \n",
        "        # input layer\n",
        "        self.input = nn.Linear(1, width)\n",
        "    \n",
        "        # hidden layers\n",
        "        self.h1 = nn.Linear(width, width)\n",
        "        self.h2 = nn.Linear(width, width)\n",
        "    \n",
        "        # output layer\n",
        "        self.output = nn.Linear(width, 1)\n",
        "\n",
        "    def forward(self, x):\n",
        "    \n",
        "        # input layer\n",
        "        x = F.relu(self.input(x))\n",
        "    \n",
        "        # hidden layers\n",
        "        x = F.relu(self.h1(x))\n",
        "        x = F.relu(self.h2(x))\n",
        "        \n",
        "        # output layer\n",
        "        x = self.output(x)\n",
        "    \n",
        "        return x\n",
        "\n"
      ],
      "execution_count": 0,
      "outputs": []
    },
    {
      "cell_type": "markdown",
      "metadata": {
        "colab_type": "text",
        "id": "w8DCFaewVO9T"
      },
      "source": [
        "### Classifier training with the adversary\n",
        "\n",
        "Train the classifier adversarially. Make sure you understand the code in this block."
      ]
    },
    {
      "cell_type": "code",
      "metadata": {
        "colab_type": "code",
        "id": "In-VufRz5x5c",
        "colab": {}
      },
      "source": [
        "def adversarial_training(generating_function, N_train=200):\n",
        "    \n",
        "    # determine the size of hte classifier\n",
        "    X, _, _,_ = generating_function(10)\n",
        "    n_inputs = X.shape[1]\n",
        "    \n",
        "    # create the classifier and the adversary networks\n",
        "    clf = Classifier(10, n_inputs=n_inputs)\n",
        "    adv = Regressor(10)\n",
        "\n",
        "    # training settings\n",
        "    learning_rate = 0.001\n",
        "    lam = 10.0 # lambda tradeoff parameter\n",
        "\n",
        "    # choose the criterions\n",
        "    clf_criterion = nn.BCELoss()\n",
        "    adv_criterion = nn.MSELoss()\n",
        "\n",
        "    # create optimisers (larger learning rate for the adversary )\n",
        "    clf_optimiser = torch.optim.Adam(clf.parameters(), lr=learning_rate)\n",
        "    adv_optimiser = torch.optim.Adam(adv.parameters(), lr=10*learning_rate)\n",
        "\n",
        "    # keep track of the losses\n",
        "    clf_losses = []\n",
        "    adv_losses = []\n",
        "    clf_losses_test = []\n",
        "    adv_losses_test = []\n",
        "\n",
        "    # training loop\n",
        "    for _ in range(N_train):\n",
        "\n",
        "        # create the data\n",
        "        X, Y, Z, weights = generating_function(512)\n",
        "        X = torch.as_tensor(X, dtype=torch.float)\n",
        "        Y = torch.as_tensor(Y.reshape(-1, 1), dtype=torch.float)\n",
        "        Z = torch.as_tensor(Z.reshape(-1, 1), dtype=torch.float)\n",
        "        weights = torch.as_tensor(weights.reshape(-1, 1), dtype=torch.float)\n",
        "        ##############################\n",
        "        # Update the adversary network\n",
        "        ##############################\n",
        "        M=10\n",
        "        for i in range(M):\n",
        "          # make the adversary loss\n",
        "          clf_output = clf(X)\n",
        "          adv_output = adv(clf_output)\n",
        "          adv_loss = adv_criterion(adv_output, Z)\n",
        "          adv_losses.append(adv_loss.data.numpy().item())\n",
        "\n",
        "          # backprop: adapt the adversary to the classifier (only update the adversary weights)\n",
        "          adv.zero_grad()\n",
        "          adv_loss.backward()\n",
        "          adv_optimiser.step()\n",
        "\n",
        "        ##############################\n",
        "        # Update the classifier network\n",
        "        ##############################\n",
        "    \n",
        "\n",
        "        # forward pass\n",
        "        clf_output = clf(X)\n",
        "        adv_output = adv(clf_output)\n",
        "    \n",
        "        # make the losses: both the classifier and the adversary loss\n",
        "        # combined loss: note the minus sign!\n",
        "        # (when updating the classifier, the goal is to confuse the adversary)\n",
        "        clf_loss = clf_criterion(clf_output, Y)\n",
        "        clf_loss = weights * clf_loss\n",
        "        adv_loss = adv_criterion(adv_output, Z)\n",
        "        adv_loss = weights * adv_loss\n",
        "        comb_loss = torch.mean(clf_loss - lam * adv_loss)\n",
        "            \n",
        "        # backprop the classifier: update only the classifier weights (keep adversary intact)\n",
        "        clf.zero_grad()\n",
        "        comb_loss.backward()\n",
        "        clf_optimiser.step()\n",
        "            \n",
        "        #clf_losses.append(clf_loss.data.numpy().item())\n",
        "    \n",
        "        #######################\n",
        "        # store the test losses\n",
        "        #######################\n",
        "        X_test, Y_test, _,weights_test = generating_function(512, train=False)\n",
        "        X_test = torch.as_tensor(X_test, dtype=torch.float)\n",
        "        Y_test = torch.as_tensor(Y_test.reshape(-1, 1), dtype=torch.float)\n",
        "        output_test = clf(X_test)\n",
        "        loss_test = clf_criterion(output_test, Y_test)\n",
        "        clf_losses_test.append(loss_test.data.numpy().item())\n",
        "    \n",
        "    print('Done with training')\n",
        "\n",
        "    fig, ax = plt.subplots(2, sharex=True)\n",
        "    ax[0].plot(range(len(clf_losses)), clf_losses, label='train loss')\n",
        "    ax[0].plot(range(len(clf_losses_test)), clf_losses_test, label='test loss')\n",
        "    ax[0].set_ylabel('Classifier loss')\n",
        "    ax[0].legend(loc='best')\n",
        "    ax[1].plot(range(len(adv_losses)), adv_losses, color='k')\n",
        "    ax[1].set_ylabel('Adversary loss')\n",
        "    ax[1].set_xlabel('Training step')\n",
        "    plt.show()\n",
        "    \n",
        "    return clf\n",
        "\n",
        "\n",
        "#clf_toys_adv = adversarial_training(generate_toys, 300)\n",
        "#evaluate_classifier(clf_toys_adv, generate_toys)"
      ],
      "execution_count": 0,
      "outputs": []
    },
    {
      "cell_type": "markdown",
      "metadata": {
        "colab_type": "text",
        "id": "Qk_r98gq-yfc"
      },
      "source": [
        "# 2 Physics example\n",
        "\n",
        "Here we look at a physically interesting situation: Search for a Standard Model Higgs boson produced in association with a vector boson decaying to a pair of bottom quarks (VH->bb). While there are several backgrounds in the real analysis we will focus on just one, Z+jets.\n",
        "\n",
        "The goal of the classification task is to separate H->bb events from the Z+jets background without learning the mass of the di-b-jet system.\n",
        "\n",
        "-----\n",
        "\n",
        "Thanks to Philipp Windischhofer for producing and sharing these MadGraph samples!"
      ]
    },
    {
      "cell_type": "markdown",
      "metadata": {
        "colab_type": "text",
        "id": "sRT24l4obnBk"
      },
      "source": [
        "## 2.1 Visualise the data"
      ]
    },
    {
      "cell_type": "markdown",
      "metadata": {
        "colab_type": "text",
        "id": "DJMjEILImjr6"
      },
      "source": [
        "### Get the data\n",
        "\n",
        "This will download ~12MB, will hopefully take no more than a minute."
      ]
    },
    {
      "cell_type": "code",
      "metadata": {
        "id": "NzKO2WDq2mbK",
        "colab_type": "code",
        "colab": {}
      },
      "source": [
        "    # ------------------------------------------\n",
        "    # load pickled numpy arrays or HDF5 as input data\n",
        "    # ------------------------------------------\n",
        "    def unpickle(fileName):\n",
        "        # pickled and gzipped numpy arrays\n",
        "        if fileName.endswith('.dmpz') or fileName.endswith('.dmp'):\n",
        "            inputFile = gzip.open(fileName,'rb') if fileName.endswith('.dmpz') else open(fileName, \"rb\")\n",
        "            try:\n",
        "                data = pickle.load(inputFile, encoding='latin1')\n",
        "            except:\n",
        "                data = pickle.load(inputFile)\n",
        "            inputFile.close()\n",
        "        # HDF5 (smaller, recommended)\n",
        "        elif fileName.endswith('.h5') or fileName.endswith('.hdf5'):\n",
        "            data = {}\n",
        "            with h5py.File(fileName, \"r\") as f:\n",
        "                for k in ['meta', 'category_labels']:\n",
        "                    data[k] = dict(json.loads(f.attrs[k].decode('utf-8'))) #py3 no .decode('utf-8') needed\n",
        "                for k in ['train', 'test']:\n",
        "                    data[k] = {k2: f.get(k + '/' + k2).value for k2 in ['X', 'y']}\n",
        "                    #optional: 'sample_weight', 'sample_weight_error'\n",
        "                    try:\n",
        "                        data[k]['sample_weight'] = f.get(k + '/sample_weight').value\n",
        "                    except:\n",
        "                        data[k]['sample_weight'] = np.full(len(data[k]['y']), 1.0, dtype=np.float32)\n",
        "                    try:\n",
        "                        data[k]['sample_weight_error'] = f.get(k + '/sample_weight_error').value\n",
        "                    except:\n",
        "                        data[k]['sample_weight_error'] = np.full(len(data[k]['y']), 0.0, dtype=np.float32)\n",
        "\n",
        "                try:\n",
        "                    for k in ['data']:\n",
        "                        data[k] = {k2: f.get(k + '/' + k2).value for k2 in ['X']}\n",
        "                    print(\"INFO: DATA included in H5 file, can make DATA/MC plots!\")\n",
        "                except:\n",
        "                    pass\n",
        "\n",
        "        # print meta data\n",
        "        if 'meta' in data:\n",
        "            print(\"INFO: read inputs from disk, metadata is pesent:\")\n",
        "            for k in sorted(data['meta'].keys()):\n",
        "                print(\"INFO:  >  \",k,data['meta'][k])\n",
        "        return data\n"
      ],
      "execution_count": 0,
      "outputs": []
    },
    {
      "cell_type": "code",
      "metadata": {
        "id": "ZU4Me2yG2mbS",
        "colab_type": "code",
        "colab": {}
      },
      "source": [
        "#!pip install h5py"
      ],
      "execution_count": 0,
      "outputs": []
    },
    {
      "cell_type": "code",
      "metadata": {
        "colab_type": "code",
        "id": "Mz-uNYC7BnqQ",
        "outputId": "cc18af34-7968-4482-d0eb-cf4f8121d73b",
        "colab": {
          "base_uri": "https://localhost:8080/",
          "height": 1000
        }
      },
      "source": [
        "import os\n",
        "import pandas as pd\n",
        "from sklearn.decomposition import PCA\n",
        "from sklearn.model_selection import train_test_split\n",
        "import h5py\n",
        "import json\n",
        "import numpy as np\n",
        "# download the data\n",
        "if not 'data_summer.h5' in os.listdir():\n",
        "    print('Downloading data:')\n",
        "    !wget https://github.com/hessikaveh/VHbbPytorch/raw/master/data_summer.h5 -O data_summer.h5\n",
        "else:\n",
        "    print('Data already downloaded')\n",
        "    print(os.listdir())\n",
        "    \n",
        "# prepare the data\n",
        "\n",
        "\n",
        "#df = pd.read_pickle('MadGraph.pkl')\n",
        "#features = ['MET', 'pTB1', 'pTB2', 'dRBB', 'dEtaBB', 'dPhiMETdijet']\n",
        "#X = df[features]\n",
        "#Y = df[['Y']]\n",
        "all_features = ['recon_Wmass', 'recon_Hmass', 'deltaR_reconHW', 'recon_Hpt', 'recon_Wpt', 'deltaR_bb', 'deltaR_W', 'Jet_HT', 'bJet_pt1', 'bJet_pt2', \n",
        "                'WJet_pt1', 'WJet_pt2', 'bJet_btagDeepB1', 'bJet_btagDeepB2', 'WJet_btagDeepB1', 'WJet_btagDeepB2']\n",
        "features = ['recon_Wmass', 'deltaR_reconHW', 'recon_Hpt', 'recon_Wpt', 'deltaR_bb', 'deltaR_W', 'Jet_HT', 'bJet_pt1', 'bJet_pt2', \n",
        "                'WJet_pt1', 'WJet_pt2', 'bJet_btagDeepB1', 'bJet_btagDeepB2', 'WJet_btagDeepB1', 'WJet_btagDeepB2']\n",
        "data = unpickle(\"data_summer.h5\")\n",
        "X_train = data['train']['X']\n",
        "Y_train = data['train']['y']\n",
        "sample_weight_train = data['train']['sample_weight']\n",
        "sample_weight_train = pd.DataFrame(sample_weight_train, columns=['weight'])\n",
        "X_train = pd.DataFrame(X_train, columns=all_features)\n",
        "Y_train = pd.DataFrame(Y_train, columns=['Y'])\n",
        "Z_train = X_train[['recon_Hmass']]\n",
        "\n",
        "X_test = data['test']['X']\n",
        "Y_test = data['test']['y']\n",
        "sample_weight_test = data['test']['sample_weight']\n",
        "sample_weight_test = pd.DataFrame(sample_weight_test, columns=['weight'])\n",
        "X_test = pd.DataFrame(X_test, columns=all_features)\n",
        "Y_test = pd.DataFrame(Y_test, columns=['Y'])\n",
        "Z_test = X_test[['recon_Hmass']]\n",
        "\n",
        "del X_test['recon_Hmass']\n",
        "del X_train['recon_Hmass']\n",
        "\n",
        "#print(Z)\n",
        "# preprocessing\n",
        "X = pd.concat([X_train, X_test],axis=0, join='inner')\n",
        "Y = pd.concat([Y_train, Y_test],axis=0, join='inner')\n",
        "Z = pd.concat([Z_train, Z_test],axis=0, join='inner')\n",
        "X_pca = PCA(X.shape[1], svd_solver='auto', whiten=True)\n",
        "Z_pca = PCA(Z.shape[1], svd_solver='auto', whiten=True)\n",
        "\n",
        "X_pca.fit(X)\n",
        "Z_pca.fit(Z)\n",
        "df = pd.concat([X, Y],axis=1, join='inner')\n",
        "print (df)\n",
        "# split\n",
        "#X_train, X_test, Y_train, Y_test, Z_train, Z_test = train_test_split(X, Y, Z)\n",
        "\n",
        "def generate_hbb(n_samples, train=True):\n",
        "    \n",
        "    # test or train\n",
        "    X_full = X_train if train else X_test\n",
        "    Y_full = Y_train if train else Y_test\n",
        "    Z_full = Z_train if train else Z_test\n",
        "    weights_full = sample_weight_train if train else sample_weight_test\n",
        "    # sample the events\n",
        "    random_state = np.random.randint(0, 10000)\n",
        "    X = X_full.sample(n_samples, random_state=random_state)\n",
        "    Y = Y_full.sample(n_samples, random_state=random_state)\n",
        "    Z = Z_full.sample(n_samples, random_state=random_state)\n",
        "    weights = weights_full.sample(n_samples, random_state=random_state)\n",
        "    # preprocess them\n",
        "    return X_pca.transform(X), Y.values, Z_pca.transform(Z), weights.values\n",
        "    #return X.values, Y.values, Z.values\n",
        "X, Y, Z, weights = generate_hbb(500, train=True)\n"
      ],
      "execution_count": 53,
      "outputs": [
        {
          "output_type": "stream",
          "text": [
            "Data already downloaded\n",
            "['.config', 'data_summer.h5', 'tutorial-progress.h5', 'tutorial.h5', 'temp.png', 'tutorial.json', 'sample_data']\n",
            "INFO: read inputs from disk, metadata is pesent:\n",
            "INFO:  >   variables recon_Wmass recon_Hmass deltaR_reconHW recon_Hpt recon_Wpt deltaR_bb deltaR_W Jet_HT bJet_pt1 bJet_pt2 WJet_pt1 WJet_pt2 bJet_btagDeepB1 bJet_btagDeepB2 WJet_btagDeepB1 WJet_btagDeepB2\n",
            "     recon_Wmass  deltaR_reconHW  ...  WJet_btagDeepB2    Y\n",
            "0      78.086906        2.366819  ...        -2.000000  0.0\n",
            "1     245.565460        4.245843  ...         0.109497  0.0\n",
            "2      57.747253        5.426533  ...         0.035126  0.0\n",
            "3      80.928177        2.579264  ...         0.021042  0.0\n",
            "4      38.834217        3.117774  ...         0.958496  0.0\n",
            "5      78.431854        4.290402  ...         0.510742  0.0\n",
            "6      90.549126        3.121130  ...         0.090637  0.0\n",
            "7      74.681236        2.503025  ...         0.994141  0.0\n",
            "8      69.365883        1.016159  ...         0.996094  0.0\n",
            "9      74.555595        3.138494  ...         0.053894  0.0\n",
            "10     93.181602        1.526222  ...         0.008873  0.0\n",
            "11     77.944824        2.309811  ...         0.982910  0.0\n",
            "12     87.715630        1.907558  ...         0.683105  0.0\n",
            "13     92.084694        3.194723  ...         0.193481  0.0\n",
            "14     76.396591        2.900568  ...         0.285156  0.0\n",
            "15     73.453674        8.456326  ...        -2.000000  0.0\n",
            "16    683.749939        3.321496  ...         0.998047  0.0\n",
            "17     66.946938        2.199452  ...         0.056732  0.0\n",
            "18     84.098915        3.339751  ...         0.791992  0.0\n",
            "19     82.991959        3.123913  ...         0.924805  0.0\n",
            "20     84.713890        1.895923  ...         0.999023  0.0\n",
            "21     64.880386        2.993032  ...         0.197876  0.0\n",
            "22     72.848694        3.055925  ...         0.020203  0.0\n",
            "23     80.980698        3.136620  ...         0.999023  0.0\n",
            "24     83.381233        2.812377  ...        -2.000000  0.0\n",
            "25     67.569405        3.085133  ...         0.079773  0.0\n",
            "26     90.660141        3.887024  ...         0.286377  0.0\n",
            "27    178.068695        3.141827  ...         0.502930  0.0\n",
            "28     73.604515        2.606608  ...         0.120605  0.0\n",
            "29     80.948296        2.216870  ...         0.981934  0.0\n",
            "..           ...             ...  ...              ...  ...\n",
            "556    26.837444        2.702923  ...        -2.000000  1.0\n",
            "557   795.734741        7.950329  ...        -2.000000  1.0\n",
            "558    36.951515        2.135861  ...         0.507812  1.0\n",
            "559    80.715927        2.934367  ...         0.019135  1.0\n",
            "560    86.126465        3.866610  ...        -2.000000  1.0\n",
            "561    65.335510        5.342518  ...         0.495850  1.0\n",
            "562    93.233887        4.149575  ...         0.936035  1.0\n",
            "563    52.390236        3.272770  ...         0.039978  1.0\n",
            "564   423.440308        3.164924  ...         0.982422  1.0\n",
            "565   446.211609        1.468539  ...         0.829590  1.0\n",
            "566    46.841885        3.001044  ...        -2.000000  1.0\n",
            "567    88.133751        4.316540  ...         0.011841  1.0\n",
            "568    86.466789        2.327233  ...         0.998047  1.0\n",
            "569    66.580887        2.230695  ...        -2.000000  1.0\n",
            "570    61.068905        5.541762  ...         0.889648  1.0\n",
            "571   152.410522        3.038976  ...         0.623535  1.0\n",
            "572    95.460342        2.708308  ...         0.157349  1.0\n",
            "573    39.851028        3.722878  ...         0.187012  1.0\n",
            "574    77.811569        3.089219  ...         0.085327  1.0\n",
            "575    54.132572        1.921085  ...         0.998047  1.0\n",
            "576   401.372986        0.536620  ...         0.987305  1.0\n",
            "577    84.391685        7.241659  ...        -2.000000  1.0\n",
            "578    67.981033        7.683262  ...         0.960449  1.0\n",
            "579    60.151287        3.314686  ...         0.553711  1.0\n",
            "580   326.179535        4.211267  ...         0.742676  1.0\n",
            "581    51.687580        2.967534  ...        -2.000000  1.0\n",
            "582    41.494678        1.720187  ...         0.990723  1.0\n",
            "583   247.191589        3.285344  ...         0.893555  1.0\n",
            "584    90.491051        4.713316  ...         0.841309  1.0\n",
            "585    89.559189        4.676655  ...         0.013573  1.0\n",
            "\n",
            "[1179 rows x 16 columns]\n"
          ],
          "name": "stdout"
        }
      ]
    },
    {
      "cell_type": "markdown",
      "metadata": {
        "colab_type": "text",
        "id": "mKasny7bcS2c"
      },
      "source": [
        "### Show the data\n",
        "\n",
        "Here, let's take a look at a few kinematic variables for the signal and background samples."
      ]
    },
    {
      "cell_type": "code",
      "metadata": {
        "colab_type": "code",
        "id": "Gf2rDRRrCFUR",
        "outputId": "3f740526-83b9-48f2-f660-b58311bb4034",
        "colab": {
          "base_uri": "https://localhost:8080/",
          "height": 1000
        }
      },
      "source": [
        "for feature in features:\n",
        "    fig, ax = plt.subplots()\n",
        "    print(feature)\n",
        "    _ = ax.hist(df.query('Y==1')[feature], bins=30, alpha=0.5, density=True, color='tomato', label='H->bb')\n",
        "    _ = ax.hist(df.query('Y==0')[feature], bins=30, alpha=0.5, density=True, color='darkblue', label='QCD')\n",
        "    ax.set_title(feature)\n",
        "    ax.legend(loc='best')"
      ],
      "execution_count": 54,
      "outputs": [
        {
          "output_type": "stream",
          "text": [
            "recon_Wmass\n",
            "deltaR_reconHW\n",
            "recon_Hpt\n",
            "recon_Wpt\n",
            "deltaR_bb\n",
            "deltaR_W\n",
            "Jet_HT\n",
            "bJet_pt1\n",
            "bJet_pt2\n",
            "WJet_pt1\n",
            "WJet_pt2\n",
            "bJet_btagDeepB1\n",
            "bJet_btagDeepB2\n",
            "WJet_btagDeepB1\n",
            "WJet_btagDeepB2\n"
          ],
          "name": "stdout"
        },
        {
          "output_type": "display_data",
          "data": {
            "image/png": "[encoded data removed]",
            "text/plain": [
              "<Figure size 432x288 with 1 Axes>"
            ]
          },
          "metadata": {
            "tags": []
          }
        },
        {
          "output_type": "display_data",
          "data": {
            "image/png": "[encoded data removed]",
            "text/plain": [
              "<Figure size 432x288 with 1 Axes>"
            ]
          },
          "metadata": {
            "tags": []
          }
        },
        {
          "output_type": "display_data",
          "data": {
            "image/png": "[encoded data removed]",
            "text/plain": [
              "<Figure size 432x288 with 1 Axes>"
            ]
          },
          "metadata": {
            "tags": []
          }
        },
        {
          "output_type": "display_data",
          "data": {
            "image/png": "[encoded data removed]",
            "text/plain": [
              "<Figure size 432x288 with 1 Axes>"
            ]
          },
          "metadata": {
            "tags": []
          }
        },
        {
          "output_type": "display_data",
          "data": {
            "image/png": "[encoded data removed]",
            "text/plain": [
              "<Figure size 432x288 with 1 Axes>"
            ]
          },
          "metadata": {
            "tags": []
          }
        },
        {
          "output_type": "display_data",
          "data": {
            "image/png": "[encoded data removed]",
            "text/plain": [
              "<Figure size 432x288 with 1 Axes>"
            ]
          },
          "metadata": {
            "tags": []
          }
        },
        {
          "output_type": "display_data",
          "data": {
            "image/png": "[encoded data removed]",
            "text/plain": [
              "<Figure size 432x288 with 1 Axes>"
            ]
          },
          "metadata": {
            "tags": []
          }
        },
        {
          "output_type": "display_data",
          "data": {
            "image/png": "[encoded data removed]",
            "text/plain": [
              "<Figure size 432x288 with 1 Axes>"
            ]
          },
          "metadata": {
            "tags": []
          }
        },
        {
          "output_type": "display_data",
          "data": {
            "image/png": "[encoded data removed]",
            "text/plain": [
              "<Figure size 432x288 with 1 Axes>"
            ]
          },
          "metadata": {
            "tags": []
          }
        },
        {
          "output_type": "display_data",
          "data": {
            "image/png": "[encoded data removed]",
            "text/plain": [
              "<Figure size 432x288 with 1 Axes>"
            ]
          },
          "metadata": {
            "tags": []
          }
        },
        {
          "output_type": "display_data",
          "data": {
            "image/png": "[encoded data removed]",
            "text/plain": [
              "<Figure size 432x288 with 1 Axes>"
            ]
          },
          "metadata": {
            "tags": []
          }
        },
        {
          "output_type": "display_data",
          "data": {
            "image/png": "[encoded data removed]",
            "text/plain": [
              "<Figure size 432x288 with 1 Axes>"
            ]
          },
          "metadata": {
            "tags": []
          }
        },
        {
          "output_type": "display_data",
          "data": {
            "image/png": "[encoded data removed]",
            "text/plain": [
              "<Figure size 432x288 with 1 Axes>"
            ]
          },
          "metadata": {
            "tags": []
          }
        },
        {
          "output_type": "display_data",
          "data": {
            "image/png": "[encoded data removed]",
            "text/plain": [
              "<Figure size 432x288 with 1 Axes>"
            ]
          },
          "metadata": {
            "tags": []
          }
        },
        {
          "output_type": "display_data",
          "data": {
            "image/png": "[encoded data removed]",
            "text/plain": [
              "<Figure size 432x288 with 1 Axes>"
            ]
          },
          "metadata": {
            "tags": []
          }
        }
      ]
    },
    {
      "cell_type": "markdown",
      "metadata": {
        "colab_type": "text",
        "id": "chaj_pnyms_5"
      },
      "source": [
        "## 2.2 Normal training"
      ]
    },
    {
      "cell_type": "markdown",
      "metadata": {
        "id": "02gZxCChTvxu",
        "colab_type": "text"
      },
      "source": [
        "**Using Keras**"
      ]
    },
    {
      "cell_type": "code",
      "metadata": {
        "id": "oznVDgQcTudg",
        "colab_type": "code",
        "colab": {
          "base_uri": "https://localhost:8080/",
          "height": 446
        },
        "outputId": "4769ce2c-77a1-422c-a9cf-6cac12a63903"
      },
      "source": [
        "from keras.models import Model\n",
        "from keras.layers import Dense, Dropout, Input\n",
        "inputs = Input(shape=(X_train.shape[1], )) # placeholder\n",
        "\n",
        "hidden = Dense(10, activation='relu')(inputs)\n",
        "hidden = Dropout(0.2)(hidden)\n",
        "hidden = Dense(20, activation='relu')(hidden)\n",
        "hidden = Dropout(0.2)(hidden)\n",
        "hidden = Dense(30, activation='relu')(hidden)\n",
        "hidden = Dropout(0.2)(hidden)\n",
        "outputs = Dense(3, activation='softmax')(hidden)\n",
        "# last layer has to have the same dimensionality as the number of classes we want to predict, here 3\n",
        "\n",
        "model = Model(inputs, outputs)\n",
        "print (model.summary())"
      ],
      "execution_count": 55,
      "outputs": [
        {
          "output_type": "stream",
          "text": [
            "_________________________________________________________________\n",
            "Layer (type)                 Output Shape              Param #   \n",
            "=================================================================\n",
            "input_3 (InputLayer)         (None, 15)                0         \n",
            "_________________________________________________________________\n",
            "dense_9 (Dense)              (None, 10)                160       \n",
            "_________________________________________________________________\n",
            "dropout_7 (Dropout)          (None, 10)                0         \n",
            "_________________________________________________________________\n",
            "dense_10 (Dense)             (None, 20)                220       \n",
            "_________________________________________________________________\n",
            "dropout_8 (Dropout)          (None, 20)                0         \n",
            "_________________________________________________________________\n",
            "dense_11 (Dense)             (None, 30)                630       \n",
            "_________________________________________________________________\n",
            "dropout_9 (Dropout)          (None, 30)                0         \n",
            "_________________________________________________________________\n",
            "dense_12 (Dense)             (None, 3)                 93        \n",
            "=================================================================\n",
            "Total params: 1,103\n",
            "Trainable params: 1,103\n",
            "Non-trainable params: 0\n",
            "_________________________________________________________________\n",
            "None\n"
          ],
          "name": "stdout"
        }
      ]
    },
    {
      "cell_type": "code",
      "metadata": {
        "id": "jiRTtbkIUWi8",
        "colab_type": "code",
        "colab": {
          "base_uri": "https://localhost:8080/",
          "height": 982
        },
        "outputId": "42a7f775-955f-414a-a421-c94031337704"
      },
      "source": [
        "from keras.utils.vis_utils import plot_model\n",
        "plot_model(model, 'temp.png', show_shapes=True)\n",
        "\n",
        "model.compile('adam', 'sparse_categorical_crossentropy')\n",
        " \n",
        "from keras.callbacks import EarlyStopping, ModelCheckpoint\n",
        "from collections import Counter\n",
        "print( Counter(Y_test) )\n",
        "# uneven classes\n",
        "\n",
        "print('Training:')\n",
        "try:\n",
        "    model.fit(\n",
        "        X_train, Y_train, class_weight={ # rebalance class representation\n",
        "            0 : 0.50 * (float(len(Y)) / (Y == 0).sum()),\n",
        "            1 : 0.50 * (float(len(Y)) / (Y == 1).sum()),\n",
        "            #2 : 0.40 * (float(len(Y)) / (Y == 2).sum())\n",
        "        },\n",
        "        callbacks = [\n",
        "            EarlyStopping(verbose=True, patience=10, monitor='val_loss'),\n",
        "            ModelCheckpoint('tutorial-progress.h5', monitor='val_loss', verbose=True, save_best_only=True)\n",
        "        ],\n",
        "        epochs=10, \n",
        "        validation_split = 0.2,\n",
        "        verbose=True\n",
        ") \n",
        "except KeyboardInterrupt:\n",
        "    print( 'Training ended early.' )\n",
        "# -- load in best network\n",
        "model.load_weights('tutorial-progress.h5')\n",
        "\n",
        "# -- Save network weights and structure\n",
        "print( 'Saving model...' )\n",
        "model.save_weights('tutorial.h5', overwrite=True)\n",
        "json_string = model.to_json()\n",
        "open('tutorial.json', 'w').write(json_string)\n",
        "print( 'Done' )\n",
        "\n",
        "print( 'Testing...' )\n",
        "yhat = model.predict(X_test, verbose = True, batch_size = 512) \n",
        "\n",
        "# predictions\n",
        "print(yhat)"
      ],
      "execution_count": 63,
      "outputs": [
        {
          "output_type": "stream",
          "text": [
            "Counter({'Y': 1})\n",
            "Training:\n",
            "Train on 474 samples, validate on 119 samples\n",
            "Epoch 1/10\n",
            "474/474 [==============================] - 1s 2ms/step - loss: 2.5685 - val_loss: 25.4873\n",
            "\n",
            "Epoch 00001: val_loss improved from inf to 25.48727, saving model to tutorial-progress.h5\n",
            "Epoch 2/10\n",
            "474/474 [==============================] - 0s 73us/step - loss: 0.9758 - val_loss: 31.5339\n",
            "\n",
            "Epoch 00002: val_loss did not improve from 25.48727\n",
            "Epoch 3/10\n",
            "474/474 [==============================] - 0s 75us/step - loss: 0.3366 - val_loss: 34.0051\n",
            "\n",
            "Epoch 00003: val_loss did not improve from 25.48727\n",
            "Epoch 4/10\n",
            "474/474 [==============================] - 0s 73us/step - loss: 0.1915 - val_loss: 36.1322\n",
            "\n",
            "Epoch 00004: val_loss did not improve from 25.48727\n",
            "Epoch 5/10\n",
            "474/474 [==============================] - 0s 72us/step - loss: 0.1462 - val_loss: 37.5273\n",
            "\n",
            "Epoch 00005: val_loss did not improve from 25.48727\n",
            "Epoch 6/10\n",
            "474/474 [==============================] - 0s 74us/step - loss: 0.1156 - val_loss: 39.0240\n",
            "\n",
            "Epoch 00006: val_loss did not improve from 25.48727\n",
            "Epoch 7/10\n",
            "474/474 [==============================] - 0s 80us/step - loss: 0.0850 - val_loss: 39.6695\n",
            "\n",
            "Epoch 00007: val_loss did not improve from 25.48727\n",
            "Epoch 8/10\n",
            "474/474 [==============================] - 0s 71us/step - loss: 0.0473 - val_loss: 40.0201\n",
            "\n",
            "Epoch 00008: val_loss did not improve from 25.48727\n",
            "Epoch 9/10\n",
            "474/474 [==============================] - 0s 75us/step - loss: 0.0229 - val_loss: 40.1945\n",
            "\n",
            "Epoch 00009: val_loss did not improve from 25.48727\n",
            "Epoch 10/10\n",
            "474/474 [==============================] - 0s 74us/step - loss: 0.0140 - val_loss: 40.3012\n",
            "\n",
            "Epoch 00010: val_loss did not improve from 25.48727\n",
            "Saving model...\n",
            "Done\n",
            "Testing...\n",
            "586/586 [==============================] - 0s 525us/step\n",
            "[[1.00e+00 1.95e-12 2.75e-12]\n",
            " [1.00e+00 0.00e+00 2.03e-36]\n",
            " [1.00e+00 2.12e-06 3.85e-07]\n",
            " ...\n",
            " [1.00e+00 7.16e-17 5.15e-22]\n",
            " [1.00e+00 5.13e-12 2.18e-12]\n",
            " [7.42e-01 2.50e-01 8.10e-03]]\n"
          ],
          "name": "stdout"
        }
      ]
    },
    {
      "cell_type": "code",
      "metadata": {
        "id": "tGJYjd7EV5cA",
        "colab_type": "code",
        "colab": {
          "base_uri": "https://localhost:8080/",
          "height": 739
        },
        "outputId": "9afe7b6b-4364-4ae2-a681-3f24c710b15f"
      },
      "source": [
        "# -- turn them into classes\n",
        "yhat_cls = np.argmax(yhat, axis=1)\n",
        "\n",
        "import itertools\n",
        "from sklearn.metrics import confusion_matrix\n",
        "\n",
        "def plot_confusion_matrix(cm, classes,\n",
        "                          normalize=False,\n",
        "                          title='Confusion matrix',\n",
        "                          cmap=plt.cm.Blues):\n",
        "    \"\"\"\n",
        "    This function prints and plots the confusion matrix.\n",
        "    Normalization can be applied by setting `normalize=True`.\n",
        "    \"\"\"\n",
        "    if normalize:\n",
        "        cm = cm.astype('float') / cm.sum(axis=1)[:, np.newaxis]\n",
        "        print(\"Normalized confusion matrix\")\n",
        "    else:\n",
        "        print('Confusion matrix, without normalization')\n",
        "\n",
        "    print(cm)\n",
        "\n",
        "    plt.imshow(cm, interpolation='nearest', cmap=cmap)\n",
        "    plt.title(title)\n",
        "    plt.colorbar()\n",
        "    tick_marks = np.arange(len(classes))\n",
        "    plt.xticks(tick_marks, classes, rotation=45)\n",
        "    plt.yticks(tick_marks, classes)\n",
        "\n",
        "    fmt = '.2f' if normalize else 'd'\n",
        "    thresh = cm.max() / 2.\n",
        "    for i, j in itertools.product(range(cm.shape[0]), range(cm.shape[1])):\n",
        "        plt.text(j, i, format(cm[i, j], fmt),\n",
        "                 horizontalalignment=\"center\",\n",
        "                 color=\"white\" if cm[i, j] > thresh else \"black\")\n",
        "\n",
        "    plt.tight_layout()\n",
        "    plt.ylabel('True label')\n",
        "    plt.xlabel('Predicted label')\n",
        "    plt.savefig(\"confusion.png\")\n",
        "\n",
        "#print(sample_weight_test, Y_test, yhat_cls)\n",
        "# Compute confusion matrix\n",
        "#cnf_matrix = confusion_matrix(Y_test, yhat_cls, sample_weight=sample_weight_test)\n",
        "cnf_matrix = confusion_matrix(Y_test, yhat_cls)\n",
        "np.set_printoptions(precision=2)\n",
        "plot_confusion_matrix(cnf_matrix, classes=['Hbb', 'QCD],\n",
        "                      normalize=True,\n",
        "                      title='Normalized confusion matrix')\n",
        "# signal eff = weighted tpr --> out of all signal events, what % for we classify as signal?\n",
        "print ('Signal efficiency:', sample_weight_test[(Y_test == 0) & (yhat_cls == 0)].sum() / sample_weight_test[Y_test == 0].sum())\n",
        "\n",
        "# bkg eff = weighted fpr --> out of all bkg events, what % do we classify as signal?\n",
        "b_eff = sample_weight_test[(Y_test != 0) & (yhat_cls == 0)].sum() / sample_weight_test[Y_test != 0].sum()\n",
        "print ('Background efficiency:', b_eff)\n",
        "print ('Background rej:', 1 / b_eff)"
      ],
      "execution_count": 68,
      "outputs": [
        {
          "output_type": "stream",
          "text": [
            "Normalized confusion matrix\n",
            "[[0.99 0.01]\n",
            " [0.99 0.01]]\n"
          ],
          "name": "stdout"
        },
        {
          "output_type": "error",
          "ename": "ValueError",
          "evalue": "ignored",
          "traceback": [
            "\u001b[0;31m---------------------------------------------------------------------------\u001b[0m",
            "\u001b[0;31mValueError\u001b[0m                                Traceback (most recent call last)",
            "\u001b[0;32m<ipython-input-68-a66c49080776>\u001b[0m in \u001b[0;36m<module>\u001b[0;34m()\u001b[0m\n\u001b[1;32m     48\u001b[0m                       title='Normalized confusion matrix')\n\u001b[1;32m     49\u001b[0m \u001b[0;31m# signal eff = weighted tpr --> out of all signal events, what % for we classify as signal?\u001b[0m\u001b[0;34m\u001b[0m\u001b[0;34m\u001b[0m\u001b[0;34m\u001b[0m\u001b[0m\n\u001b[0;32m---> 50\u001b[0;31m \u001b[0mprint\u001b[0m \u001b[0;34m(\u001b[0m\u001b[0;34m'Signal efficiency:'\u001b[0m\u001b[0;34m,\u001b[0m \u001b[0msample_weight_test\u001b[0m\u001b[0;34m[\u001b[0m\u001b[0;34m(\u001b[0m\u001b[0mY_test\u001b[0m \u001b[0;34m==\u001b[0m \u001b[0;36m0\u001b[0m\u001b[0;34m)\u001b[0m \u001b[0;34m&\u001b[0m \u001b[0;34m(\u001b[0m\u001b[0myhat_cls\u001b[0m \u001b[0;34m==\u001b[0m \u001b[0;36m0\u001b[0m\u001b[0;34m)\u001b[0m\u001b[0;34m]\u001b[0m \u001b[0;34m/\u001b[0m \u001b[0msample_weight_test\u001b[0m\u001b[0;34m[\u001b[0m\u001b[0mY_test\u001b[0m \u001b[0;34m==\u001b[0m \u001b[0;36m0\u001b[0m\u001b[0;34m]\u001b[0m\u001b[0;34m)\u001b[0m\u001b[0;34m\u001b[0m\u001b[0;34m\u001b[0m\u001b[0m\n\u001b[0m\u001b[1;32m     51\u001b[0m \u001b[0;34m\u001b[0m\u001b[0m\n\u001b[1;32m     52\u001b[0m \u001b[0;31m# bkg eff = weighted fpr --> out of all bkg events, what % do we classify as signal?\u001b[0m\u001b[0;34m\u001b[0m\u001b[0;34m\u001b[0m\u001b[0;34m\u001b[0m\u001b[0m\n",
            "\u001b[0;32m/usr/local/lib/python3.6/dist-packages/pandas/core/ops.py\u001b[0m in \u001b[0;36mf\u001b[0;34m(self, other, axis, level, fill_value)\u001b[0m\n\u001b[1;32m   2016\u001b[0m     \u001b[0;32mdef\u001b[0m \u001b[0mf\u001b[0m\u001b[0;34m(\u001b[0m\u001b[0mself\u001b[0m\u001b[0;34m,\u001b[0m \u001b[0mother\u001b[0m\u001b[0;34m,\u001b[0m \u001b[0maxis\u001b[0m\u001b[0;34m=\u001b[0m\u001b[0mdefault_axis\u001b[0m\u001b[0;34m,\u001b[0m \u001b[0mlevel\u001b[0m\u001b[0;34m=\u001b[0m\u001b[0;32mNone\u001b[0m\u001b[0;34m,\u001b[0m \u001b[0mfill_value\u001b[0m\u001b[0;34m=\u001b[0m\u001b[0;32mNone\u001b[0m\u001b[0;34m)\u001b[0m\u001b[0;34m:\u001b[0m\u001b[0;34m\u001b[0m\u001b[0;34m\u001b[0m\u001b[0m\n\u001b[1;32m   2017\u001b[0m \u001b[0;34m\u001b[0m\u001b[0m\n\u001b[0;32m-> 2018\u001b[0;31m         \u001b[0mother\u001b[0m \u001b[0;34m=\u001b[0m \u001b[0m_align_method_FRAME\u001b[0m\u001b[0;34m(\u001b[0m\u001b[0mself\u001b[0m\u001b[0;34m,\u001b[0m \u001b[0mother\u001b[0m\u001b[0;34m,\u001b[0m \u001b[0maxis\u001b[0m\u001b[0;34m)\u001b[0m\u001b[0;34m\u001b[0m\u001b[0;34m\u001b[0m\u001b[0m\n\u001b[0m\u001b[1;32m   2019\u001b[0m \u001b[0;34m\u001b[0m\u001b[0m\n\u001b[1;32m   2020\u001b[0m         \u001b[0;32mif\u001b[0m \u001b[0misinstance\u001b[0m\u001b[0;34m(\u001b[0m\u001b[0mother\u001b[0m\u001b[0;34m,\u001b[0m \u001b[0mABCDataFrame\u001b[0m\u001b[0;34m)\u001b[0m\u001b[0;34m:\u001b[0m\u001b[0;34m\u001b[0m\u001b[0;34m\u001b[0m\u001b[0m\n",
            "\u001b[0;32m/usr/local/lib/python3.6/dist-packages/pandas/core/ops.py\u001b[0m in \u001b[0;36m_align_method_FRAME\u001b[0;34m(left, right, axis)\u001b[0m\n\u001b[1;32m   1952\u001b[0m \u001b[0;34m\u001b[0m\u001b[0m\n\u001b[1;32m   1953\u001b[0m         \u001b[0;32mif\u001b[0m \u001b[0mright\u001b[0m\u001b[0;34m.\u001b[0m\u001b[0mndim\u001b[0m \u001b[0;34m==\u001b[0m \u001b[0;36m1\u001b[0m\u001b[0;34m:\u001b[0m\u001b[0;34m\u001b[0m\u001b[0;34m\u001b[0m\u001b[0m\n\u001b[0;32m-> 1954\u001b[0;31m             \u001b[0mright\u001b[0m \u001b[0;34m=\u001b[0m \u001b[0mto_series\u001b[0m\u001b[0;34m(\u001b[0m\u001b[0mright\u001b[0m\u001b[0;34m)\u001b[0m\u001b[0;34m\u001b[0m\u001b[0;34m\u001b[0m\u001b[0m\n\u001b[0m\u001b[1;32m   1955\u001b[0m \u001b[0;34m\u001b[0m\u001b[0m\n\u001b[1;32m   1956\u001b[0m         \u001b[0;32melif\u001b[0m \u001b[0mright\u001b[0m\u001b[0;34m.\u001b[0m\u001b[0mndim\u001b[0m \u001b[0;34m==\u001b[0m \u001b[0;36m2\u001b[0m\u001b[0;34m:\u001b[0m\u001b[0;34m\u001b[0m\u001b[0;34m\u001b[0m\u001b[0m\n",
            "\u001b[0;32m/usr/local/lib/python3.6/dist-packages/pandas/core/ops.py\u001b[0m in \u001b[0;36mto_series\u001b[0;34m(right)\u001b[0m\n\u001b[1;32m   1945\u001b[0m             \u001b[0;32mif\u001b[0m \u001b[0mlen\u001b[0m\u001b[0;34m(\u001b[0m\u001b[0mleft\u001b[0m\u001b[0;34m.\u001b[0m\u001b[0mcolumns\u001b[0m\u001b[0;34m)\u001b[0m \u001b[0;34m!=\u001b[0m \u001b[0mlen\u001b[0m\u001b[0;34m(\u001b[0m\u001b[0mright\u001b[0m\u001b[0;34m)\u001b[0m\u001b[0;34m:\u001b[0m\u001b[0;34m\u001b[0m\u001b[0;34m\u001b[0m\u001b[0m\n\u001b[1;32m   1946\u001b[0m                 raise ValueError(msg.format(req_len=len(left.columns),\n\u001b[0;32m-> 1947\u001b[0;31m                                             given_len=len(right)))\n\u001b[0m\u001b[1;32m   1948\u001b[0m             \u001b[0mright\u001b[0m \u001b[0;34m=\u001b[0m \u001b[0mleft\u001b[0m\u001b[0;34m.\u001b[0m\u001b[0m_constructor_sliced\u001b[0m\u001b[0;34m(\u001b[0m\u001b[0mright\u001b[0m\u001b[0;34m,\u001b[0m \u001b[0mindex\u001b[0m\u001b[0;34m=\u001b[0m\u001b[0mleft\u001b[0m\u001b[0;34m.\u001b[0m\u001b[0mcolumns\u001b[0m\u001b[0;34m)\u001b[0m\u001b[0;34m\u001b[0m\u001b[0;34m\u001b[0m\u001b[0m\n\u001b[1;32m   1949\u001b[0m         \u001b[0;32mreturn\u001b[0m \u001b[0mright\u001b[0m\u001b[0;34m\u001b[0m\u001b[0;34m\u001b[0m\u001b[0m\n",
            "\u001b[0;31mValueError\u001b[0m: Unable to coerce to Series, length must be 1: given 586"
          ]
        },
        {
          "output_type": "display_data",
          "data": {
            "image/png": "[encoded data removed]",
            "text/plain": [
              "<Figure size 432x288 with 2 Axes>"
            ]
          },
          "metadata": {
            "tags": []
          }
        }
      ]
    },
    {
      "cell_type": "markdown",
      "metadata": {
        "colab_type": "text",
        "id": "LmqqBhb7pKV9"
      },
      "source": [
        "### Training"
      ]
    },
    {
      "cell_type": "code",
      "metadata": {
        "colab_type": "code",
        "id": "zsl7dOheELGC",
        "colab": {}
      },
      "source": [
        "clf_hbb = normal_training(generate_hbb, 300)"
      ],
      "execution_count": 0,
      "outputs": []
    },
    {
      "cell_type": "markdown",
      "metadata": {
        "colab_type": "text",
        "id": "fBqzyLmnpMCv"
      },
      "source": [
        "### Evaluation\n",
        "\n",
        "Lots of plotting code first, just look at the figures at the bottom.\n",
        "\n",
        "It can be seen that the classifier learns the mass of the two b-quarks to be a powerful discriminating variable: it preferentially selects events around the Higgs boson mass."
      ]
    },
    {
      "cell_type": "code",
      "metadata": {
        "colab_type": "code",
        "id": "JNL_YMspdzLJ",
        "colab": {}
      },
      "source": [
        "from matplotlib.lines import Line2D\n",
        "from matplotlib.patches import Patch\n",
        "\n",
        "def show_roc_curves_hbb(ax, clf, generate):\n",
        "\n",
        "    # generate test data\n",
        "    n_samples = 500\n",
        "    X, Y, Z, weights = generate(n_samples)\n",
        "    \n",
        "    # split events in the three mass ranges\n",
        "    low_z = Z_pca.transform([[115]])\n",
        "    high_z = Z_pca.transform([[125]])\n",
        "    mask_1 = (Z < low_z).ravel()\n",
        "    X_1 = X[mask_1]\n",
        "    Y_1 = Y[mask_1]\n",
        "    mask1 = (Z > high_z).ravel()\n",
        "    X1 = X[mask1]\n",
        "    Y1 = Y[mask1]\n",
        "    mask0 = ((Z > low_z) & (Z < high_z)).ravel()\n",
        "    X0 = X[mask0]\n",
        "    Y0 = Y[mask0]\n",
        "    \n",
        "    # compute the roc curves\n",
        "    Y0_pred = clf(torch.as_tensor(X0, dtype=torch.float))\n",
        "    fpr0, tpr0, _ = roc_curve(Y0, Y0_pred.data)\n",
        "\n",
        "    Y1_pred = clf(torch.as_tensor(X1, dtype=torch.float))\n",
        "    fpr1, tpr1, _ = roc_curve(Y1, Y1_pred.data)\n",
        "\n",
        "    Y_1_pred = clf(torch.as_tensor(X_1, dtype=torch.float))\n",
        "    fpr_1, tpr_1, _ = roc_curve(Y_1, Y_1_pred.data)\n",
        "\n",
        "    # draw the roc curves\n",
        "    ax.plot(fpr_1, tpr_1, c='yellow', label='mBB < 115 GeV')\n",
        "    ax.plot(fpr0, tpr0, c='red', label='115 < mBB < 125 GeV')\n",
        "    ax.plot(fpr1, tpr1, c='darkred', label='mBB > 125 GeV')\n",
        "\n",
        "    # cosmetics\n",
        "    ax.legend(loc='best')\n",
        "    ax.set_xlabel('False positive rate')\n",
        "    ax.set_ylabel('True positive rate')\n",
        "    ax.set_title('ROC curve')\n",
        "\n",
        "def show_mass_distribution(ax, clf, generate):\n",
        "    \n",
        "    # generate test data\n",
        "    n_samples = 500\n",
        "    X, Y, Z, weights = generate(n_samples)\n",
        "    \n",
        "    # split events depending on the score they get\n",
        "    Y_pred = clf(torch.as_tensor(X, dtype=torch.float)).detach().numpy()\n",
        "    median = np.percentile(Y_pred, 50)\n",
        "    #median = 0.88\n",
        "    # get the mass shape\n",
        "    mass = Z_pca.inverse_transform(Z)\n",
        "    \n",
        "    # plot stacked \n",
        "    ax.hist([mass[(Y==0) & (Y_pred>median)],mass[(Y==0) & (Y_pred<median)],   mass[(Y==1) & (Y_pred>median)], mass[(Y==1) & (Y_pred<median)] ]\n",
        "            , bins=30,stacked=True, range=(50, 200), alpha=0.5, label=[ 'bkg high score', 'bkg low score','H->bb high score', 'H->bb low score'],\n",
        "             weights=[ weights[(Y==0) & (Y_pred>median)], weights[(Y==0) & (Y_pred<median)] , weights[(Y==1) & (Y_pred>median)],weights[(Y==1) & (Y_pred<median)] ])\n",
        "    # plot inclusive spectra, and spectra with high and low scores\n",
        "    #ax.hist(mass[Y==1], bins=30, range=(50, 200), alpha=0.5, label='H->bb', color='tomato', weights=weights[Y==1])\n",
        "    #ax.hist(mass[(Y==1) & (Y_pred>median)], bins=30, range=(50, 200), histtype='step', color='tomato', weights=weights[(Y==1) & (Y_pred>median)])\n",
        "    #ax.hist(mass[(Y==1) & (Y_pred<median)], bins=30, range=(50, 200), histtype='step', color='tomato', linestyle=':', weights=weights[(Y==1) & (Y_pred<median)])\n",
        "    \n",
        "    #ax.hist(mass[Y==0], bins=30, range=(50, 200), alpha=0.5, label='Z+jets', color='darkblue', weights=weights[Y==0])\n",
        "    #ax.hist(mass[(Y==0) & (Y_pred>median)], bins=30, range=(50, 200), histtype='step', color='darkblue', weights=weights[(Y==0) & (Y_pred>median)])\n",
        "    #ax.hist(mass[(Y==0) & (Y_pred<median)], bins=30, range=(50, 200), histtype='step', color='darkblue', linestyle=':', weights=weights[(Y==0) & (Y_pred<median)])\n",
        "    \n",
        "\n",
        "    custom_lines = [Patch(facecolor='tomato', alpha=0.5),\n",
        "                    Line2D([0], [0], color='tomato'),\n",
        "                    Line2D([0], [0], color='tomato', linestyle=':'),\n",
        "                    Patch(facecolor='darkblue', alpha=0.5),\n",
        "                    Line2D([0], [0], color='darkblue'),\n",
        "                    Line2D([0], [0], color='darkblue', linestyle=':'),\n",
        "                   ]\n",
        "\n",
        "    #ax.legend(custom_lines, ['H->bb inclusive', 'H->bb high score', 'H->bb low score',\n",
        "    #                         'bkg inclusive', 'bkg high score', 'bkg low score'])\n",
        "    ax.legend()\n",
        "def show_discriminator_distribution(ax, clf, generate):\n",
        "    \n",
        "    # generate test data\n",
        "    n_samples = 500\n",
        "    X, Y, Z, weights = generate(n_samples)\n",
        "    \n",
        "    # split events depending on the score they get\n",
        "    Y_pred = clf(torch.as_tensor(X, dtype=torch.float)).detach().numpy()\n",
        "    median = np.percentile(Y_pred, 50)\n",
        "    #median = 0.88\n",
        "    # get the mass shape\n",
        "    mass = Z_pca.inverse_transform(Z)\n",
        "    print(median)\n",
        "    # plot stacked \n",
        "    #ax.hist([Y_pred[Y==0],Y_pred[(Y==0) & (Y_pred>median)],Y_pred[(Y==0) & (Y_pred<median)],   Y_pred[(Y==1) & (Y_pred>median)], Y_pred[(Y==1) & (Y_pred<median)] ]\n",
        "    #        , bins=30,stacked=True, range=(0, 1), alpha=0.5, label=['bkg inclusive', 'bkg high score', 'bkg low score','H->bb high score', 'H->bb low score'])\n",
        "#\n",
        "    ax.hist([Y_pred[(Y==0) & (Y_pred>median)],Y_pred[(Y==0) & (Y_pred<median)],  Y_pred[(Y==1) & (Y_pred>median)], Y_pred[(Y==1) & (Y_pred<median)] ]\n",
        "            , bins=30,stacked=True, range=(0, 1), alpha=0.5, label=['bkg high score', 'bkg low score','H->bb high score', 'H->bb low score'],\n",
        "             weights=[ weights[(Y==0) & (Y_pred>median)], weights[(Y==0) & (Y_pred<median)] ,weights[(Y==1) & (Y_pred>median)],weights[(Y==1) & (Y_pred<median)] ])\n",
        "    # plot inclusive spectra, and spectra with high and low scores\n",
        "    #ax.hist(mass[Y==1], bins=30, range=(50, 200), alpha=0.5, label='H->bb', color='tomato', weights=weights[Y==1])\n",
        "    #ax.hist(mass[(Y==1) & (Y_pred>median)], bins=30, range=(50, 200), histtype='step', color='tomato', weights=weights[(Y==1) & (Y_pred>median)])\n",
        "    #ax.hist(mass[(Y==1) & (Y_pred<median)], bins=30, range=(50, 200), histtype='step', color='tomato', linestyle=':', weights=weights[(Y==1) & (Y_pred<median)])\n",
        "    \n",
        "    #ax.hist(mass[Y==0], bins=30, range=(50, 200), alpha=0.5, label='Z+jets', color='darkblue', weights=weights[Y==0])\n",
        "    #ax.hist(mass[(Y==0) & (Y_pred>median)], bins=30, range=(50, 200), histtype='step', color='darkblue', weights=weights[(Y==0) & (Y_pred>median)])\n",
        "    #ax.hist(mass[(Y==0) & (Y_pred<median)], bins=30, range=(50, 200), histtype='step', color='darkblue', linestyle=':', weights=weights[(Y==0) & (Y_pred<median)])\n",
        "    \n",
        "\n",
        "    custom_lines = [Patch(facecolor='tomato', alpha=0.5),\n",
        "                    Line2D([0], [0], color='tomato'),\n",
        "                    Line2D([0], [0], color='tomato', linestyle=':'),\n",
        "                    Patch(facecolor='darkblue', alpha=0.5),\n",
        "                    Line2D([0], [0], color='darkblue'),\n",
        "                    Line2D([0], [0], color='darkblue', linestyle=':'),\n",
        "                   ]\n",
        "\n",
        "    #ax.legend(custom_lines, ['H->bb inclusive', 'H->bb high score', 'H->bb low score',\n",
        "    #                         'bkg inclusive', 'bkg high score', 'bkg low score'])\n",
        "    ax.legend()\n",
        "\n",
        "def evaluate_hbb_classifier(clf, generate):\n",
        "\n",
        "    fig, ax = plt.subplots(1, 2, figsize=(20, 10))\n",
        "    show_roc_curves_hbb(ax[0], clf, generate_hbb)\n",
        "    #show_mass_distribution(ax[1], clf, generate_hbb)\n",
        "    #show_discriminator_distribution(ax[1], clf, generate_hbb)\n",
        "    plt.show()\n",
        "def evaluate_hbb_classifier2(clf, generate):\n",
        "\n",
        "    fig, ax = plt.subplots(1, 2, figsize=(20, 10))\n",
        "    #show_roc_curves_hbb(ax[0], clf, generate_hbb)\n",
        "    show_mass_distribution(ax[0], clf, generate_hbb)\n",
        "    show_discriminator_distribution(ax[1], clf, generate_hbb)\n",
        "    plt.show()\n",
        "#evaluate_hbb_classifier(clf_hbb, generate_hbb)\n",
        "#evaluate_hbb_classifier2(clf_hbb, generate_hbb)"
      ],
      "execution_count": 0,
      "outputs": []
    },
    {
      "cell_type": "markdown",
      "metadata": {
        "colab_type": "text",
        "id": "edG2EH8fR1Uv"
      },
      "source": [
        "## 2.3 Adversarial training\n",
        "\n",
        "### Easy Task\n",
        "\n",
        "Now, a very short task for you! The key is to note that the adversarial training proceeds in exactly the same way as before, only with a different dataset. \n",
        "\n",
        "Task: Reuse the functions above to train your own adversarial classifier.\n",
        "\n"
      ]
    },
    {
      "cell_type": "code",
      "metadata": {
        "colab_type": "code",
        "id": "9zT1YffOe6NW",
        "colab": {}
      },
      "source": [
        "\n",
        "#\n",
        "# train the classifier here:\n",
        "clf_hbb_adv = adversarial_training(generate_hbb, 500)\n",
        "#\n",
        "# evaluate the classifier here:\n",
        "evaluate_hbb_classifier(clf_hbb_adv, generate_hbb)\n",
        "evaluate_hbb_classifier2(clf_hbb_adv, generate_hbb)\n",
        "\n",
        "#\n",
        "#\n",
        "\n",
        "\n"
      ],
      "execution_count": 0,
      "outputs": []
    },
    {
      "cell_type": "markdown",
      "metadata": {
        "colab_type": "text",
        "id": "LEhI70PCVK6W"
      },
      "source": [
        "### Solutions"
      ]
    },
    {
      "cell_type": "code",
      "metadata": {
        "colab_type": "code",
        "id": "vMDmeF56R8Hd",
        "colab": {}
      },
      "source": [
        "# <your code here>\n",
        "#\n",
        "# train the classifier here:\n",
        "#clf_hbb_adv = adversarial_training(generate_hbb, 1000)\n",
        "#\n",
        "# evaluate the classifier here:\n",
        "#evaluate_hbb_classifier(clf_hbb_adv, generate_hbb)\n",
        "#\n",
        "#\n"
      ],
      "execution_count": 0,
      "outputs": []
    },
    {
      "cell_type": "code",
      "metadata": {
        "id": "NHBOQL8C2mcL",
        "colab_type": "code",
        "colab": {}
      },
      "source": [
        "evaluate_hbb_classifier(clf_hbb_adv, generate_hbb)\n"
      ],
      "execution_count": 0,
      "outputs": []
    },
    {
      "cell_type": "markdown",
      "metadata": {
        "colab_type": "text",
        "id": "MO4A1tutnIYF"
      },
      "source": [
        "### Harder task 1\n",
        "\n",
        "Play around with the adversarial training parameters:\n",
        "\n",
        "a) What happens if you increase the number of training steps? \\\\\n",
        "b) How to get rid of the loss oscillations? Hint: is the task the adversary is trying to solve stationary? \\\\\n",
        "c) Change classifier complexity: try a linear classifier, or increase the number of layers.\n",
        "\n"
      ]
    },
    {
      "cell_type": "code",
      "metadata": {
        "colab_type": "code",
        "id": "WYKN9pzJna8W",
        "colab": {}
      },
      "source": [
        ""
      ],
      "execution_count": 0,
      "outputs": []
    },
    {
      "cell_type": "markdown",
      "metadata": {
        "colab_type": "text",
        "id": "ujqnItAAXxrq"
      },
      "source": [
        "### Harder Task 2\n",
        "\n",
        "If this is too easy, try using a different adversary:\n",
        "\n",
        "  - Gaussian mixture model, as in the original paper [1] (Keras implementation at [2]), \n",
        "  \n",
        "  or\n",
        " \n",
        "  - Mutual Information Neural Estimator (MINE) [3] (Pytorch implementation at [4])\n",
        "\n",
        "Gaussian mixture model essentially models the probability density distribution over the protected parameter Z, rather than a point estimate that we have used. The loss function is essentially a log likelihood.\n",
        "\n",
        "MINE provides a differentiable estimate of the mutual information [5] between the output of the classifier and the protected parameter, allowing the classifier to change in a way which minimises it directly.\n",
        "\n",
        "\n",
        "[1] https://arxiv.org/abs/1611.01046 \\\\\n",
        "[2] https://github.com/glouppe/paper-learning-to-pivot/blob/master/code/Toy.ipynb \\\\\n",
        "[3] https://arxiv.org/abs/1801.04062 \\\\\n",
        "[4] https://github.com/MasanoriYamada/Mine_pytorch \\\\\n",
        "[5] https://en.wikipedia.org/wiki/Mutual_information\n"
      ]
    },
    {
      "cell_type": "code",
      "metadata": {
        "colab_type": "code",
        "id": "heDz0bAuX_xX",
        "colab": {}
      },
      "source": [
        ""
      ],
      "execution_count": 0,
      "outputs": []
    }
  ]
}