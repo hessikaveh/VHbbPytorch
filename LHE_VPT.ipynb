{
 "cells": [
  {
   "cell_type": "code",
   "execution_count": 1,
   "metadata": {},
   "outputs": [
    {
     "name": "stdout",
     "output_type": "stream",
     "text": [
      "Welcome to JupyROOT 6.16/00\n"
     ]
    }
   ],
   "source": [
    "import ROOT"
   ]
  },
  {
   "cell_type": "code",
   "execution_count": 2,
   "metadata": {},
   "outputs": [],
   "source": [
    "#!pip install tqdm"
   ]
  },
  {
   "cell_type": "code",
   "execution_count": 3,
   "metadata": {},
   "outputs": [],
   "source": [
    "import glob\n",
    "from tqdm import tqdm"
   ]
  },
  {
   "cell_type": "code",
   "execution_count": 4,
   "metadata": {},
   "outputs": [],
   "source": [
    "%jsroot on"
   ]
  },
  {
   "cell_type": "code",
   "execution_count": 5,
   "metadata": {},
   "outputs": [
    {
     "name": "stdout",
     "output_type": "stream",
     "text": [
      "\n",
      "\u001b[1mRooFit v3.60 -- Developed by Wouter Verkerke and David Kirkby\u001b[0m \n",
      "                Copyright (C) 2000-2013 NIKHEF, University of California & Stanford University\n",
      "                All rights reserved, please read http://roofit.sourceforge.net/license.txt\n",
      "\n"
     ]
    }
   ],
   "source": [
    "x = ROOT.RooRealVar(\"x\",\"LHE_Vpt[GeV]\",100,800)\n",
    "\n",
    "coef0 = ROOT.RooRealVar(\"c0\",\"coefficient #0\",-1.0,-2.,2)\n",
    "coef1 = ROOT.RooRealVar(\"c1\",\"coefficient #1\",0.1,-2.,2)\n",
    "coef2 = ROOT.RooRealVar(\"c2\",\"coefficient #2\",0.1,-2.,2)\n",
    "model = ROOT.RooChebychev(\"model\",\"ratio p.d.f.\",x,ROOT.RooArgList(coef0,coef1,coef2))"
   ]
  },
  {
   "cell_type": "code",
   "execution_count": 6,
   "metadata": {},
   "outputs": [
    {
     "name": "stderr",
     "output_type": "stream",
     "text": [
      "100%|██████████| 15/15 [00:00<00:00, 1496.11it/s]\n",
      "100%|██████████| 8/8 [00:00<00:00, 3798.76it/s]\n",
      "100%|██████████| 5/5 [00:00<00:00, 2596.13it/s]\n",
      "100%|██████████| 58/58 [00:00<00:00, 28971.02it/s]\n",
      "100%|██████████| 41/41 [00:00<00:00, 22488.10it/s]\n",
      "100%|██████████| 8/8 [00:00<00:00, 4434.31it/s]\n",
      "100%|██████████| 23/23 [00:00<00:00, 44848.44it/s]\n",
      "100%|██████████| 9/9 [00:00<00:00, 5948.43it/s]\n",
      "100%|██████████| 5/5 [00:00<00:00, 2643.91it/s]\n",
      "100%|██████████| 5/5 [00:00<00:00, 2393.46it/s]\n"
     ]
    }
   ],
   "source": [
    "s_dir = \"/pnfs/desy.de/cms/tier2/store/user/hkaveh/VHbbPostNano2016/V11/\"\n",
    "\n",
    "ch_WBGen100To200 = ROOT.TChain(\"Events\")\n",
    "list_WBGen100To200files = glob.glob(s_dir+\"WJetsToLNu_BGenFilter_Wpt-100to200_TuneCUETP8M1_13TeV-madgraphMLM-pythia8/\"+\"*/*/*/*.root\")\n",
    "for f in tqdm(list_WBGen100To200files):\n",
    "    ch_WBGen100To200.Add(f)\n",
    "\n",
    "ch_WBGen200ToInf = ROOT.TChain(\"Events\")\n",
    "list_WBGen200ToInffiles = glob.glob(s_dir+\"WJetsToLNu_BGenFilter_Wpt-200toInf_TuneCUETP8M1_13TeV-madgraphMLM-pythia8/\"+\"*/*/*/*.root\")\n",
    "for f in tqdm(list_WBGen200ToInffiles):\n",
    "    ch_WBGen200ToInf.Add(f)\n",
    "        \n",
    "ch_WHT70To100 = ROOT.TChain(\"Events\")\n",
    "list_WHT70To100files = glob.glob(s_dir+\"WJetsToLNu_HT-70To100_TuneCUETP8M1_13TeV-madgraphMLM-pythia8/\"+\"*/*/*/*.root\")\n",
    "for f in tqdm(list_WHT70To100files):\n",
    "    ch_WHT70To100.Add(f)\n",
    "\n",
    "ch_WHT100To200 = ROOT.TChain(\"Events\")\n",
    "list_WHT100To200files = glob.glob(s_dir+\"WJetsToLNu_HT-100To200_TuneCUETP8M1_13TeV-madgraphMLM-pythia8/\"+\"*/*/*/*.root\")\n",
    "for f in tqdm(list_WHT100To200files):\n",
    "    ch_WHT100To200.Add(f)\n",
    "\n",
    "ch_WHT200To400 = ROOT.TChain(\"Events\")\n",
    "list_WHT200To400files = glob.glob(s_dir+\"WJetsToLNu_HT-200To400_TuneCUETP8M1_13TeV-madgraphMLM-pythia8/\"+\"*/*/*/*.root\")\n",
    "for f in tqdm(list_WHT200To400files):\n",
    "    ch_WHT200To400.Add(f)\n",
    "\n",
    "ch_WHT400To600 = ROOT.TChain(\"Events\")\n",
    "list_WHT400To600files = glob.glob(s_dir+\"WJetsToLNu_HT-400To600_TuneCUETP8M1_13TeV-madgraphMLM-pythia8/\"+\"*/*/*/*.root\")\n",
    "for f in tqdm(list_WHT400To600files):\n",
    "    ch_WHT400To600.Add(f)\n",
    "\n",
    "ch_WHT600To800 = ROOT.TChain(\"Events\")\n",
    "list_WHT600To800files = glob.glob(s_dir+\"WJetsToLNu_HT-600To800_TuneCUETP8M1_13TeV-madgraphMLM-pythia8/\"+\"*/*/*/*.root\")\n",
    "for f in tqdm(list_WHT600To800files):\n",
    "    ch_WHT600To800.Add(f)\n",
    "\n",
    "ch_WHT800To1200 = ROOT.TChain(\"Events\")\n",
    "list_WHT800To1200files = glob.glob(s_dir+\"WJetsToLNu_HT-800To1200_TuneCUETP8M1_13TeV-madgraphMLM-pythia8/\"+\"*/*/*/*.root\")\n",
    "for f in tqdm(list_WHT800To1200files):\n",
    "    ch_WHT800To1200.Add(f)\n",
    "\n",
    "ch_WHT1200To2500 = ROOT.TChain(\"Events\")\n",
    "list_WHT1200To2500files = glob.glob(s_dir+\"WJetsToLNu_HT-1200To2500_TuneCUETP8M1_13TeV-madgraphMLM-pythia8/\"+\"*/*/*/*.root\")\n",
    "for f in tqdm(list_WHT1200To2500files):\n",
    "    ch_WHT1200To2500.Add(f)\n",
    "\n",
    "ch_WHT2500ToInf = ROOT.TChain(\"Events\")\n",
    "list_WHT2500ToInffiles = glob.glob(s_dir+\"WJetsToLNu_HT-2500ToInf_TuneCUETP8M1_13TeV-madgraphMLM-pythia8/\"+\"*/*/*/*.root\")\n",
    "for f in tqdm(list_WHT2500ToInffiles):\n",
    "    ch_WHT2500ToInf.Add(f)\n",
    "        \n",
    "#ds = ROOT.RooDataSet(\"ds\",\"ds\",ROOT.RooArgSet(x))"
   ]
  },
  {
   "cell_type": "code",
   "execution_count": 7,
   "metadata": {},
   "outputs": [],
   "source": [
    "h_LHE_Vpt_WBGen100To200 = ROOT.TH1F(\"h_LHE_Vpt_WBGen100To200\",\"LHE_Vpt_WBGen100To200\", 100, 100, 800)\n",
    "h_LHE_Vpt_WBGen100To200.Sumw2()\n",
    "h_LHE_Vpt_WBGen200ToInf = ROOT.TH1F(\"h_LHE_Vpt_WBGen200ToInf\",\"LHE_Vpt_WBGen200ToInf\", 100, 100, 800)\n",
    "h_LHE_Vpt_WBGen200ToInf.Sumw2()\n",
    "\n",
    "h_LHE_Vpt_WHT70To100 = ROOT.TH1F(\"h_LHE_Vpt_WHT70To100\",\"LHE_Vpt_WHT70To100\", 100, 100, 800)\n",
    "h_LHE_Vpt_WHT70To100.Sumw2()\n",
    "h_LHE_Vpt_WHT100To200 = ROOT.TH1F(\"h_LHE_Vpt_WHT100To200\",\"LHE_Vpt_WHT100To200\", 100, 100, 800)\n",
    "h_LHE_Vpt_WHT100To200.Sumw2()\n",
    "h_LHE_Vpt_WHT200To400 = ROOT.TH1F(\"h_LHE_Vpt_WHT200To400\",\"LHE_Vpt_WHT200To400\", 100, 100, 800)\n",
    "h_LHE_Vpt_WHT200To400.Sumw2()\n",
    "h_LHE_Vpt_WHT400To600 = ROOT.TH1F(\"h_LHE_Vpt_WHT400To600\",\"LHE_Vpt_WHT400To600\", 100, 100, 800)\n",
    "h_LHE_Vpt_WHT400To600.Sumw2()\n",
    "h_LHE_Vpt_WHT600To800 = ROOT.TH1F(\"h_LHE_Vpt_WHT600To800\",\"LHE_Vpt_WHT600To800\", 100, 100, 800)\n",
    "h_LHE_Vpt_WHT600To800.Sumw2()\n",
    "h_LHE_Vpt_WHT800To1200 = ROOT.TH1F(\"h_LHE_Vpt_WHT800To1200\",\"LHE_Vpt_WHT800To1200\", 100, 100, 800)\n",
    "h_LHE_Vpt_WHT800To1200.Sumw2()\n",
    "h_LHE_Vpt_WHT1200To2500 = ROOT.TH1F(\"h_LHE_Vpt_WHT1200To2500\",\"LHE_Vpt_WHT1200To2500\", 100, 100, 800)\n",
    "h_LHE_Vpt_WHT1200To2500.Sumw2()\n",
    "h_LHE_Vpt_WHT2500ToInf = ROOT.TH1F(\"h_LHE_Vpt_WHT2500ToInf\",\"LHE_Vpt_WHT2500ToInf\", 100, 100, 800)\n",
    "h_LHE_Vpt_WHT2500ToInf.Sumw2()"
   ]
  },
  {
   "cell_type": "code",
   "execution_count": 8,
   "metadata": {},
   "outputs": [
    {
     "name": "stderr",
     "output_type": "stream",
     "text": [
      "Warning in <TClass::Init>: no dictionary for class edm::ProcessHistory is available\n",
      "Warning in <TClass::Init>: no dictionary for class edm::ProcessConfiguration is available\n",
      "Warning in <TClass::Init>: no dictionary for class edm::ParameterSetBlob is available\n",
      "Warning in <TClass::Init>: no dictionary for class edm::Hash<1> is available\n",
      "Warning in <TClass::Init>: no dictionary for class pair<edm::Hash<1>,edm::ParameterSetBlob> is available\n",
      "Info in <TCanvas::MakeDefCanvas>:  created default TCanvas with name c1\n"
     ]
    }
   ],
   "source": [
    "ch_WBGen100To200.Draw(\"LHE_Vpt>>h_LHE_Vpt_WBGen100To200\",\"nGenStatus2bHad>=1\")\n",
    "n_WBGen100To200 = ch_WBGen100To200.GetEntries()\n",
    "\n",
    "ch_WBGen200ToInf.Draw(\"LHE_Vpt>>h_LHE_Vpt_WBGen200ToInf\",\"nGenStatus2bHad>=1\")\n",
    "n_WBGen200ToInf = ch_WBGen200ToInf.GetEntries()\n",
    "\n",
    "#ch_WHT70To100.Draw(\"LHE_Vpt>>h_LHE_Vpt_WHT70To100\",\"nGenStatus2bHad>=1 && LHE_Vpt>=100\")\n",
    "#n_WHT70To100 = ch_WHT70To100.GetEntries()\n",
    "#sig_WHT70To100 = 1.21 * 1345\n",
    "\n",
    "ch_WHT100To200.Draw(\"LHE_Vpt>>h_LHE_Vpt_WHT100To200\",\"nGenStatus2bHad>=1 && LHE_Vpt>=100 && LHE_Nb==0\")\n",
    "n_WHT100To200 = ch_WHT100To200.GetEntries()\n",
    "\n",
    "ch_WHT200To400.Draw(\"LHE_Vpt>>h_LHE_Vpt_WHT200To400\",\"nGenStatus2bHad>=1 && LHE_Vpt>=100 && LHE_Nb==0\")\n",
    "n_WHT200To400 = ch_WHT200To400.GetEntries()\n",
    "\n",
    "ch_WHT400To600.Draw(\"LHE_Vpt>>h_LHE_Vpt_WHT400To600\",\"nGenStatus2bHad>=1 && LHE_Vpt>=100 && LHE_Nb==0\")\n",
    "n_WHT400To600 = ch_WHT400To600.GetEntries()\n",
    "\n",
    "ch_WHT600To800.Draw(\"LHE_Vpt>>h_LHE_Vpt_WHT600To800\",\"nGenStatus2bHad>=1 && LHE_Vpt>=100 && LHE_Nb==0\")\n",
    "n_WHT600To800 = ch_WHT600To800.GetEntries()\n",
    "\n",
    "ch_WHT800To1200.Draw(\"LHE_Vpt>>h_LHE_Vpt_WHT800To1200\",\"nGenStatus2bHad>=1 && LHE_Vpt>=100 && LHE_Nb==0\")\n",
    "n_WHT800To1200 = ch_WHT800To1200.GetEntries()\n",
    "\n",
    "ch_WHT1200To2500.Draw(\"LHE_Vpt>>h_LHE_Vpt_WHT1200To2500\",\"nGenStatus2bHad>=1 && LHE_Vpt>=100 && LHE_Nb==0\")\n",
    "n_WHT1200To2500 = ch_WHT1200To2500.GetEntries()\n",
    "\n",
    "ch_WHT2500ToInf.Draw(\"LHE_Vpt>>h_LHE_Vpt_WHT2500ToInf\",\"nGenStatus2bHad>=1 && LHE_Vpt>=100 && LHE_Nb==0\")\n",
    "n_WHT2500ToInf = ch_WHT2500ToInf.GetEntries()\n"
   ]
  },
  {
   "cell_type": "code",
   "execution_count": 8,
   "metadata": {},
   "outputs": [
    {
     "name": "stderr",
     "output_type": "stream",
     "text": [
      "Warning in <TClass::Init>: no dictionary for class edm::ProcessHistory is available\n",
      "Warning in <TClass::Init>: no dictionary for class edm::ProcessConfiguration is available\n",
      "Warning in <TClass::Init>: no dictionary for class edm::ParameterSetBlob is available\n",
      "Warning in <TClass::Init>: no dictionary for class edm::Hash<1> is available\n",
      "Warning in <TClass::Init>: no dictionary for class pair<edm::Hash<1>,edm::ParameterSetBlob> is available\n",
      "Info in <TCanvas::MakeDefCanvas>:  created default TCanvas with name c1\n"
     ]
    }
   ],
   "source": [
    "ch_WBGen100To200.Draw(\"LHE_Vpt>>h_LHE_Vpt_WBGen100To200\",\"nGenStatus2bHad>=1\")\n",
    "n_WBGen100To200 = ch_WBGen100To200.GetEntries()\n",
    "\n",
    "ch_WBGen200ToInf.Draw(\"LHE_Vpt>>h_LHE_Vpt_WBGen200ToInf\",\"nGenStatus2bHad>=1\")\n",
    "n_WBGen200ToInf = ch_WBGen200ToInf.GetEntries()\n",
    "\n",
    "#ch_WHT70To100.Draw(\"LHE_Vpt>>h_LHE_Vpt_WHT70To100\",\"nGenStatus2bHad>=1 && LHE_Vpt>=100\")\n",
    "#n_WHT70To100 = ch_WHT70To100.GetEntries()\n",
    "#sig_WHT70To100 = 1.21 * 1345\n",
    "\n",
    "ch_WHT100To200.Draw(\"LHE_Vpt>>h_LHE_Vpt_WHT100To200\",\"nGenStatus2bHad>=1 && LHE_Vpt>=100 \")\n",
    "n_WHT100To200 = ch_WHT100To200.GetEntries()\n",
    "\n",
    "ch_WHT200To400.Draw(\"LHE_Vpt>>h_LHE_Vpt_WHT200To400\",\"nGenStatus2bHad>=1 && LHE_Vpt>=100 \")\n",
    "n_WHT200To400 = ch_WHT200To400.GetEntries()\n",
    "\n",
    "ch_WHT400To600.Draw(\"LHE_Vpt>>h_LHE_Vpt_WHT400To600\",\"nGenStatus2bHad>=1 && LHE_Vpt>=100 \")\n",
    "n_WHT400To600 = ch_WHT400To600.GetEntries()\n",
    "\n",
    "ch_WHT600To800.Draw(\"LHE_Vpt>>h_LHE_Vpt_WHT600To800\",\"nGenStatus2bHad>=1 && LHE_Vpt>=100 \")\n",
    "n_WHT600To800 = ch_WHT600To800.GetEntries()\n",
    "\n",
    "ch_WHT800To1200.Draw(\"LHE_Vpt>>h_LHE_Vpt_WHT800To1200\",\"nGenStatus2bHad>=1 && LHE_Vpt>=100 \")\n",
    "n_WHT800To1200 = ch_WHT800To1200.GetEntries()\n",
    "\n",
    "ch_WHT1200To2500.Draw(\"LHE_Vpt>>h_LHE_Vpt_WHT1200To2500\",\"nGenStatus2bHad>=1 && LHE_Vpt>=100 \")\n",
    "n_WHT1200To2500 = ch_WHT1200To2500.GetEntries()\n",
    "\n",
    "ch_WHT2500ToInf.Draw(\"LHE_Vpt>>h_LHE_Vpt_WHT2500ToInf\",\"nGenStatus2bHad>=1 && LHE_Vpt>=100 \")\n",
    "n_WHT2500ToInf = ch_WHT2500ToInf.GetEntries()\n"
   ]
  },
  {
   "cell_type": "code",
   "execution_count": 9,
   "metadata": {},
   "outputs": [
    {
     "data": {
      "text/plain": [
       "True"
      ]
     },
     "execution_count": 9,
     "metadata": {},
     "output_type": "execute_result"
    }
   ],
   "source": [
    "lumi = 35900.\n",
    "k_fac = 1.21\n",
    "sig_WBGen100To200 = k_fac * 26.1 #kfactor*sigma\n",
    "sig_WBGen200ToInf = k_fac * 3.545 #kfactor*sigma\n",
    "sig_WHT100To200 = k_fac * 1345\n",
    "sig_WHT200To400 = k_fac * 359.7\n",
    "sig_WHT400To600 = k_fac * 48.91\n",
    "sig_WHT600To800 = k_fac * 12.05\n",
    "sig_WHT800To1200 = k_fac * 5.501\n",
    "sig_WHT1200To2500 = k_fac * 1.329\n",
    "sig_WHT2500ToInf = k_fac * 0.03216\n",
    "\n",
    "c = ROOT.TCanvas()\n",
    "h_LHE_Vpt_WBGen100To200.Scale(sig_WBGen100To200*lumi/n_WBGen100To200)\n",
    "h_LHE_Vpt_WBGen100To200.SetLineColor(ROOT.kGreen)\n",
    "h_LHE_Vpt_WBGen = h_LHE_Vpt_WBGen100To200.Clone()\n",
    "\n",
    "h_LHE_Vpt_WBGen200ToInf.Scale(sig_WBGen200ToInf*lumi/n_WBGen200ToInf)\n",
    "h_LHE_Vpt_WBGen200ToInf.SetLineColor(ROOT.kGreen)\n",
    "h_LHE_Vpt_WBGen.Add(h_LHE_Vpt_WBGen200ToInf)\n",
    "\n",
    "#h_LHE_Vpt_WHT70To100.Scale(sig_WHT70To100*lumi/n_WHT70To100)\n",
    "#h_LHE_Vpt_WHT70To100.Draw(\"same\")\n",
    "\n",
    "h_LHE_Vpt_WHT100To200.Scale(sig_WHT100To200*lumi/n_WHT100To200)\n",
    "h_LHE_Vpt_WHT = h_LHE_Vpt_WHT100To200.Clone()\n",
    "\n",
    "h_LHE_Vpt_WHT200To400.Scale(sig_WHT200To400*lumi/n_WHT200To400)\n",
    "h_LHE_Vpt_WHT.Add(h_LHE_Vpt_WHT200To400)\n",
    "\n",
    "h_LHE_Vpt_WHT400To600.Scale(sig_WHT400To600*lumi/n_WHT400To600)\n",
    "h_LHE_Vpt_WHT.Add(h_LHE_Vpt_WHT400To600)\n",
    "\n",
    "h_LHE_Vpt_WHT600To800.Scale(sig_WHT600To800*lumi/n_WHT600To800)\n",
    "h_LHE_Vpt_WHT.Add(h_LHE_Vpt_WHT600To800)\n",
    "\n",
    "h_LHE_Vpt_WHT800To1200.Scale(sig_WHT800To1200*lumi/n_WHT800To1200)\n",
    "h_LHE_Vpt_WHT.Add(h_LHE_Vpt_WHT800To1200)\n",
    "\n",
    "h_LHE_Vpt_WHT1200To2500.Scale(sig_WHT1200To2500*lumi/n_WHT1200To2500)\n",
    "h_LHE_Vpt_WHT.Add(h_LHE_Vpt_WHT1200To2500)\n",
    "\n",
    "h_LHE_Vpt_WHT2500ToInf.Scale(sig_WHT2500ToInf*lumi/n_WHT2500ToInf)\n",
    "h_LHE_Vpt_WHT.Add(h_LHE_Vpt_WHT2500ToInf)\n",
    "#h_LHE_Vpt_WBGen.Divide(h_LHE_Vpt_WHT)\n",
    "#h_LHE_Vpt_WBGen.Draw(\"same\")\n"
   ]
  },
  {
   "cell_type": "code",
   "execution_count": 10,
   "metadata": {},
   "outputs": [
    {
     "data": {
      "text/html": [
       "\n",
       "<div id=\"root_plot_1\"\n",
       "     style=\"width: 696px; height: 472px\">\n",
       "</div>\n",
       "\n",
       "<script>\n",
       " requirejs.config({\n",
       "     paths: {\n",
       "       'JSRootCore' : 'https://root.cern.ch/js/notebook//scripts/JSRootCore',\n",
       "     }\n",
       "   });\n",
       " require(['JSRootCore'],\n",
       "     function(Core) {\n",
       "       var obj = Core.JSONR_unref({\"_typename\":\"TCanvas\",\"fUniqueID\":0,\"fBits\":53673992,\"fLineColor\":1,\"fLineStyle\":1,\"fLineWidth\":1,\"fFillColor\":0,\"fFillStyle\":1001,\"fLeftMargin\":0.1,\"fRightMargin\":0.1,\"fBottomMargin\":0.1,\"fTopMargin\":0.1,\"fXfile\":2,\"fYfile\":2,\"fAfile\":1,\"fXstat\":0.99,\"fYstat\":0.99,\"fAstat\":2,\"fFrameFillColor\":0,\"fFrameLineColor\":1,\"fFrameFillStyle\":1001,\"fFrameLineStyle\":1,\"fFrameLineWidth\":1,\"fFrameBorderSize\":1,\"fFrameBorderMode\":0,\"fX1\":12.4999934807416,\"fY1\":-22529.8314761562,\"fX2\":887.500006519258,\"fY2\":202768.46985658,\"fXtoAbsPixelk\":-9.9428018090927,\"fXtoPixelk\":-9.9428018090927,\"fXtoPixel\":0.795428559575762,\"fYtoAbsPixelk\":424.800047186661,\"fYtoPixelk\":424.800047186661,\"fYtoPixel\":-0.00209500026057861,\"fUtoAbsPixelk\":5e-5,\"fUtoPixelk\":5e-5,\"fUtoPixel\":696,\"fVtoAbsPixelk\":472.00005,\"fVtoPixelk\":472,\"fVtoPixel\":-472,\"fAbsPixeltoXk\":12.4999934807416,\"fPixeltoXk\":12.4999934807416,\"fPixeltoX\":1.25718392677948,\"fAbsPixeltoYk\":202768.46985658,\"fPixeltoYk\":-22529.8314761562,\"fPixeltoY\":-477.326909603254,\"fXlowNDC\":0,\"fYlowNDC\":0,\"fXUpNDC\":0,\"fYUpNDC\":0,\"fWNDC\":1,\"fHNDC\":1,\"fAbsXlowNDC\":0,\"fAbsYlowNDC\":0,\"fAbsWNDC\":1,\"fAbsHNDC\":1,\"fUxmin\":100,\"fUymin\":0,\"fUxmax\":800,\"fUymax\":180238.638380424,\"fTheta\":30,\"fPhi\":30,\"fAspectRatio\":0,\"fNumber\":0,\"fTickx\":0,\"fTicky\":0,\"fLogx\":0,\"fLogy\":0,\"fLogz\":0,\"fPadPaint\":0,\"fCrosshair\":0,\"fCrosshairPos\":0,\"fBorderSize\":2,\"fBorderMode\":0,\"fModified\":false,\"fGridx\":false,\"fGridy\":false,\"fAbsCoord\":false,\"fEditable\":true,\"fFixedAspectRatio\":false,\"fPrimitives\":{\"_typename\":\"TList\",\"name\":\"TList\",\"arr\":[{\"_typename\":\"TFrame\",\"fUniqueID\":0,\"fBits\":50331656,\"fLineColor\":1,\"fLineStyle\":1,\"fLineWidth\":1,\"fFillColor\":0,\"fFillStyle\":1001,\"fX1\":100,\"fY1\":0,\"fX2\":800,\"fY2\":180238.638380424,\"fBorderSize\":1,\"fBorderMode\":0},{\"_typename\":\"TH1F\",\"fUniqueID\":0,\"fBits\":50331656,\"fName\":\"h_LHE_Vpt_WBGen100To200\",\"fTitle\":\"LHE_Vpt_WBGen100To200\",\"fLineColor\":416,\"fLineStyle\":1,\"fLineWidth\":1,\"fFillColor\":0,\"fFillStyle\":1001,\"fMarkerColor\":1,\"fMarkerStyle\":1,\"fMarkerSize\":1,\"fNcells\":102,\"fXaxis\":{\"_typename\":\"TAxis\",\"fUniqueID\":0,\"fBits\":50331648,\"fName\":\"xaxis\",\"fTitle\":\"\",\"fNdivisions\":510,\"fAxisColor\":1,\"fLabelColor\":1,\"fLabelFont\":42,\"fLabelOffset\":0.005,\"fLabelSize\":0.035,\"fTickLength\":0.03,\"fTitleOffset\":1,\"fTitleSize\":0.035,\"fTitleColor\":1,\"fTitleFont\":42,\"fNbins\":100,\"fXmin\":100,\"fXmax\":800,\"fXbins\":[],\"fFirst\":0,\"fLast\":0,\"fBits2\":0,\"fTimeDisplay\":false,\"fTimeFormat\":\"\",\"fLabels\":null,\"fModLabs\":null},\"fYaxis\":{\"_typename\":\"TAxis\",\"fUniqueID\":0,\"fBits\":50331648,\"fName\":\"yaxis\",\"fTitle\":\"\",\"fNdivisions\":510,\"fAxisColor\":1,\"fLabelColor\":1,\"fLabelFont\":42,\"fLabelOffset\":0.005,\"fLabelSize\":0.035,\"fTickLength\":0.03,\"fTitleOffset\":0,\"fTitleSize\":0.035,\"fTitleColor\":1,\"fTitleFont\":42,\"fNbins\":1,\"fXmin\":0,\"fXmax\":1,\"fXbins\":[],\"fFirst\":0,\"fLast\":0,\"fBits2\":0,\"fTimeDisplay\":false,\"fTimeFormat\":\"\",\"fLabels\":null,\"fModLabs\":null},\"fZaxis\":{\"_typename\":\"TAxis\",\"fUniqueID\":0,\"fBits\":50331648,\"fName\":\"zaxis\",\"fTitle\":\"\",\"fNdivisions\":510,\"fAxisColor\":1,\"fLabelColor\":1,\"fLabelFont\":42,\"fLabelOffset\":0.005,\"fLabelSize\":0.035,\"fTickLength\":0.03,\"fTitleOffset\":1,\"fTitleSize\":0.035,\"fTitleColor\":1,\"fTitleFont\":42,\"fNbins\":1,\"fXmin\":0,\"fXmax\":1,\"fXbins\":[],\"fFirst\":0,\"fLast\":0,\"fBits2\":0,\"fTimeDisplay\":false,\"fTimeFormat\":\"\",\"fLabels\":null,\"fModLabs\":null},\"fBarOffset\":0,\"fBarWidth\":1000,\"fEntries\":7249633,\"fTsumw\":7239967,\"fTsumw2\":7239967,\"fTsumwx\":1446818972.94884,\"fTsumwx2\":349018422017.328,\"fMaximum\":-1111,\"fMinimum\":-1111,\"fNormFactor\":0,\"fContour\":[],\"fSumw2\":[0,49988.2183349855,42095.0285032371,35974.8793742716,30989.8231999003,26934.4379143329,23710.7739232855,21138.4067136756,18769.5059789978,16731.0150736498,14894.0350523758,13317.9138464348,11927.828849082,10570.3937164905,9424.2474222636,3017.12117076322,656.574525671697,581.00798675022,513.818281911434,457.229349407384,408.611588175237,363.723041919432,323.510943599171,289.305537761509,258.633722702093,229.376579475225,207.343117163325,187.688033259858,167.571688089302,151.320465232711,136.941057071589,124.802060779192,112.07001428625,101.718405403827,92.3881607556755,84.0278002896646,76.1616483241076,69.2489069240095,63.8537974607217,57.5979415258102,53.2447883176459,48.4283146403062,44.6126131763854,41.1346208544415,37.5722012470034,35.01673145924,32.226512633761,29.6689836439124,27.0270273685695,25.6741315985771,23.497554994495,21.7122267866055,19.4265124720065,19.0743889154331,16.9781211926747,15.7837839832446,15.0280568179673,13.7081082813385,12.9997427640213,11.9927929443466,11.1938225352795,10.3330760636558,9.50527682539558,9.09343640835071,8.49832700572087,8.05353935531241,7.52020601523931,7.06924075857518,6.42676970798518,6.140540618139,5.6504505218556,5.49189196129333,5.05122271505532,4.69498075431151,4.59202065005029,4.19871305177244,3.95160880154552,3.74568859302308,3.50476194905184,3.19588163626818,3.15263839247847,2.96731020480828,2.67490350870642,2.56164739401909,2.45868728975787,2.33307596255918,2.13745176446287,2.10656373318451,1.85945948295758,1.7338481557589,1.79150581414518,1.60411842438977,1.54028315974781,1.34877736582195,1.34877736582195,1.3446589616515,1.22316603862326,1.1160875301916,1.12020593436204,1.09549550933935,0.988417000907686,19.9042473557785],\"fOption\":\"\",\"fFunctions\":{\"_typename\":\"TList\",\"name\":\"TList\",\"arr\":[{\"_typename\":\"TPaveStats\",\"fUniqueID\":0,\"fBits\":50331657,\"fLineColor\":1,\"fLineStyle\":1,\"fLineWidth\":1,\"fFillColor\":0,\"fFillStyle\":1001,\"fX1\":695.000017732382,\"fY1\":152076.353399597,\"fX2\":870.000022947789,\"fY2\":188124.080807105,\"fX1NDC\":0.780000016093254,\"fY1NDC\":0.775000005960464,\"fX2NDC\":0.980000019073486,\"fY2NDC\":0.935000002384186,\"fBorderSize\":1,\"fInit\":1,\"fShadowColor\":1,\"fCornerRadius\":0,\"fOption\":\"brNDC\",\"fName\":\"stats\",\"fTextAngle\":0,\"fTextSize\":0,\"fTextAlign\":12,\"fTextColor\":1,\"fTextFont\":42,\"fLabel\":\"\",\"fLongest\":23,\"fMargin\":0.05,\"fLines\":{\"_typename\":\"TList\",\"name\":\"TList\",\"arr\":[{\"_typename\":\"TLatex\",\"fUniqueID\":0,\"fBits\":50331648,\"fName\":\"\",\"fTitle\":\"h_LHE_Vpt_WBGen100To200\",\"fTextAngle\":0,\"fTextSize\":0.0368,\"fTextAlign\":0,\"fTextColor\":0,\"fTextFont\":0,\"fX\":0,\"fY\":0,\"fLineColor\":1,\"fLineStyle\":1,\"fLineWidth\":2,\"fLimitFactorSize\":3,\"fOriginSize\":0.0368000008165836},{\"_typename\":\"TLatex\",\"fUniqueID\":0,\"fBits\":50331648,\"fName\":\"\",\"fTitle\":\"Entries = 7249633\",\"fTextAngle\":0,\"fTextSize\":0,\"fTextAlign\":0,\"fTextColor\":0,\"fTextFont\":0,\"fX\":0,\"fY\":0,\"fLineColor\":1,\"fLineStyle\":1,\"fLineWidth\":2,\"fLimitFactorSize\":3,\"fOriginSize\":0.04},{\"_typename\":\"TLatex\",\"fUniqueID\":0,\"fBits\":50331648,\"fName\":\"\",\"fTitle\":\"Mean  =  199.8\",\"fTextAngle\":0,\"fTextSize\":0,\"fTextAlign\":0,\"fTextColor\":0,\"fTextFont\":0,\"fX\":0,\"fY\":0,\"fLineColor\":1,\"fLineStyle\":1,\"fLineWidth\":2,\"fLimitFactorSize\":3,\"fOriginSize\":0.04},{\"_typename\":\"TLatex\",\"fUniqueID\":0,\"fBits\":50331648,\"fName\":\"\",\"fTitle\":\"Std Dev   =  90.95\",\"fTextAngle\":0,\"fTextSize\":0,\"fTextAlign\":0,\"fTextColor\":0,\"fTextFont\":0,\"fX\":0,\"fY\":0,\"fLineColor\":1,\"fLineStyle\":1,\"fLineWidth\":2,\"fLimitFactorSize\":3,\"fOriginSize\":0.04}],\"opt\":[\"\",\"\",\"\",\"\"]},\"fOptFit\":0,\"fOptStat\":1111,\"fFitFormat\":\"5.4g\",\"fStatFormat\":\"6.4g\",\"fParent\":{\"$ref\":3}}],\"opt\":[\"brNDC\"]},\"fBufferSize\":0,\"fBuffer\":[],\"fBinStatErrOpt\":0,\"fStatOverflows\":2,\"fArray\":[0,171432.3,144362.9,123374.2,106278.2,92370.41,81315,72493.18,64369.15,57378.24,51078.4,45673.17,40905.93,36250.67,32320.02,19942.29,14468.87,12803.62,11322.96,10075.92,9004.533,8015.329,7129.179,6375.397,5699.486,5054.749,4569.2,4136.062,3692.761,3334.634,3017.757,2750.251,2469.676,2241.558,2035.949,1851.712,1678.367,1526.031,1407.14,1269.28,1173.35,1067.21,983.1237,906.4796,827.9749,771.6602,710.1725,653.8124,595.5919,565.7783,517.8133,478.4702,428.1001,420.3404,374.1452,347.8257,331.1718,302.0842,286.474,264.284,246.6772,227.709,209.4668,200.3912,187.2768,177.4751,165.722,155.7842,141.6261,135.3185,124.5184,121.0243,111.3133,103.4628,101.1939,92.52662,87.08121,82.54337,77.23409,70.42733,69.47438,65.39032,58.94658,56.45077,54.18185,51.41376,47.10281,46.42213,40.97672,38.20864,39.47924,35.3498,33.94307,29.72287,29.72287,29.63212,26.95479,24.59511,24.68587,24.14132,21.78165,438.6279]},{\"_typename\":\"TH1F\",\"fUniqueID\":0,\"fBits\":50331656,\"fName\":\"h_LHE_Vpt_WHT100To200\",\"fTitle\":\"LHE_Vpt_WHT100To200\",\"fLineColor\":602,\"fLineStyle\":1,\"fLineWidth\":1,\"fFillColor\":0,\"fFillStyle\":1001,\"fMarkerColor\":1,\"fMarkerStyle\":1,\"fMarkerSize\":1,\"fNcells\":102,\"fXaxis\":{\"_typename\":\"TAxis\",\"fUniqueID\":0,\"fBits\":50331648,\"fName\":\"xaxis\",\"fTitle\":\"\",\"fNdivisions\":510,\"fAxisColor\":1,\"fLabelColor\":1,\"fLabelFont\":42,\"fLabelOffset\":0.005,\"fLabelSize\":0.035,\"fTickLength\":0.03,\"fTitleOffset\":1,\"fTitleSize\":0.035,\"fTitleColor\":1,\"fTitleFont\":42,\"fNbins\":100,\"fXmin\":100,\"fXmax\":800,\"fXbins\":[],\"fFirst\":0,\"fLast\":0,\"fBits2\":0,\"fTimeDisplay\":false,\"fTimeFormat\":\"\",\"fLabels\":null,\"fModLabs\":null},\"fYaxis\":{\"_typename\":\"TAxis\",\"fUniqueID\":0,\"fBits\":50331648,\"fName\":\"yaxis\",\"fTitle\":\"\",\"fNdivisions\":510,\"fAxisColor\":1,\"fLabelColor\":1,\"fLabelFont\":42,\"fLabelOffset\":0.005,\"fLabelSize\":0.035,\"fTickLength\":0.03,\"fTitleOffset\":0,\"fTitleSize\":0.035,\"fTitleColor\":1,\"fTitleFont\":42,\"fNbins\":1,\"fXmin\":0,\"fXmax\":1,\"fXbins\":[],\"fFirst\":0,\"fLast\":0,\"fBits2\":0,\"fTimeDisplay\":false,\"fTimeFormat\":\"\",\"fLabels\":null,\"fModLabs\":null},\"fZaxis\":{\"_typename\":\"TAxis\",\"fUniqueID\":0,\"fBits\":50331648,\"fName\":\"zaxis\",\"fTitle\":\"\",\"fNdivisions\":510,\"fAxisColor\":1,\"fLabelColor\":1,\"fLabelFont\":42,\"fLabelOffset\":0.005,\"fLabelSize\":0.035,\"fTickLength\":0.03,\"fTitleOffset\":1,\"fTitleSize\":0.035,\"fTitleColor\":1,\"fTitleFont\":42,\"fNbins\":1,\"fXmin\":0,\"fXmax\":1,\"fXbins\":[],\"fFirst\":0,\"fLast\":0,\"fBits2\":0,\"fTimeDisplay\":false,\"fTimeFormat\":\"\",\"fLabels\":null,\"fModLabs\":null},\"fBarOffset\":0,\"fBarWidth\":1000,\"fEntries\":3450378,\"fTsumw\":3415674,\"fTsumw2\":3415674,\"fTsumwx\":739450920.655045,\"fTsumwx2\":212477758891.427,\"fMaximum\":-1111,\"fMinimum\":-1111,\"fNormFactor\":0,\"fContour\":[],\"fSumw2\":[0,497676.259683829,407599.088061707,334580.128420752,281270.566631195,236581.379070444,200075.678220359,171085.172975496,144086.819860828,121248.182725278,103007.759629488,88005.9050598289,71751.4006803828,59069.4882420407,47710.4448647683,32970.4589845142,26431.692704254,23484.2570422674,20414.5541144337,18146.4660320657,16044.1530653344,14118.4230692934,12390.3631463184,10843.5801765386,9574.12768177416,8450.7099975646,7519.21266568566,6621.53533312383,5940.98734836864,5036.3155212749,4680.05704216617,4162.77122108883,3762.55715483972,3333.86104909804,2934.30368341933,2545.53577685311,2246.90840400654,2091.59890923641,1801.71155307929,1587.14276084039,1397.58310786044,1300.83738930946,1131.66781112,977.766628875746,856.448572666953,764.452752489492,670.952524502854,618.835164938461,550.414794190243,538.354830104239,471.092591552182,400.308325176627,400.300725052718,335.551602208196,315.940540052629,285.139132452472,243.421327254248,213.72804506309,215.235213481889,198.563386038032,165.001437240302,156.797644362042,130.412220037236,108.385994993625,107.319165642517,92.0743163777502,76.6734284183626,65.5106216823858,50.8654148624679,38.86069464764,34.7756787387106,23.6167264646446,16.2814362159007,10.6387119774618,9.80399443344936,9.49067525549536,9.01600328127992,8.34191941822908,7.9117059976422,7.51472067096392,7.13886625282579,6.95715950328912,6.12558645372544,5.78214617623022,5.56750787549949,5.39494080864953,5.09906871740827,4.75177600491302,4.36400118476688,4.29656562171403,3.88107067103301,3.70026018766407,3.51654589993799,3.29174717799383,3.51685654551221,3.25825216605421,3.14609225277503,2.76017206997079,2.82777153328548,2.65843296313881,2.67710838386634,45.5864089947336],\"fOption\":\"\",\"fFunctions\":{\"_typename\":\"TList\",\"name\":\"TList\",\"arr\":[],\"opt\":[]},\"fBufferSize\":0,\"fBuffer\":[],\"fBinStatErrOpt\":0,\"fStatOverflows\":2,\"fArray\":[0,268424.7,224544.8,188794.1,162716.8,140801.6,122746.6,108416.5,94717.03,83297.8,73842.66,65710,57008.56,49925.73,43720.86,37840.48,32671.96,29223.26,25597.61,22908.87,20415.11,18112.57,16059.6,14197.87,12639.19,11288.76,10142.59,9052.907,8198.074,7102.539,6640.866,5999.813,5465.17,4937.631,4416.708,3939.103,3557.09,3348.889,2968.276,2686.635,2425.537,2304.741,2060.889,1875.63,1729.693,1572.91,1412.154,1318.419,1198.766,1175.247,1053.948,936.9288,922.3278,821.1848,775.6877,721.3779,641.1714,584.9038,588.6683,557.5474,498.117,477.5036,427.5045,388.8247,385.7276,357.2284,326.1793,310.688,279.6555,257.6946,241.4879,228.5838,225.2911,203.7956,187.8018,181.9876,172.7424,159.7914,151.5249,143.5032,135.2882,130.3887,116.3225,109.3049,104.5415,101.2621,96.0157,88.67558,82.18183,79.80643,71.56294,68.65809,65.04876,60.2666,63.58676,58.97343,56.91798,50.04901,50.47677,46.93761,46.41553,890.3172]},{\"_typename\":\"TPaveText\",\"fUniqueID\":0,\"fBits\":50331657,\"fLineColor\":1,\"fLineStyle\":1,\"fLineWidth\":1,\"fFillColor\":0,\"fFillStyle\":0,\"fX1\":247.015083182185,\"fY1\":187894.964427649,\"fX2\":652.984916817815,\"fY2\":201641.979424222,\"fX1NDC\":0.26801724137931,\"fY1NDC\":0.933983055615829,\"fX2NDC\":0.73198275862069,\"fY2NDC\":0.995000004768372,\"fBorderSize\":0,\"fInit\":1,\"fShadowColor\":1,\"fCornerRadius\":0,\"fOption\":\"blNDC\",\"fName\":\"title\",\"fTextAngle\":0,\"fTextSize\":0,\"fTextAlign\":22,\"fTextColor\":1,\"fTextFont\":42,\"fLabel\":\"\",\"fLongest\":21,\"fMargin\":0.05,\"fLines\":{\"_typename\":\"TList\",\"name\":\"TList\",\"arr\":[{\"_typename\":\"TLatex\",\"fUniqueID\":0,\"fBits\":50331648,\"fName\":\"\",\"fTitle\":\"LHE_Vpt_WBGen100To200\",\"fTextAngle\":0,\"fTextSize\":0,\"fTextAlign\":0,\"fTextColor\":0,\"fTextFont\":0,\"fX\":0,\"fY\":0,\"fLineColor\":1,\"fLineStyle\":1,\"fLineWidth\":2,\"fLimitFactorSize\":3,\"fOriginSize\":0.0518644079566002}],\"opt\":[\"\"]}}],\"opt\":[\"\",\"\",\"same\",\"blNDC\"]},\"fExecs\":null,\"fName\":\"c1_n2\",\"fTitle\":\"c1_n2\",\"fNumPaletteColor\":0,\"fNextPaletteColor\":0,\"fDISPLAY\":\"$DISPLAY\",\"fDoubleBuffer\":0,\"fRetained\":true,\"fXsizeUser\":0,\"fYsizeUser\":0,\"fXsizeReal\":20,\"fYsizeReal\":14.28571,\"fWindowTopX\":0,\"fWindowTopY\":0,\"fWindowWidth\":0,\"fWindowHeight\":0,\"fCw\":696,\"fCh\":472,\"fCatt\":{\"_typename\":\"TAttCanvas\",\"fXBetween\":2,\"fYBetween\":2,\"fTitleFromTop\":1.2,\"fXdate\":0.2,\"fYdate\":0.3,\"fAdate\":1},\"kMoveOpaque\":true,\"kResizeOpaque\":true,\"fHighLightColor\":2,\"fBatch\":true,\"kShowEventStatus\":false,\"kAutoExec\":true,\"kMenuBar\":true});\n",
       "       Core.draw(\"root_plot_1\", obj, \"\");\n",
       "     }\n",
       " );\n",
       "</script>\n"
      ],
      "text/plain": [
       "<IPython.core.display.HTML object>"
      ]
     },
     "metadata": {},
     "output_type": "display_data"
    }
   ],
   "source": [
    "h_LHE_Vpt_WBGen.Draw()\n",
    "h_LHE_Vpt_WHT.Draw(\"same\")\n",
    "\n",
    "c.Draw()"
   ]
  },
  {
   "cell_type": "code",
   "execution_count": 11,
   "metadata": {},
   "outputs": [],
   "source": [
    "c1 = ROOT.TCanvas()\n",
    "xframe = x.frame(ROOT.RooFit.Title(\"Composite Model\"))"
   ]
  },
  {
   "cell_type": "code",
   "execution_count": 12,
   "metadata": {},
   "outputs": [
    {
     "name": "stdout",
     "output_type": "stream",
     "text": [
      "[#1] INFO:DataHandling -- RooDataHist::adjustBinning(d_LHE_Vpt_WHT): fit range of variable x expanded to nearest bin boundaries: [100,800] --> [100,800]\n",
      "[#0] WARNING:InputArguments -- RooAbsPdf::fitTo(model) WARNING: a likelihood fit is request of what appears to be weighted data. \n",
      "       While the estimated values of the parameters will always be calculated taking the weights into account, \n",
      "       there are multiple ways to estimate the errors on these parameter values. You are advised to make an \n",
      "       explicit choice on the error calculation: \n",
      "           - Either provide SumW2Error(kTRUE), to calculate a sum-of-weights corrected HESSE error matrix \n",
      "             (error will be proportional to the number of events)\n",
      "           - Or provide SumW2Error(kFALSE), to return errors from original HESSE error matrix\n",
      "             (which will be proportional to the sum of the weights)\n",
      "       If you want the errors to reflect the information contained in the provided dataset, choose kTRUE. \n",
      "       If you want the errors to reflect the precision you would be able to obtain with an unweighted dataset \n",
      "       with 'sum-of-weights' events, choose kFALSE.\n",
      "[#1] INFO:Minization -- RooMinimizer::optimizeConst: activating const optimization\n",
      " **********\n",
      " **    1 **SET PRINT           1\n",
      " **********\n",
      " **********\n",
      " **    2 **SET NOGRAD\n",
      " **********\n",
      " PARAMETER DEFINITIONS:\n",
      "    NO.   NAME         VALUE      STEP SIZE      LIMITS\n",
      "     1 c0          -1.00000e+00  4.00000e-01   -2.00000e+00  2.00000e+00\n",
      "     2 c1           1.00000e-01  4.00000e-01   -2.00000e+00  2.00000e+00\n",
      "     3 c2           1.00000e-01  4.00000e-01   -2.00000e+00  2.00000e+00\n",
      " **********\n",
      " **    3 **SET ERR         0.5\n",
      " **********\n",
      " **********\n",
      " **    4 **SET PRINT           1\n",
      " **********\n",
      " **********\n",
      " **    5 **SET STR           1\n",
      " **********\n",
      " NOW USING STRATEGY  1: TRY TO BALANCE SPEED AGAINST RELIABILITY\n",
      " **********\n",
      " **    6 **MIGRAD        1500           1\n",
      " **********\n",
      " FIRST CALL TO USER FUNCTION AT NEW START POINT, WITH IFLAG=4.\n",
      " START MIGRAD MINIMIZATION.  STRATEGY  1.  CONVERGENCE WHEN EDM .LT. 1.00e-03\n",
      " FCN=1354.11 FROM MIGRAD    STATUS=INITIATE       12 CALLS          13 TOTAL\n",
      "                     EDM= unknown      STRATEGY= 1      NO ERROR MATRIX       \n",
      "  EXT PARAMETER               CURRENT GUESS       STEP         FIRST   \n",
      "  NO.   NAME      VALUE            ERROR          SIZE      DERIVATIVE \n",
      "   1  c0          -1.00000e+00   4.00000e-01   2.35352e-01  -2.99874e+02\n",
      "   2  c1           1.00000e-01   4.00000e-01   2.01624e-01  -3.52911e+01\n",
      "   3  c2           1.00000e-01   4.00000e-01   2.01624e-01   1.72950e+02\n",
      "                               ERR DEF= 0.5\n",
      " MIGRAD MINIMIZATION HAS CONVERGED.\n",
      " MIGRAD WILL VERIFY CONVERGENCE AND ERROR MATRIX.\n",
      " COVARIANCE MATRIX CALCULATED SUCCESSFULLY\n",
      " FCN=1295.14 FROM MIGRAD    STATUS=CONVERGED      84 CALLS          85 TOTAL\n",
      "                     EDM=2.81646e-06    STRATEGY= 1      ERROR MATRIX ACCURATE \n",
      "  EXT PARAMETER                                   STEP         FIRST   \n",
      "  NO.   NAME      VALUE            ERROR          SIZE      DERIVATIVE \n",
      "   1  c0           1.18572e-01   1.37960e-01   1.53050e-03  -1.67335e-02\n",
      "   2  c1          -1.00003e-01   1.24595e-01   1.54484e-03  -1.83983e-02\n",
      "   3  c2           1.01999e-01   1.16422e-01   1.29312e-03   1.60898e-03\n",
      "                               ERR DEF= 0.5\n",
      " EXTERNAL ERROR MATRIX.    NDIM=  25    NPAR=  3    ERR DEF=0.5\n",
      "  1.906e-02  1.694e-03  7.269e-03 \n",
      "  1.694e-03  1.554e-02  9.180e-04 \n",
      "  7.269e-03  9.180e-04  1.357e-02 \n",
      " PARAMETER  CORRELATION COEFFICIENTS  \n",
      "       NO.  GLOBAL      1      2      3\n",
      "        1  0.45732   1.000  0.098  0.452\n",
      "        2  0.10062   0.098  1.000  0.063\n",
      "        3  0.45233   0.452  0.063  1.000\n",
      " **********\n",
      " **    7 **SET ERR         0.5\n",
      " **********\n",
      " **********\n",
      " **    8 **SET PRINT           1\n",
      " **********\n",
      " **********\n",
      " **    9 **HESSE        1500\n",
      " **********\n",
      " COVARIANCE MATRIX CALCULATED SUCCESSFULLY\n",
      " FCN=1295.14 FROM HESSE     STATUS=OK             16 CALLS         101 TOTAL\n",
      "                     EDM=2.81838e-06    STRATEGY= 1      ERROR MATRIX ACCURATE \n",
      "  EXT PARAMETER                                INTERNAL      INTERNAL  \n",
      "  NO.   NAME      VALUE            ERROR       STEP SIZE       VALUE   \n",
      "   1  c0           1.18572e-01   1.37989e-01   3.06100e-04   5.93210e-02\n",
      "   2  c1          -1.00003e-01   1.24599e-01   3.08968e-04  -5.00222e-02\n",
      "   3  c2           1.01999e-01   1.16453e-01   2.58624e-04   5.10218e-02\n",
      "                               ERR DEF= 0.5\n",
      " EXTERNAL ERROR MATRIX.    NDIM=  25    NPAR=  3    ERR DEF=0.5\n",
      "  1.907e-02  1.695e-03  7.279e-03 \n",
      "  1.695e-03  1.554e-02  9.320e-04 \n",
      "  7.279e-03  9.320e-04  1.358e-02 \n",
      " PARAMETER  CORRELATION COEFFICIENTS  \n",
      "       NO.  GLOBAL      1      2      3\n",
      "        1  0.45768   1.000  0.098  0.452\n",
      "        2  0.10085   0.098  1.000  0.064\n",
      "        3  0.45280   0.452  0.064  1.000\n",
      "[#1] INFO:Minization -- RooMinimizer::optimizeConst: deactivating const optimization\n",
      "[#1] INFO:InputArguments -- RooAbsData::plotOn(d_LHE_Vpt_WHT) INFO: dataset has non-integer weights, auto-selecting SumW2 errors instead of Poisson errors\n"
     ]
    },
    {
     "data": {
      "text/html": [
       "\n",
       "<div id=\"root_plot_2\"\n",
       "     style=\"width: 696px; height: 472px\">\n",
       "</div>\n",
       "\n",
       "<script>\n",
       " requirejs.config({\n",
       "     paths: {\n",
       "       'JSRootCore' : 'https://root.cern.ch/js/notebook//scripts/JSRootCore',\n",
       "     }\n",
       "   });\n",
       " require(['JSRootCore'],\n",
       "     function(Core) {\n",
       "       var obj = Core.JSONR_unref({\"_typename\":\"TCanvas\",\"fUniqueID\":0,\"fBits\":53673992,\"fLineColor\":1,\"fLineStyle\":1,\"fLineWidth\":1,\"fFillColor\":0,\"fFillStyle\":1001,\"fLeftMargin\":0.1,\"fRightMargin\":0.1,\"fBottomMargin\":0.1,\"fTopMargin\":0.1,\"fXfile\":2,\"fYfile\":2,\"fAfile\":1,\"fXstat\":0.99,\"fYstat\":0.99,\"fAstat\":2,\"fFrameFillColor\":0,\"fFrameLineColor\":1,\"fFrameFillStyle\":1001,\"fFrameLineStyle\":1,\"fFrameLineWidth\":1,\"fFrameBorderSize\":1,\"fFrameBorderMode\":0,\"fX1\":12.4999934807416,\"fY1\":-0.301237039544431,\"fX2\":887.500006519258,\"fY2\":2.71113317634862,\"fXtoAbsPixelk\":-9.9428018090927,\"fXtoPixelk\":-9.9428018090927,\"fXtoPixel\":0.795428559575762,\"fYtoAbsPixelk\":424.800047186661,\"fYtoPixelk\":424.800047186661,\"fYtoPixel\":-156.687248303599,\"fUtoAbsPixelk\":5e-5,\"fUtoPixelk\":5e-5,\"fUtoPixel\":696,\"fVtoAbsPixelk\":472.00005,\"fVtoPixelk\":472,\"fVtoPixel\":-472,\"fAbsPixeltoXk\":12.4999934807416,\"fPixeltoXk\":12.4999934807416,\"fPixeltoX\":1.25718392677948,\"fAbsPixeltoYk\":2.71113317634862,\"fPixeltoYk\":-0.301237039544431,\"fPixeltoY\":-0.006382140287909,\"fXlowNDC\":0,\"fYlowNDC\":0,\"fXUpNDC\":0,\"fYUpNDC\":0,\"fWNDC\":1,\"fHNDC\":1,\"fAbsXlowNDC\":0,\"fAbsYlowNDC\":0,\"fAbsWNDC\":1,\"fAbsHNDC\":1,\"fUxmin\":100,\"fUymin\":0,\"fUxmax\":800,\"fUymax\":2.40989613680419,\"fTheta\":30,\"fPhi\":30,\"fAspectRatio\":0,\"fNumber\":0,\"fTickx\":0,\"fTicky\":0,\"fLogx\":0,\"fLogy\":0,\"fLogz\":0,\"fPadPaint\":0,\"fCrosshair\":0,\"fCrosshairPos\":0,\"fBorderSize\":2,\"fBorderMode\":0,\"fModified\":false,\"fGridx\":false,\"fGridy\":false,\"fAbsCoord\":false,\"fEditable\":true,\"fFixedAspectRatio\":false,\"fPrimitives\":{\"_typename\":\"TList\",\"name\":\"TList\",\"arr\":[{\"_typename\":\"TFrame\",\"fUniqueID\":0,\"fBits\":50331656,\"fLineColor\":1,\"fLineStyle\":1,\"fLineWidth\":1,\"fFillColor\":0,\"fFillStyle\":1001,\"fX1\":100,\"fY1\":0,\"fX2\":800,\"fY2\":2.40989613680419,\"fBorderSize\":1,\"fBorderMode\":0},{\"_typename\":\"TH1D\",\"fUniqueID\":0,\"fBits\":50332168,\"fName\":\"frame_564c919760a0\",\"fTitle\":\"Composite Model\",\"fLineColor\":602,\"fLineStyle\":1,\"fLineWidth\":1,\"fFillColor\":0,\"fFillStyle\":1001,\"fMarkerColor\":1,\"fMarkerStyle\":1,\"fMarkerSize\":1,\"fNcells\":102,\"fXaxis\":{\"_typename\":\"TAxis\",\"fUniqueID\":0,\"fBits\":50331648,\"fName\":\"xaxis\",\"fTitle\":\"LHE_Vpt[GeV]\",\"fNdivisions\":510,\"fAxisColor\":1,\"fLabelColor\":1,\"fLabelFont\":42,\"fLabelOffset\":0.005,\"fLabelSize\":0.035,\"fTickLength\":0.03,\"fTitleOffset\":1,\"fTitleSize\":0.035,\"fTitleColor\":1,\"fTitleFont\":42,\"fNbins\":100,\"fXmin\":100,\"fXmax\":800,\"fXbins\":[],\"fFirst\":0,\"fLast\":0,\"fBits2\":0,\"fTimeDisplay\":false,\"fTimeFormat\":\"\",\"fLabels\":null,\"fModLabs\":null},\"fYaxis\":{\"_typename\":\"TAxis\",\"fUniqueID\":0,\"fBits\":50331648,\"fName\":\"yaxis\",\"fTitle\":\"Events \\/ ( 7 )\",\"fNdivisions\":510,\"fAxisColor\":1,\"fLabelColor\":1,\"fLabelFont\":42,\"fLabelOffset\":0.005,\"fLabelSize\":0.035,\"fTickLength\":0.03,\"fTitleOffset\":0,\"fTitleSize\":0.035,\"fTitleColor\":1,\"fTitleFont\":42,\"fNbins\":1,\"fXmin\":0,\"fXmax\":1,\"fXbins\":[],\"fFirst\":0,\"fLast\":0,\"fBits2\":0,\"fTimeDisplay\":false,\"fTimeFormat\":\"\",\"fLabels\":null,\"fModLabs\":null},\"fZaxis\":{\"_typename\":\"TAxis\",\"fUniqueID\":0,\"fBits\":50331648,\"fName\":\"zaxis\",\"fTitle\":\"\",\"fNdivisions\":510,\"fAxisColor\":1,\"fLabelColor\":1,\"fLabelFont\":42,\"fLabelOffset\":0.005,\"fLabelSize\":0.035,\"fTickLength\":0.03,\"fTitleOffset\":1,\"fTitleSize\":0.035,\"fTitleColor\":1,\"fTitleFont\":42,\"fNbins\":1,\"fXmin\":0,\"fXmax\":1,\"fXbins\":[],\"fFirst\":0,\"fLast\":0,\"fBits2\":0,\"fTimeDisplay\":false,\"fTimeFormat\":\"\",\"fLabels\":null,\"fModLabs\":null},\"fBarOffset\":0,\"fBarWidth\":1000,\"fEntries\":1,\"fTsumw\":0,\"fTsumw2\":0,\"fTsumwx\":0,\"fTsumwx2\":0,\"fMaximum\":2.40989613680419,\"fMinimum\":-1111,\"fNormFactor\":0,\"fContour\":[],\"fSumw2\":[],\"fOption\":\"\",\"fFunctions\":{\"_typename\":\"TList\",\"name\":\"TList\",\"arr\":[],\"opt\":[]},\"fBufferSize\":0,\"fBuffer\":[],\"fBinStatErrOpt\":0,\"fStatOverflows\":2,\"fArray\":[0,2.40989613680419,0,0,0,0,0,0,0,0,0,0,0,0,0,0,0,0,0,0,0,0,0,0,0,0,0,0,0,0,0,0,0,0,0,0,0,0,0,0,0,0,0,0,0,0,0,0,0,0,0,0,0,0,0,0,0,0,0,0,0,0,0,0,0,0,0,0,0,0,0,0,0,0,0,0,0,0,0,0,0,0,0,0,0,0,0,0,0,0,0,0,0,0,0,0,0,0,0,0,0,0]},{\"_typename\":\"RooHist\",\"fUniqueID\":0,\"fBits\":50332680,\"fName\":\"h_d_LHE_Vpt_WHT\",\"fTitle\":\"Histogram of d_LHE_Vpt_WHT_plot__x\",\"fLineColor\":600,\"fLineStyle\":1,\"fLineWidth\":1,\"fFillColor\":0,\"fFillStyle\":1000,\"fMarkerColor\":600,\"fMarkerStyle\":8,\"fMarkerSize\":1,\"fNpoints\":100,\"fX\":[103.5,110.5,117.5,124.5,131.5,138.5,145.5,152.5,159.5,166.5,173.5,180.5,187.5,194.5,201.5,208.5,215.5,222.5,229.5,236.5,243.5,250.5,257.5,264.5,271.5,278.5,285.5,292.5,299.5,306.5,313.5,320.5,327.5,334.5,341.5,348.5,355.5,362.5,369.5,376.5,383.5,390.5,397.5,404.5,411.5,418.5,425.5,432.5,439.5,446.5,453.5,460.5,467.5,474.5,481.5,488.5,495.5,502.5,509.5,516.5,523.5,530.5,537.5,544.5,551.5,558.5,565.5,572.5,579.5,586.5,593.5,600.5,607.5,614.5,621.5,628.5,635.5,642.5,649.5,656.5,663.5,670.5,677.5,684.5,691.5,698.5,705.5,712.5,719.5,726.5,733.5,740.5,747.5,754.5,761.5,768.5,775.5,782.5,789.5,796.5],\"fY\":[1.56577694416046,1.55541837215424,1.53025615215302,1.53104603290558,1.52431535720825,1.50952041149139,1.49554061889648,1.4714663028717,1.45173168182373,1.4456729888916,1.43870031833649,1.39365017414093,1.3772360086441,1.35274851322174,1.89749920368195,2.25808715820312,2.28242230415344,2.26068091392517,2.27362632751465,2.26720380783081,2.25974154472351,2.2526581287384,2.22697782516479,2.21760249137878,2.2332980632782,2.21977496147156,2.1887743473053,2.22003936767578,2.12993049621582,2.20059680938721,2.18155121803284,2.21291017532349,2.20276737213135,2.16936135292053,2.1272759437561,2.11937570571899,2.19450855255127,2.10943913459778,2.11666083335876,2.06718969345093,2.15959453582764,2.09626626968384,2.06913709640503,2.08906435966492,2.0383448600769,1.98846578598022,2.01650977134705,2.01273059844971,2.0772225856781,2.03538203239441,1.95817589759827,2.15446734428406,1.95361852645874,2.07322669029236,2.07396388053894,1.93606913089752,1.93622756004333,2.05487513542175,2.10965251922607,2.01930737495422,2.09699058532715,2.04091739654541,1.94032859802246,2.05966591835022,2.01283740997314,1.96823132038116,1.994349360466,1.97460460662842,1.90435636043549,1.93937480449677,1.8887437582016,2.0239372253418,1.96974682807922,1.8558611869812,1.9668675661087,1.98369324207306,1.93584764003754,1.96189105510712,2.03760600090027,1.94731116294861,1.99400615692139,1.97335374355316,1.93628787994385,1.9294570684433,1.9695520401001,2.03842806816101,1.91020035743713,2.00557351112366,2.08870100975037,1.81267285346985,1.94224834442139,1.91640794277191,2.02761673927307,2.13932061195374,1.99018633365631,2.11160922050476,2.03491711616516,2.04476404190063,1.94428491592407,2.13094663619995],\"fFunctions\":{\"_typename\":\"TList\",\"name\":\"TList\",\"arr\":[],\"opt\":[]},\"fHistogram\":{\"_typename\":\"TH1F\",\"fUniqueID\":0,\"fBits\":50332168,\"fName\":\"h_d_LHE_Vpt_WHT\",\"fTitle\":\"Histogram of d_LHE_Vpt_WHT_plot__x\",\"fLineColor\":602,\"fLineStyle\":1,\"fLineWidth\":1,\"fFillColor\":0,\"fFillStyle\":1001,\"fMarkerColor\":1,\"fMarkerStyle\":1,\"fMarkerSize\":1,\"fNcells\":102,\"fXaxis\":{\"_typename\":\"TAxis\",\"fUniqueID\":0,\"fBits\":50331648,\"fName\":\"xaxis\",\"fTitle\":\"\",\"fNdivisions\":510,\"fAxisColor\":1,\"fLabelColor\":1,\"fLabelFont\":42,\"fLabelOffset\":0.005,\"fLabelSize\":0.035,\"fTickLength\":0.03,\"fTitleOffset\":1,\"fTitleSize\":0.035,\"fTitleColor\":1,\"fTitleFont\":42,\"fNbins\":100,\"fXmin\":30,\"fXmax\":870,\"fXbins\":[],\"fFirst\":0,\"fLast\":0,\"fBits2\":0,\"fTimeDisplay\":false,\"fTimeFormat\":\"\",\"fLabels\":null,\"fModLabs\":null},\"fYaxis\":{\"_typename\":\"TAxis\",\"fUniqueID\":0,\"fBits\":50331648,\"fName\":\"yaxis\",\"fTitle\":\"\",\"fNdivisions\":510,\"fAxisColor\":1,\"fLabelColor\":1,\"fLabelFont\":42,\"fLabelOffset\":0.005,\"fLabelSize\":0.035,\"fTickLength\":0.03,\"fTitleOffset\":0,\"fTitleSize\":0.035,\"fTitleColor\":1,\"fTitleFont\":42,\"fNbins\":1,\"fXmin\":1.24983521113362,\"fXmax\":2.39016681125194,\"fXbins\":[],\"fFirst\":0,\"fLast\":0,\"fBits2\":0,\"fTimeDisplay\":false,\"fTimeFormat\":\"\",\"fLabels\":null,\"fModLabs\":null},\"fZaxis\":{\"_typename\":\"TAxis\",\"fUniqueID\":0,\"fBits\":50331648,\"fName\":\"zaxis\",\"fTitle\":\"\",\"fNdivisions\":510,\"fAxisColor\":1,\"fLabelColor\":1,\"fLabelFont\":42,\"fLabelOffset\":0.005,\"fLabelSize\":0.035,\"fTickLength\":0.03,\"fTitleOffset\":1,\"fTitleSize\":0.035,\"fTitleColor\":1,\"fTitleFont\":42,\"fNbins\":1,\"fXmin\":0,\"fXmax\":1,\"fXbins\":[],\"fFirst\":0,\"fLast\":0,\"fBits2\":0,\"fTimeDisplay\":false,\"fTimeFormat\":\"\",\"fLabels\":null,\"fModLabs\":null},\"fBarOffset\":0,\"fBarWidth\":1000,\"fEntries\":0,\"fTsumw\":0,\"fTsumw2\":0,\"fTsumwx\":0,\"fTsumwx2\":0,\"fMaximum\":2.39016681125194,\"fMinimum\":1.24983521113362,\"fNormFactor\":0,\"fContour\":[],\"fSumw2\":[],\"fOption\":\"\",\"fFunctions\":{\"_typename\":\"TList\",\"name\":\"TList\",\"arr\":[],\"opt\":[]},\"fBufferSize\":0,\"fBuffer\":[],\"fBinStatErrOpt\":0,\"fStatOverflows\":2,\"fArray\":[0,0,0,0,0,0,0,0,0,0,0,0,0,0,0,0,0,0,0,0,0,0,0,0,0,0,0,0,0,0,0,0,0,0,0,0,0,0,0,0,0,0,0,0,0,0,0,0,0,0,0,0,0,0,0,0,0,0,0,0,0,0,0,0,0,0,0,0,0,0,0,0,0,0,0,0,0,0,0,0,0,0,0,0,0,0,0,0,0,0,0,0,0,0,0,0,0,0,0,0,0,0]},\"fMinimum\":-1111,\"fMaximum\":-1111,\"fEXlow\":[3.5,3.5,3.5,3.5,3.5,3.5,3.5,3.5,3.5,3.5,3.5,3.5,3.5,3.5,3.5,3.5,3.5,3.5,3.5,3.5,3.5,3.5,3.5,3.5,3.5,3.5,3.5,3.5,3.5,3.5,3.5,3.5,3.5,3.5,3.5,3.5,3.5,3.5,3.5,3.5,3.5,3.5,3.5,3.5,3.5,3.5,3.5,3.5,3.5,3.5,3.5,3.5,3.5,3.5,3.5,3.5,3.5,3.5,3.5,3.5,3.5,3.5,3.5,3.5,3.5,3.5,3.5,3.5,3.5,3.5,3.5,3.5,3.5,3.5,3.5,3.5,3.5,3.5,3.5,3.5,3.5,3.5,3.5,3.5,3.5,3.5,3.5,3.5,3.5,3.5,3.5,3.5,3.5,3.5,3.5,3.5,3.5,3.5,3.5,3.5],\"fEXhigh\":[3.5,3.5,3.5,3.5,3.5,3.5,3.5,3.5,3.5,3.5,3.5,3.5,3.5,3.5,3.5,3.5,3.5,3.5,3.5,3.5,3.5,3.5,3.5,3.5,3.5,3.5,3.5,3.5,3.5,3.5,3.5,3.5,3.5,3.5,3.5,3.5,3.5,3.5,3.5,3.5,3.5,3.5,3.5,3.5,3.5,3.5,3.5,3.5,3.5,3.5,3.5,3.5,3.5,3.5,3.5,3.5,3.5,3.5,3.5,3.5,3.5,3.5,3.5,3.5,3.5,3.5,3.5,3.5,3.5,3.5,3.5,3.5,3.5,3.5,3.5,3.5,3.5,3.5,3.5,3.5,3.5,3.5,3.5,3.5,3.5,3.5,3.5,3.5,3.5,3.5,3.5,3.5,3.5,3.5,3.5,3.5,3.5,3.5,3.5,3.5],\"fEYlow\":[0.00459392505309597,0.00494414396388332,0.00524554266735584,0.00559763764225666,0.00592137013680948,0.00619919530298592,0.00644604872159165,0.0066770893503609,0.00689481697844666,0.00717026369618002,0.00744329738878164,0.00753162684655142,0.00775934127599375,0.00788566874492534,0.0104985311945658,0.0119268140993797,0.0127168737553074,0.0134055920865957,0.0142134272047375,0.0149593024006282,0.0157691866405399,0.0166157683033941,0.0173805335826384,0.0182725707580205,0.0193783729937717,0.0202260487150091,0.0209672753339373,0.0222762954515912,0.0226858979172734,0.0242223889343935,0.025077355143392,0.0265868716886426,0.0275996050067125,0.0285095093641862,0.0292110957896404,0.0303165530231523,0.0322701308856151,0.0324566480412358,0.0338426042366362,0.0343569120335176,0.0366122938991666,0.0370632514743308,0.037473290571066,0.03858091316311,0.0390913571844103,0.0397868817441431,0.0415919801888422,0.043131190207053,0.0450320009840359,0.0460434944540803,0.0459591064683471,0.0517323666587861,0.0480746204040229,0.0527094343964286,0.0540187298578159,0.0522790490154863,0.0539004916768388,0.0573718112524054,0.0600588159442647,0.0588365296009887,0.062452394643447,0.0622465840221702,0.0595955962543302,0.0639361740431311,0.0629218877913107,0.0620690847260394,0.062112588429447,0.0615241631854465,0.0577789204125534,0.060113083882358,0.0543138777580807,0.0546253886266021,0.0519187896435416,0.0500189543451095,0.0548257120543838,0.0569167980929511,0.0573109093257537,0.0598982301699366,0.0647318737607858,0.0628956751429201,0.0662291677926377,0.0689978092755044,0.0694859953265344,0.0708126314248992,0.0739236226892681,0.0793808652141771,0.0759724551917493,0.0839846852241373,0.0901353116535623,0.0791634153556548,0.0883383398137028,0.0892307541606013,0.10001351848795,0.104728896581338,0.0988753639738875,0.108796470043327,0.110466686953624,0.111022912795884,0.10801471321227,0.122894049741866],\"fEYhigh\":[0.00459392505309597,0.00494414396388332,0.00524554266735584,0.00559763764225666,0.00592137013680948,0.00619919530298592,0.00644604872159165,0.0066770893503609,0.00689481697844666,0.00717026369618002,0.00744329738878164,0.00753162684655142,0.00775934127599375,0.00788566874492534,0.0104985311945658,0.0119268140993797,0.0127168737553074,0.0134055920865957,0.0142134272047375,0.0149593024006282,0.0157691866405399,0.0166157683033941,0.0173805335826384,0.0182725707580205,0.0193783729937717,0.0202260487150091,0.0209672753339373,0.0222762954515912,0.0226858979172734,0.0242223889343935,0.025077355143392,0.0265868716886426,0.0275996050067125,0.0285095093641862,0.0292110957896404,0.0303165530231523,0.0322701308856151,0.0324566480412358,0.0338426042366362,0.0343569120335176,0.0366122938991666,0.0370632514743308,0.037473290571066,0.03858091316311,0.0390913571844103,0.0397868817441431,0.0415919801888422,0.043131190207053,0.0450320009840359,0.0460434944540803,0.0459591064683471,0.0517323666587861,0.0480746204040229,0.0527094343964286,0.0540187298578159,0.0522790490154863,0.0539004916768388,0.0573718112524054,0.0600588159442647,0.0588365296009887,0.062452394643447,0.0622465840221702,0.0595955962543302,0.0639361740431311,0.0629218877913107,0.0620690847260394,0.062112588429447,0.0615241631854465,0.0577789204125534,0.060113083882358,0.0543138777580807,0.0546253886266021,0.0519187896435416,0.0500189543451095,0.0548257120543838,0.0569167980929511,0.0573109093257537,0.0598982301699366,0.0647318737607858,0.0628956751429201,0.0662291677926377,0.0689978092755044,0.0694859953265344,0.0708126314248992,0.0739236226892681,0.0793808652141771,0.0759724551917493,0.0839846852241373,0.0901353116535623,0.0791634153556548,0.0883383398137028,0.0892307541606013,0.10001351848795,0.104728896581338,0.0988753639738875,0.108796470043327,0.110466686953624,0.111022912795884,0.10801471321227,0.122894049741866],\"_yAxisLabel\":\"Events \\/ ( 7 )\",\"_ymin\":0,\"_ymax\":2.29513917790875,\"_normValue\":0,\"_nominalBinWidth\":7,\"_nSigma\":1,\"_entries\":197.829032182693,\"_rawEntries\":-1},{\"_typename\":\"RooCurve\",\"fUniqueID\":0,\"fBits\":50332680,\"fName\":\"model_Norm[x]\",\"fTitle\":\"Projection of ratio p.d.f.\",\"fLineColor\":600,\"fLineStyle\":2,\"fLineWidth\":3,\"fFillColor\":0,\"fFillStyle\":1000,\"fMarkerColor\":1,\"fMarkerStyle\":1,\"fMarkerSize\":1,\"fNpoints\":106,\"fX\":[93,93,100,107,114,121,128,135,142,149,156,163,170,177,184,191,198,205,212,219,226,233,240,247,254,261,268,275,282,289,296,303,310,317,324,331,338,345,352,359,366,373,380,387,394,401,408,415,422,429,436,443,450,457,464,471,478,485,492,499,506,513,520,527,534,541,548,555,562,569,576,583,590,597,604,611,618,625,632,639,646,653,660,667,674,681,688,695,702,709,716,723,730,737,744,751,758,765,772,779,786,793,800,800,807,807],\"fY\":[0,1.30074152949091,1.30074152949091,1.35466307513718,1.4064411494282,1.45611324516661,1.50371685515501,1.54928947219604,1.59286858909231,1.63449169864645,1.67419629366107,1.71201986693879,1.74799991128224,1.78217391949404,1.8145793843768,1.84525379873316,1.87423465536572,1.90155944707711,1.92726566666995,1.95139080694687,1.97397236071048,1.9950478207634,2.01465467990825,2.03283043094766,2.04961256668425,2.06503857992063,2.07914596345943,2.09197221010326,2.10355481265476,2.11393126391654,2.12313905669121,2.13121568378141,2.13819863798975,2.14412541211885,2.14903349897134,2.15296039134983,2.15594358205694,2.1580205638953,2.15922882966753,2.15960587217625,2.15918918422407,2.15801625861363,2.15612458814753,2.15355166562841,2.15033498385887,2.14651203564155,2.14212031377906,2.13719731107403,2.13178052032907,2.12590743434681,2.11961554592986,2.11294234788085,2.1059253330024,2.09860199409713,2.09100982396766,2.08318631541661,2.07516896124659,2.06699525426025,2.05870268726018,2.05032875304902,2.04191094442938,2.03348675420389,2.02509367517516,2.01676920014582,2.00855082191849,2.00047603329579,1.99258232708033,1.98490719607475,1.97748813308165,1.97036263090367,1.96356818234342,1.95714228020353,1.95112241728661,1.94554608639528,1.94045078033217,1.9358739918999,1.93185321390108,1.92842593913834,1.9256296604143,1.92350187053158,1.9220800622928,1.92140172850058,1.92150436195754,1.92242545546631,1.9242025018295,1.92687299384973,1.93047442432963,1.93504428607182,1.94062007187891,1.94723927455353,1.9549393868983,1.96375790171584,1.97373231180877,1.98490010997971,1.99729878903128,2.0109658417661,2.0259387609868,2.04225503949599,2.0599521700963,2.07906764559034,2.09963895878074,2.12170360247011,2.14529906946109,2.14529906946109,2.14529906946109,0],\"fFunctions\":{\"_typename\":\"TList\",\"name\":\"TList\",\"arr\":[],\"opt\":[]},\"fHistogram\":{\"_typename\":\"TH1F\",\"fUniqueID\":0,\"fBits\":50332168,\"fName\":\"model_Norm[x]\",\"fTitle\":\"Projection of ratio p.d.f.\",\"fLineColor\":602,\"fLineStyle\":1,\"fLineWidth\":1,\"fFillColor\":0,\"fFillStyle\":1001,\"fMarkerColor\":1,\"fMarkerStyle\":1,\"fMarkerSize\":1,\"fNcells\":108,\"fXaxis\":{\"_typename\":\"TAxis\",\"fUniqueID\":0,\"fBits\":50331648,\"fName\":\"xaxis\",\"fTitle\":\"\",\"fNdivisions\":510,\"fAxisColor\":1,\"fLabelColor\":1,\"fLabelFont\":42,\"fLabelOffset\":0.005,\"fLabelSize\":0.035,\"fTickLength\":0.03,\"fTitleOffset\":1,\"fTitleSize\":0.035,\"fTitleColor\":1,\"fTitleFont\":42,\"fNbins\":106,\"fXmin\":21.6,\"fXmax\":878.4,\"fXbins\":[],\"fFirst\":0,\"fLast\":0,\"fBits2\":0,\"fTimeDisplay\":false,\"fTimeFormat\":\"\",\"fLabels\":null,\"fModLabs\":null},\"fYaxis\":{\"_typename\":\"TAxis\",\"fUniqueID\":0,\"fBits\":50331648,\"fName\":\"yaxis\",\"fTitle\":\"\",\"fNdivisions\":510,\"fAxisColor\":1,\"fLabelColor\":1,\"fLabelFont\":42,\"fLabelOffset\":0.005,\"fLabelSize\":0.035,\"fTickLength\":0.03,\"fTitleOffset\":0,\"fTitleSize\":0.035,\"fTitleColor\":1,\"fTitleFont\":42,\"fNbins\":1,\"fXmin\":0,\"fXmax\":2.37556645939387,\"fXbins\":[],\"fFirst\":0,\"fLast\":0,\"fBits2\":0,\"fTimeDisplay\":false,\"fTimeFormat\":\"\",\"fLabels\":null,\"fModLabs\":null},\"fZaxis\":{\"_typename\":\"TAxis\",\"fUniqueID\":0,\"fBits\":50331648,\"fName\":\"zaxis\",\"fTitle\":\"\",\"fNdivisions\":510,\"fAxisColor\":1,\"fLabelColor\":1,\"fLabelFont\":42,\"fLabelOffset\":0.005,\"fLabelSize\":0.035,\"fTickLength\":0.03,\"fTitleOffset\":1,\"fTitleSize\":0.035,\"fTitleColor\":1,\"fTitleFont\":42,\"fNbins\":1,\"fXmin\":0,\"fXmax\":1,\"fXbins\":[],\"fFirst\":0,\"fLast\":0,\"fBits2\":0,\"fTimeDisplay\":false,\"fTimeFormat\":\"\",\"fLabels\":null,\"fModLabs\":null},\"fBarOffset\":0,\"fBarWidth\":1000,\"fEntries\":0,\"fTsumw\":0,\"fTsumw2\":0,\"fTsumwx\":0,\"fTsumwx2\":0,\"fMaximum\":2.37556645939387,\"fMinimum\":0,\"fNormFactor\":0,\"fContour\":[],\"fSumw2\":[],\"fOption\":\"\",\"fFunctions\":{\"_typename\":\"TList\",\"name\":\"TList\",\"arr\":[],\"opt\":[]},\"fBufferSize\":0,\"fBuffer\":[],\"fBinStatErrOpt\":0,\"fStatOverflows\":2,\"fArray\":[0,0,0,0,0,0,0,0,0,0,0,0,0,0,0,0,0,0,0,0,0,0,0,0,0,0,0,0,0,0,0,0,0,0,0,0,0,0,0,0,0,0,0,0,0,0,0,0,0,0,0,0,0,0,0,0,0,0,0,0,0,0,0,0,0,0,0,0,0,0,0,0,0,0,0,0,0,0,0,0,0,0,0,0,0,0,0,0,0,0,0,0,0,0,0,0,0,0,0,0,0,0,0,0,0,0,0,0]},\"fMinimum\":-1111,\"fMaximum\":-1111,\"_yAxisLabel\":\"Projection of ratio p.d.f.\",\"_ymin\":0,\"_ymax\":2.15960587217625,\"_normValue\":0},{\"$ref\":3},{\"_typename\":\"TPaveText\",\"fUniqueID\":0,\"fBits\":50331657,\"fLineColor\":1,\"fLineStyle\":1,\"fLineWidth\":1,\"fFillColor\":0,\"fFillStyle\":0,\"fX1\":316.160199155057,\"fY1\":2.51226569934147,\"fX2\":583.839800844943,\"fY2\":2.69607133963325,\"fX1NDC\":0.347040229885057,\"fY1NDC\":0.933983055615829,\"fX2NDC\":0.652959770114943,\"fY2NDC\":0.995000004768372,\"fBorderSize\":0,\"fInit\":1,\"fShadowColor\":1,\"fCornerRadius\":0,\"fOption\":\"blNDC\",\"fName\":\"title\",\"fTextAngle\":0,\"fTextSize\":0,\"fTextAlign\":22,\"fTextColor\":1,\"fTextFont\":42,\"fLabel\":\"\",\"fLongest\":15,\"fMargin\":0.05,\"fLines\":{\"_typename\":\"TList\",\"name\":\"TList\",\"arr\":[{\"_typename\":\"TLatex\",\"fUniqueID\":0,\"fBits\":50331648,\"fName\":\"\",\"fTitle\":\"Composite Model\",\"fTextAngle\":0,\"fTextSize\":0,\"fTextAlign\":0,\"fTextColor\":0,\"fTextFont\":0,\"fX\":0,\"fY\":0,\"fLineColor\":1,\"fLineStyle\":1,\"fLineWidth\":2,\"fLimitFactorSize\":3,\"fOriginSize\":0.0518644079566002}],\"opt\":[\"\"]}}],\"opt\":[\"\",\"FUNC\",\"p\",\"l\",\"AXISSAME\",\"blNDC\"]},\"fExecs\":null,\"fName\":\"c1_n3\",\"fTitle\":\"c1_n3\",\"fNumPaletteColor\":0,\"fNextPaletteColor\":0,\"fDISPLAY\":\"$DISPLAY\",\"fDoubleBuffer\":0,\"fRetained\":true,\"fXsizeUser\":0,\"fYsizeUser\":0,\"fXsizeReal\":20,\"fYsizeReal\":14.28571,\"fWindowTopX\":0,\"fWindowTopY\":0,\"fWindowWidth\":0,\"fWindowHeight\":0,\"fCw\":696,\"fCh\":472,\"fCatt\":{\"_typename\":\"TAttCanvas\",\"fXBetween\":2,\"fYBetween\":2,\"fTitleFromTop\":1.2,\"fXdate\":0.2,\"fYdate\":0.3,\"fAdate\":1},\"kMoveOpaque\":true,\"kResizeOpaque\":true,\"fHighLightColor\":2,\"fBatch\":true,\"kShowEventStatus\":false,\"kAutoExec\":true,\"kMenuBar\":true});\n",
       "       Core.draw(\"root_plot_2\", obj, \"\");\n",
       "     }\n",
       " );\n",
       "</script>\n"
      ],
      "text/plain": [
       "<IPython.core.display.HTML object>"
      ]
     },
     "metadata": {},
     "output_type": "display_data"
    }
   ],
   "source": [
    "h_LHE_Vpt_WHT_d = h_LHE_Vpt_WHT.Clone()\n",
    "h_LHE_Vpt_WHT_d.SetName(\"h_LHE_Vpt_WHT_d\")\n",
    "h_LHE_Vpt_WHT_d.Divide(h_LHE_Vpt_WBGen)\n",
    "d_LHE_Vpt_WHT = ROOT.RooDataHist(\"d_LHE_Vpt_WHT\",\"LHE_Vpt\",ROOT.RooArgList(x),h_LHE_Vpt_WHT_d)\n",
    "model.fitTo(d_LHE_Vpt_WHT)\n",
    "d_LHE_Vpt_WHT.plotOn(xframe,ROOT.RooFit.MarkerColor(ROOT.kBlue),ROOT.RooFit.LineColor(ROOT.kBlue),ROOT.RooFit.FillColor(0))\n",
    "model.plotOn(xframe,ROOT.RooFit.LineStyle(ROOT.kDashed),ROOT.RooFit.FillColor(0))\n",
    "xframe.Draw()\n",
    "c1.Draw()"
   ]
  },
  {
   "cell_type": "code",
   "execution_count": 13,
   "metadata": {},
   "outputs": [
    {
     "data": {
      "text/html": [
       "\n",
       "<div id=\"root_plot_3\"\n",
       "     style=\"width: 696px; height: 472px\">\n",
       "</div>\n",
       "\n",
       "<script>\n",
       " requirejs.config({\n",
       "     paths: {\n",
       "       'JSRootCore' : 'https://root.cern.ch/js/notebook//scripts/JSRootCore',\n",
       "     }\n",
       "   });\n",
       " require(['JSRootCore'],\n",
       "     function(Core) {\n",
       "       var obj = Core.JSONR_unref({\"_typename\":\"TCanvas\",\"fUniqueID\":0,\"fBits\":53673992,\"fLineColor\":1,\"fLineStyle\":1,\"fLineWidth\":1,\"fFillColor\":0,\"fFillStyle\":1001,\"fLeftMargin\":0.1,\"fRightMargin\":0.1,\"fBottomMargin\":0.1,\"fTopMargin\":0.1,\"fXfile\":2,\"fYfile\":2,\"fAfile\":1,\"fXstat\":0.99,\"fYstat\":0.99,\"fAstat\":2,\"fFrameFillColor\":0,\"fFrameLineColor\":1,\"fFrameFillStyle\":1001,\"fFrameLineStyle\":1,\"fFrameLineWidth\":1,\"fFrameBorderSize\":1,\"fFrameBorderMode\":0,\"fX1\":12.4999934807416,\"fY1\":-0.301237039544431,\"fX2\":887.500006519258,\"fY2\":2.71113317634862,\"fXtoAbsPixelk\":-9.9428018090927,\"fXtoPixelk\":-9.9428018090927,\"fXtoPixel\":0.795428559575762,\"fYtoAbsPixelk\":424.800047186661,\"fYtoPixelk\":424.800047186661,\"fYtoPixel\":-156.687248303599,\"fUtoAbsPixelk\":5e-5,\"fUtoPixelk\":5e-5,\"fUtoPixel\":696,\"fVtoAbsPixelk\":472.00005,\"fVtoPixelk\":472,\"fVtoPixel\":-472,\"fAbsPixeltoXk\":12.4999934807416,\"fPixeltoXk\":12.4999934807416,\"fPixeltoX\":1.25718392677948,\"fAbsPixeltoYk\":2.71113317634862,\"fPixeltoYk\":-0.301237039544431,\"fPixeltoY\":-0.006382140287909,\"fXlowNDC\":0,\"fYlowNDC\":0,\"fXUpNDC\":0,\"fYUpNDC\":0,\"fWNDC\":1,\"fHNDC\":1,\"fAbsXlowNDC\":0,\"fAbsYlowNDC\":0,\"fAbsWNDC\":1,\"fAbsHNDC\":1,\"fUxmin\":100,\"fUymin\":0,\"fUxmax\":800,\"fUymax\":2.40989613680419,\"fTheta\":30,\"fPhi\":30,\"fAspectRatio\":0,\"fNumber\":0,\"fTickx\":0,\"fTicky\":0,\"fLogx\":0,\"fLogy\":0,\"fLogz\":0,\"fPadPaint\":0,\"fCrosshair\":0,\"fCrosshairPos\":0,\"fBorderSize\":2,\"fBorderMode\":0,\"fModified\":false,\"fGridx\":false,\"fGridy\":false,\"fAbsCoord\":false,\"fEditable\":true,\"fFixedAspectRatio\":false,\"fPrimitives\":{\"_typename\":\"TList\",\"name\":\"TList\",\"arr\":[{\"_typename\":\"TFrame\",\"fUniqueID\":0,\"fBits\":50331656,\"fLineColor\":1,\"fLineStyle\":1,\"fLineWidth\":1,\"fFillColor\":0,\"fFillStyle\":1001,\"fX1\":100,\"fY1\":0,\"fX2\":800,\"fY2\":2.40989613680419,\"fBorderSize\":1,\"fBorderMode\":0},{\"_typename\":\"TH1D\",\"fUniqueID\":0,\"fBits\":50332168,\"fName\":\"frame_564c919760a0\",\"fTitle\":\"Composite Model\",\"fLineColor\":602,\"fLineStyle\":1,\"fLineWidth\":1,\"fFillColor\":0,\"fFillStyle\":1001,\"fMarkerColor\":1,\"fMarkerStyle\":1,\"fMarkerSize\":1,\"fNcells\":102,\"fXaxis\":{\"_typename\":\"TAxis\",\"fUniqueID\":0,\"fBits\":50331648,\"fName\":\"xaxis\",\"fTitle\":\"LHE_Vpt[GeV]\",\"fNdivisions\":510,\"fAxisColor\":1,\"fLabelColor\":1,\"fLabelFont\":42,\"fLabelOffset\":0.005,\"fLabelSize\":0.035,\"fTickLength\":0.03,\"fTitleOffset\":1,\"fTitleSize\":0.035,\"fTitleColor\":1,\"fTitleFont\":42,\"fNbins\":100,\"fXmin\":100,\"fXmax\":800,\"fXbins\":[],\"fFirst\":0,\"fLast\":0,\"fBits2\":0,\"fTimeDisplay\":false,\"fTimeFormat\":\"\",\"fLabels\":null,\"fModLabs\":null},\"fYaxis\":{\"_typename\":\"TAxis\",\"fUniqueID\":0,\"fBits\":50331648,\"fName\":\"yaxis\",\"fTitle\":\"Events \\/ ( 7 )\",\"fNdivisions\":510,\"fAxisColor\":1,\"fLabelColor\":1,\"fLabelFont\":42,\"fLabelOffset\":0.005,\"fLabelSize\":0.035,\"fTickLength\":0.03,\"fTitleOffset\":0,\"fTitleSize\":0.035,\"fTitleColor\":1,\"fTitleFont\":42,\"fNbins\":1,\"fXmin\":0,\"fXmax\":1,\"fXbins\":[],\"fFirst\":0,\"fLast\":0,\"fBits2\":0,\"fTimeDisplay\":false,\"fTimeFormat\":\"\",\"fLabels\":null,\"fModLabs\":null},\"fZaxis\":{\"_typename\":\"TAxis\",\"fUniqueID\":0,\"fBits\":50331648,\"fName\":\"zaxis\",\"fTitle\":\"\",\"fNdivisions\":510,\"fAxisColor\":1,\"fLabelColor\":1,\"fLabelFont\":42,\"fLabelOffset\":0.005,\"fLabelSize\":0.035,\"fTickLength\":0.03,\"fTitleOffset\":1,\"fTitleSize\":0.035,\"fTitleColor\":1,\"fTitleFont\":42,\"fNbins\":1,\"fXmin\":0,\"fXmax\":1,\"fXbins\":[],\"fFirst\":0,\"fLast\":0,\"fBits2\":0,\"fTimeDisplay\":false,\"fTimeFormat\":\"\",\"fLabels\":null,\"fModLabs\":null},\"fBarOffset\":0,\"fBarWidth\":1000,\"fEntries\":1,\"fTsumw\":0,\"fTsumw2\":0,\"fTsumwx\":0,\"fTsumwx2\":0,\"fMaximum\":2.40989613680419,\"fMinimum\":-1111,\"fNormFactor\":0,\"fContour\":[],\"fSumw2\":[],\"fOption\":\"\",\"fFunctions\":{\"_typename\":\"TList\",\"name\":\"TList\",\"arr\":[],\"opt\":[]},\"fBufferSize\":0,\"fBuffer\":[],\"fBinStatErrOpt\":0,\"fStatOverflows\":2,\"fArray\":[0,2.40989613680419,0,0,0,0,0,0,0,0,0,0,0,0,0,0,0,0,0,0,0,0,0,0,0,0,0,0,0,0,0,0,0,0,0,0,0,0,0,0,0,0,0,0,0,0,0,0,0,0,0,0,0,0,0,0,0,0,0,0,0,0,0,0,0,0,0,0,0,0,0,0,0,0,0,0,0,0,0,0,0,0,0,0,0,0,0,0,0,0,0,0,0,0,0,0,0,0,0,0,0,0]},{\"_typename\":\"RooHist\",\"fUniqueID\":0,\"fBits\":50332680,\"fName\":\"h_d_LHE_Vpt_WHT\",\"fTitle\":\"Histogram of d_LHE_Vpt_WHT_plot__x\",\"fLineColor\":600,\"fLineStyle\":1,\"fLineWidth\":1,\"fFillColor\":0,\"fFillStyle\":1000,\"fMarkerColor\":600,\"fMarkerStyle\":8,\"fMarkerSize\":1,\"fNpoints\":100,\"fX\":[103.5,110.5,117.5,124.5,131.5,138.5,145.5,152.5,159.5,166.5,173.5,180.5,187.5,194.5,201.5,208.5,215.5,222.5,229.5,236.5,243.5,250.5,257.5,264.5,271.5,278.5,285.5,292.5,299.5,306.5,313.5,320.5,327.5,334.5,341.5,348.5,355.5,362.5,369.5,376.5,383.5,390.5,397.5,404.5,411.5,418.5,425.5,432.5,439.5,446.5,453.5,460.5,467.5,474.5,481.5,488.5,495.5,502.5,509.5,516.5,523.5,530.5,537.5,544.5,551.5,558.5,565.5,572.5,579.5,586.5,593.5,600.5,607.5,614.5,621.5,628.5,635.5,642.5,649.5,656.5,663.5,670.5,677.5,684.5,691.5,698.5,705.5,712.5,719.5,726.5,733.5,740.5,747.5,754.5,761.5,768.5,775.5,782.5,789.5,796.5],\"fY\":[1.56577694416046,1.55541837215424,1.53025615215302,1.53104603290558,1.52431535720825,1.50952041149139,1.49554061889648,1.4714663028717,1.45173168182373,1.4456729888916,1.43870031833649,1.39365017414093,1.3772360086441,1.35274851322174,1.89749920368195,2.25808715820312,2.28242230415344,2.26068091392517,2.27362632751465,2.26720380783081,2.25974154472351,2.2526581287384,2.22697782516479,2.21760249137878,2.2332980632782,2.21977496147156,2.1887743473053,2.22003936767578,2.12993049621582,2.20059680938721,2.18155121803284,2.21291017532349,2.20276737213135,2.16936135292053,2.1272759437561,2.11937570571899,2.19450855255127,2.10943913459778,2.11666083335876,2.06718969345093,2.15959453582764,2.09626626968384,2.06913709640503,2.08906435966492,2.0383448600769,1.98846578598022,2.01650977134705,2.01273059844971,2.0772225856781,2.03538203239441,1.95817589759827,2.15446734428406,1.95361852645874,2.07322669029236,2.07396388053894,1.93606913089752,1.93622756004333,2.05487513542175,2.10965251922607,2.01930737495422,2.09699058532715,2.04091739654541,1.94032859802246,2.05966591835022,2.01283740997314,1.96823132038116,1.994349360466,1.97460460662842,1.90435636043549,1.93937480449677,1.8887437582016,2.0239372253418,1.96974682807922,1.8558611869812,1.9668675661087,1.98369324207306,1.93584764003754,1.96189105510712,2.03760600090027,1.94731116294861,1.99400615692139,1.97335374355316,1.93628787994385,1.9294570684433,1.9695520401001,2.03842806816101,1.91020035743713,2.00557351112366,2.08870100975037,1.81267285346985,1.94224834442139,1.91640794277191,2.02761673927307,2.13932061195374,1.99018633365631,2.11160922050476,2.03491711616516,2.04476404190063,1.94428491592407,2.13094663619995],\"fFunctions\":{\"_typename\":\"TList\",\"name\":\"TList\",\"arr\":[],\"opt\":[]},\"fHistogram\":{\"_typename\":\"TH1F\",\"fUniqueID\":0,\"fBits\":50332168,\"fName\":\"h_d_LHE_Vpt_WHT\",\"fTitle\":\"Histogram of d_LHE_Vpt_WHT_plot__x\",\"fLineColor\":602,\"fLineStyle\":1,\"fLineWidth\":1,\"fFillColor\":0,\"fFillStyle\":1001,\"fMarkerColor\":1,\"fMarkerStyle\":1,\"fMarkerSize\":1,\"fNcells\":102,\"fXaxis\":{\"_typename\":\"TAxis\",\"fUniqueID\":0,\"fBits\":50331648,\"fName\":\"xaxis\",\"fTitle\":\"\",\"fNdivisions\":510,\"fAxisColor\":1,\"fLabelColor\":1,\"fLabelFont\":42,\"fLabelOffset\":0.005,\"fLabelSize\":0.035,\"fTickLength\":0.03,\"fTitleOffset\":1,\"fTitleSize\":0.035,\"fTitleColor\":1,\"fTitleFont\":42,\"fNbins\":100,\"fXmin\":30,\"fXmax\":870,\"fXbins\":[],\"fFirst\":0,\"fLast\":0,\"fBits2\":0,\"fTimeDisplay\":false,\"fTimeFormat\":\"\",\"fLabels\":null,\"fModLabs\":null},\"fYaxis\":{\"_typename\":\"TAxis\",\"fUniqueID\":0,\"fBits\":50331648,\"fName\":\"yaxis\",\"fTitle\":\"\",\"fNdivisions\":510,\"fAxisColor\":1,\"fLabelColor\":1,\"fLabelFont\":42,\"fLabelOffset\":0.005,\"fLabelSize\":0.035,\"fTickLength\":0.03,\"fTitleOffset\":0,\"fTitleSize\":0.035,\"fTitleColor\":1,\"fTitleFont\":42,\"fNbins\":1,\"fXmin\":1.24983521113362,\"fXmax\":2.39016681125194,\"fXbins\":[],\"fFirst\":0,\"fLast\":0,\"fBits2\":0,\"fTimeDisplay\":false,\"fTimeFormat\":\"\",\"fLabels\":null,\"fModLabs\":null},\"fZaxis\":{\"_typename\":\"TAxis\",\"fUniqueID\":0,\"fBits\":50331648,\"fName\":\"zaxis\",\"fTitle\":\"\",\"fNdivisions\":510,\"fAxisColor\":1,\"fLabelColor\":1,\"fLabelFont\":42,\"fLabelOffset\":0.005,\"fLabelSize\":0.035,\"fTickLength\":0.03,\"fTitleOffset\":1,\"fTitleSize\":0.035,\"fTitleColor\":1,\"fTitleFont\":42,\"fNbins\":1,\"fXmin\":0,\"fXmax\":1,\"fXbins\":[],\"fFirst\":0,\"fLast\":0,\"fBits2\":0,\"fTimeDisplay\":false,\"fTimeFormat\":\"\",\"fLabels\":null,\"fModLabs\":null},\"fBarOffset\":0,\"fBarWidth\":1000,\"fEntries\":0,\"fTsumw\":0,\"fTsumw2\":0,\"fTsumwx\":0,\"fTsumwx2\":0,\"fMaximum\":2.39016681125194,\"fMinimum\":1.24983521113362,\"fNormFactor\":0,\"fContour\":[],\"fSumw2\":[],\"fOption\":\"\",\"fFunctions\":{\"_typename\":\"TList\",\"name\":\"TList\",\"arr\":[],\"opt\":[]},\"fBufferSize\":0,\"fBuffer\":[],\"fBinStatErrOpt\":0,\"fStatOverflows\":2,\"fArray\":[0,0,0,0,0,0,0,0,0,0,0,0,0,0,0,0,0,0,0,0,0,0,0,0,0,0,0,0,0,0,0,0,0,0,0,0,0,0,0,0,0,0,0,0,0,0,0,0,0,0,0,0,0,0,0,0,0,0,0,0,0,0,0,0,0,0,0,0,0,0,0,0,0,0,0,0,0,0,0,0,0,0,0,0,0,0,0,0,0,0,0,0,0,0,0,0,0,0,0,0,0,0]},\"fMinimum\":-1111,\"fMaximum\":-1111,\"fEXlow\":[3.5,3.5,3.5,3.5,3.5,3.5,3.5,3.5,3.5,3.5,3.5,3.5,3.5,3.5,3.5,3.5,3.5,3.5,3.5,3.5,3.5,3.5,3.5,3.5,3.5,3.5,3.5,3.5,3.5,3.5,3.5,3.5,3.5,3.5,3.5,3.5,3.5,3.5,3.5,3.5,3.5,3.5,3.5,3.5,3.5,3.5,3.5,3.5,3.5,3.5,3.5,3.5,3.5,3.5,3.5,3.5,3.5,3.5,3.5,3.5,3.5,3.5,3.5,3.5,3.5,3.5,3.5,3.5,3.5,3.5,3.5,3.5,3.5,3.5,3.5,3.5,3.5,3.5,3.5,3.5,3.5,3.5,3.5,3.5,3.5,3.5,3.5,3.5,3.5,3.5,3.5,3.5,3.5,3.5,3.5,3.5,3.5,3.5,3.5,3.5],\"fEXhigh\":[3.5,3.5,3.5,3.5,3.5,3.5,3.5,3.5,3.5,3.5,3.5,3.5,3.5,3.5,3.5,3.5,3.5,3.5,3.5,3.5,3.5,3.5,3.5,3.5,3.5,3.5,3.5,3.5,3.5,3.5,3.5,3.5,3.5,3.5,3.5,3.5,3.5,3.5,3.5,3.5,3.5,3.5,3.5,3.5,3.5,3.5,3.5,3.5,3.5,3.5,3.5,3.5,3.5,3.5,3.5,3.5,3.5,3.5,3.5,3.5,3.5,3.5,3.5,3.5,3.5,3.5,3.5,3.5,3.5,3.5,3.5,3.5,3.5,3.5,3.5,3.5,3.5,3.5,3.5,3.5,3.5,3.5,3.5,3.5,3.5,3.5,3.5,3.5,3.5,3.5,3.5,3.5,3.5,3.5,3.5,3.5,3.5,3.5,3.5,3.5],\"fEYlow\":[0.00459392505309597,0.00494414396388332,0.00524554266735584,0.00559763764225666,0.00592137013680948,0.00619919530298592,0.00644604872159165,0.0066770893503609,0.00689481697844666,0.00717026369618002,0.00744329738878164,0.00753162684655142,0.00775934127599375,0.00788566874492534,0.0104985311945658,0.0119268140993797,0.0127168737553074,0.0134055920865957,0.0142134272047375,0.0149593024006282,0.0157691866405399,0.0166157683033941,0.0173805335826384,0.0182725707580205,0.0193783729937717,0.0202260487150091,0.0209672753339373,0.0222762954515912,0.0226858979172734,0.0242223889343935,0.025077355143392,0.0265868716886426,0.0275996050067125,0.0285095093641862,0.0292110957896404,0.0303165530231523,0.0322701308856151,0.0324566480412358,0.0338426042366362,0.0343569120335176,0.0366122938991666,0.0370632514743308,0.037473290571066,0.03858091316311,0.0390913571844103,0.0397868817441431,0.0415919801888422,0.043131190207053,0.0450320009840359,0.0460434944540803,0.0459591064683471,0.0517323666587861,0.0480746204040229,0.0527094343964286,0.0540187298578159,0.0522790490154863,0.0539004916768388,0.0573718112524054,0.0600588159442647,0.0588365296009887,0.062452394643447,0.0622465840221702,0.0595955962543302,0.0639361740431311,0.0629218877913107,0.0620690847260394,0.062112588429447,0.0615241631854465,0.0577789204125534,0.060113083882358,0.0543138777580807,0.0546253886266021,0.0519187896435416,0.0500189543451095,0.0548257120543838,0.0569167980929511,0.0573109093257537,0.0598982301699366,0.0647318737607858,0.0628956751429201,0.0662291677926377,0.0689978092755044,0.0694859953265344,0.0708126314248992,0.0739236226892681,0.0793808652141771,0.0759724551917493,0.0839846852241373,0.0901353116535623,0.0791634153556548,0.0883383398137028,0.0892307541606013,0.10001351848795,0.104728896581338,0.0988753639738875,0.108796470043327,0.110466686953624,0.111022912795884,0.10801471321227,0.122894049741866],\"fEYhigh\":[0.00459392505309597,0.00494414396388332,0.00524554266735584,0.00559763764225666,0.00592137013680948,0.00619919530298592,0.00644604872159165,0.0066770893503609,0.00689481697844666,0.00717026369618002,0.00744329738878164,0.00753162684655142,0.00775934127599375,0.00788566874492534,0.0104985311945658,0.0119268140993797,0.0127168737553074,0.0134055920865957,0.0142134272047375,0.0149593024006282,0.0157691866405399,0.0166157683033941,0.0173805335826384,0.0182725707580205,0.0193783729937717,0.0202260487150091,0.0209672753339373,0.0222762954515912,0.0226858979172734,0.0242223889343935,0.025077355143392,0.0265868716886426,0.0275996050067125,0.0285095093641862,0.0292110957896404,0.0303165530231523,0.0322701308856151,0.0324566480412358,0.0338426042366362,0.0343569120335176,0.0366122938991666,0.0370632514743308,0.037473290571066,0.03858091316311,0.0390913571844103,0.0397868817441431,0.0415919801888422,0.043131190207053,0.0450320009840359,0.0460434944540803,0.0459591064683471,0.0517323666587861,0.0480746204040229,0.0527094343964286,0.0540187298578159,0.0522790490154863,0.0539004916768388,0.0573718112524054,0.0600588159442647,0.0588365296009887,0.062452394643447,0.0622465840221702,0.0595955962543302,0.0639361740431311,0.0629218877913107,0.0620690847260394,0.062112588429447,0.0615241631854465,0.0577789204125534,0.060113083882358,0.0543138777580807,0.0546253886266021,0.0519187896435416,0.0500189543451095,0.0548257120543838,0.0569167980929511,0.0573109093257537,0.0598982301699366,0.0647318737607858,0.0628956751429201,0.0662291677926377,0.0689978092755044,0.0694859953265344,0.0708126314248992,0.0739236226892681,0.0793808652141771,0.0759724551917493,0.0839846852241373,0.0901353116535623,0.0791634153556548,0.0883383398137028,0.0892307541606013,0.10001351848795,0.104728896581338,0.0988753639738875,0.108796470043327,0.110466686953624,0.111022912795884,0.10801471321227,0.122894049741866],\"_yAxisLabel\":\"Events \\/ ( 7 )\",\"_ymin\":0,\"_ymax\":2.29513917790875,\"_normValue\":0,\"_nominalBinWidth\":7,\"_nSigma\":1,\"_entries\":197.829032182693,\"_rawEntries\":-1},{\"_typename\":\"RooCurve\",\"fUniqueID\":0,\"fBits\":50332680,\"fName\":\"model_Norm[x]\",\"fTitle\":\"Projection of ratio p.d.f.\",\"fLineColor\":600,\"fLineStyle\":2,\"fLineWidth\":3,\"fFillColor\":0,\"fFillStyle\":1000,\"fMarkerColor\":1,\"fMarkerStyle\":1,\"fMarkerSize\":1,\"fNpoints\":106,\"fX\":[93,93,100,107,114,121,128,135,142,149,156,163,170,177,184,191,198,205,212,219,226,233,240,247,254,261,268,275,282,289,296,303,310,317,324,331,338,345,352,359,366,373,380,387,394,401,408,415,422,429,436,443,450,457,464,471,478,485,492,499,506,513,520,527,534,541,548,555,562,569,576,583,590,597,604,611,618,625,632,639,646,653,660,667,674,681,688,695,702,709,716,723,730,737,744,751,758,765,772,779,786,793,800,800,807,807],\"fY\":[0,1.30074152949091,1.30074152949091,1.35466307513718,1.4064411494282,1.45611324516661,1.50371685515501,1.54928947219604,1.59286858909231,1.63449169864645,1.67419629366107,1.71201986693879,1.74799991128224,1.78217391949404,1.8145793843768,1.84525379873316,1.87423465536572,1.90155944707711,1.92726566666995,1.95139080694687,1.97397236071048,1.9950478207634,2.01465467990825,2.03283043094766,2.04961256668425,2.06503857992063,2.07914596345943,2.09197221010326,2.10355481265476,2.11393126391654,2.12313905669121,2.13121568378141,2.13819863798975,2.14412541211885,2.14903349897134,2.15296039134983,2.15594358205694,2.1580205638953,2.15922882966753,2.15960587217625,2.15918918422407,2.15801625861363,2.15612458814753,2.15355166562841,2.15033498385887,2.14651203564155,2.14212031377906,2.13719731107403,2.13178052032907,2.12590743434681,2.11961554592986,2.11294234788085,2.1059253330024,2.09860199409713,2.09100982396766,2.08318631541661,2.07516896124659,2.06699525426025,2.05870268726018,2.05032875304902,2.04191094442938,2.03348675420389,2.02509367517516,2.01676920014582,2.00855082191849,2.00047603329579,1.99258232708033,1.98490719607475,1.97748813308165,1.97036263090367,1.96356818234342,1.95714228020353,1.95112241728661,1.94554608639528,1.94045078033217,1.9358739918999,1.93185321390108,1.92842593913834,1.9256296604143,1.92350187053158,1.9220800622928,1.92140172850058,1.92150436195754,1.92242545546631,1.9242025018295,1.92687299384973,1.93047442432963,1.93504428607182,1.94062007187891,1.94723927455353,1.9549393868983,1.96375790171584,1.97373231180877,1.98490010997971,1.99729878903128,2.0109658417661,2.0259387609868,2.04225503949599,2.0599521700963,2.07906764559034,2.09963895878074,2.12170360247011,2.14529906946109,2.14529906946109,2.14529906946109,0],\"fFunctions\":{\"_typename\":\"TList\",\"name\":\"TList\",\"arr\":[],\"opt\":[]},\"fHistogram\":{\"_typename\":\"TH1F\",\"fUniqueID\":0,\"fBits\":50332168,\"fName\":\"model_Norm[x]\",\"fTitle\":\"Projection of ratio p.d.f.\",\"fLineColor\":602,\"fLineStyle\":1,\"fLineWidth\":1,\"fFillColor\":0,\"fFillStyle\":1001,\"fMarkerColor\":1,\"fMarkerStyle\":1,\"fMarkerSize\":1,\"fNcells\":108,\"fXaxis\":{\"_typename\":\"TAxis\",\"fUniqueID\":0,\"fBits\":50331648,\"fName\":\"xaxis\",\"fTitle\":\"\",\"fNdivisions\":510,\"fAxisColor\":1,\"fLabelColor\":1,\"fLabelFont\":42,\"fLabelOffset\":0.005,\"fLabelSize\":0.035,\"fTickLength\":0.03,\"fTitleOffset\":1,\"fTitleSize\":0.035,\"fTitleColor\":1,\"fTitleFont\":42,\"fNbins\":106,\"fXmin\":21.6,\"fXmax\":878.4,\"fXbins\":[],\"fFirst\":0,\"fLast\":0,\"fBits2\":0,\"fTimeDisplay\":false,\"fTimeFormat\":\"\",\"fLabels\":null,\"fModLabs\":null},\"fYaxis\":{\"_typename\":\"TAxis\",\"fUniqueID\":0,\"fBits\":50331648,\"fName\":\"yaxis\",\"fTitle\":\"\",\"fNdivisions\":510,\"fAxisColor\":1,\"fLabelColor\":1,\"fLabelFont\":42,\"fLabelOffset\":0.005,\"fLabelSize\":0.035,\"fTickLength\":0.03,\"fTitleOffset\":0,\"fTitleSize\":0.035,\"fTitleColor\":1,\"fTitleFont\":42,\"fNbins\":1,\"fXmin\":0,\"fXmax\":2.37556645939387,\"fXbins\":[],\"fFirst\":0,\"fLast\":0,\"fBits2\":0,\"fTimeDisplay\":false,\"fTimeFormat\":\"\",\"fLabels\":null,\"fModLabs\":null},\"fZaxis\":{\"_typename\":\"TAxis\",\"fUniqueID\":0,\"fBits\":50331648,\"fName\":\"zaxis\",\"fTitle\":\"\",\"fNdivisions\":510,\"fAxisColor\":1,\"fLabelColor\":1,\"fLabelFont\":42,\"fLabelOffset\":0.005,\"fLabelSize\":0.035,\"fTickLength\":0.03,\"fTitleOffset\":1,\"fTitleSize\":0.035,\"fTitleColor\":1,\"fTitleFont\":42,\"fNbins\":1,\"fXmin\":0,\"fXmax\":1,\"fXbins\":[],\"fFirst\":0,\"fLast\":0,\"fBits2\":0,\"fTimeDisplay\":false,\"fTimeFormat\":\"\",\"fLabels\":null,\"fModLabs\":null},\"fBarOffset\":0,\"fBarWidth\":1000,\"fEntries\":0,\"fTsumw\":0,\"fTsumw2\":0,\"fTsumwx\":0,\"fTsumwx2\":0,\"fMaximum\":2.37556645939387,\"fMinimum\":0,\"fNormFactor\":0,\"fContour\":[],\"fSumw2\":[],\"fOption\":\"\",\"fFunctions\":{\"_typename\":\"TList\",\"name\":\"TList\",\"arr\":[],\"opt\":[]},\"fBufferSize\":0,\"fBuffer\":[],\"fBinStatErrOpt\":0,\"fStatOverflows\":2,\"fArray\":[0,0,0,0,0,0,0,0,0,0,0,0,0,0,0,0,0,0,0,0,0,0,0,0,0,0,0,0,0,0,0,0,0,0,0,0,0,0,0,0,0,0,0,0,0,0,0,0,0,0,0,0,0,0,0,0,0,0,0,0,0,0,0,0,0,0,0,0,0,0,0,0,0,0,0,0,0,0,0,0,0,0,0,0,0,0,0,0,0,0,0,0,0,0,0,0,0,0,0,0,0,0,0,0,0,0,0,0]},\"fMinimum\":-1111,\"fMaximum\":-1111,\"_yAxisLabel\":\"Projection of ratio p.d.f.\",\"_ymin\":0,\"_ymax\":2.15960587217625,\"_normValue\":0},{\"$ref\":3},{\"_typename\":\"TPaveText\",\"fUniqueID\":0,\"fBits\":50331657,\"fLineColor\":1,\"fLineStyle\":1,\"fLineWidth\":1,\"fFillColor\":0,\"fFillStyle\":0,\"fX1\":316.160199155057,\"fY1\":2.51226569934147,\"fX2\":583.839800844943,\"fY2\":2.69607133963325,\"fX1NDC\":0.347040229885057,\"fY1NDC\":0.933983055615829,\"fX2NDC\":0.652959770114943,\"fY2NDC\":0.995000004768372,\"fBorderSize\":0,\"fInit\":1,\"fShadowColor\":1,\"fCornerRadius\":0,\"fOption\":\"blNDC\",\"fName\":\"title\",\"fTextAngle\":0,\"fTextSize\":0,\"fTextAlign\":22,\"fTextColor\":1,\"fTextFont\":42,\"fLabel\":\"\",\"fLongest\":15,\"fMargin\":0.05,\"fLines\":{\"_typename\":\"TList\",\"name\":\"TList\",\"arr\":[{\"_typename\":\"TLatex\",\"fUniqueID\":0,\"fBits\":50331648,\"fName\":\"\",\"fTitle\":\"Composite Model\",\"fTextAngle\":0,\"fTextSize\":0,\"fTextAlign\":0,\"fTextColor\":0,\"fTextFont\":0,\"fX\":0,\"fY\":0,\"fLineColor\":1,\"fLineStyle\":1,\"fLineWidth\":2,\"fLimitFactorSize\":3,\"fOriginSize\":0.0518644079566002}],\"opt\":[\"\"]}}],\"opt\":[\"\",\"FUNC\",\"p\",\"l\",\"AXISSAME\",\"blNDC\"]},\"fExecs\":null,\"fName\":\"c1_n3\",\"fTitle\":\"c1_n3\",\"fNumPaletteColor\":0,\"fNextPaletteColor\":0,\"fDISPLAY\":\"$DISPLAY\",\"fDoubleBuffer\":0,\"fRetained\":true,\"fXsizeUser\":0,\"fYsizeUser\":0,\"fXsizeReal\":20,\"fYsizeReal\":14.28571,\"fWindowTopX\":0,\"fWindowTopY\":0,\"fWindowWidth\":0,\"fWindowHeight\":0,\"fCw\":696,\"fCh\":472,\"fCatt\":{\"_typename\":\"TAttCanvas\",\"fXBetween\":2,\"fYBetween\":2,\"fTitleFromTop\":1.2,\"fXdate\":0.2,\"fYdate\":0.3,\"fAdate\":1},\"kMoveOpaque\":true,\"kResizeOpaque\":true,\"fHighLightColor\":2,\"fBatch\":true,\"kShowEventStatus\":false,\"kAutoExec\":true,\"kMenuBar\":true});\n",
       "       Core.draw(\"root_plot_3\", obj, \"\");\n",
       "     }\n",
       " );\n",
       "</script>\n"
      ],
      "text/plain": [
       "<IPython.core.display.HTML object>"
      ]
     },
     "metadata": {},
     "output_type": "display_data"
    }
   ],
   "source": [
    "c1.Draw()"
   ]
  },
  {
   "cell_type": "code",
   "execution_count": null,
   "metadata": {},
   "outputs": [],
   "source": []
  }
 ],
 "metadata": {
  "kernelspec": {
   "display_name": "Python 2",
   "language": "python",
   "name": "python2"
  },
  "language_info": {
   "codemirror_mode": {
    "name": "ipython",
    "version": 2
   },
   "file_extension": ".py",
   "mimetype": "text/x-python",
   "name": "python",
   "nbconvert_exporter": "python",
   "pygments_lexer": "ipython2",
   "version": "2.7.16"
  }
 },
 "nbformat": 4,
 "nbformat_minor": 2
}
