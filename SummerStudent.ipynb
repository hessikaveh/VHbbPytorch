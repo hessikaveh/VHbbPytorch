{
  "nbformat": 4,
  "nbformat_minor": 0,
  "metadata": {
    "colab": {
      "name": "IndependenceSeminar.ipynb",
      "version": "0.3.2",
      "provenance": [],
      "collapsed_sections": [],
      "toc_visible": true,
      "include_colab_link": true
    },
    "language_info": {
      "codemirror_mode": {
        "name": "ipython",
        "version": 3
      },
      "file_extension": ".py",
      "mimetype": "text/x-python",
      "name": "python",
      "nbconvert_exporter": "python",
      "pygments_lexer": "ipython3",
      "version": "3.6.8"
    },
    "kernelspec": {
      "display_name": "Python 3",
      "language": "python",
      "name": "python3"
    }
  },
  "cells": [
    {
      "cell_type": "markdown",
      "metadata": {
        "id": "view-in-github",
        "colab_type": "text"
      },
      "source": [
        "<a href=\"https://colab.research.google.com/github/hessikaveh/VHbbPytorch/blob/master/SummerStudent.ipynb\" target=\"_parent\"><img src=\"https://colab.research.google.com/assets/colab-badge.svg\" alt=\"Open In Colab\"/></a>"
      ]
    },
    {
      "cell_type": "code",
      "metadata": {
        "id": "crT-bnwf2ys3",
        "colab_type": "code",
        "outputId": "139a8640-816e-4fd9-efcf-8c44728175c4",
        "colab": {
          "base_uri": "https://localhost:8080/",
          "height": 126
        }
      },
      "source": [
        "from google.colab import drive\n",
        "drive.mount('/content/drive')"
      ],
      "execution_count": 0,
      "outputs": [
        {
          "output_type": "stream",
          "text": [
            "Go to this URL in a browser: https://accounts.google.com/o/oauth2/auth?client_id=947318989803-6bn6qk8qdgf4n4g3pfee6491hc0brc4i.apps.googleusercontent.com&redirect_uri=urn%3Aietf%3Awg%3Aoauth%3A2.0%3Aoob&scope=email%20https%3A%2F%2Fwww.googleapis.com%2Fauth%2Fdocs.test%20https%3A%2F%2Fwww.googleapis.com%2Fauth%2Fdrive%20https%3A%2F%2Fwww.googleapis.com%2Fauth%2Fdrive.photos.readonly%20https%3A%2F%2Fwww.googleapis.com%2Fauth%2Fpeopleapi.readonly&response_type=code\n",
            "\n",
            "Enter your authorization code:\n",
            "··········\n",
            "Mounted at /content/drive\n"
          ],
          "name": "stdout"
        }
      ]
    },
    {
      "cell_type": "markdown",
      "metadata": {
        "colab_type": "text",
        "id": "vPlnTbD4-hDo"
      },
      "source": [
        "\n",
        "## 1.1 Visualise the data\n",
        "\n",
        "Let's generate the data and visualise it below. Darker reds correspond to higher values of z."
      ]
    },
    {
      "cell_type": "code",
      "metadata": {
        "id": "GkuQV-9-G9N9",
        "colab_type": "code",
        "colab": {}
      },
      "source": [
        "import matplotlib.pyplot as plt\n",
        "import numpy as np"
      ],
      "execution_count": 0,
      "outputs": []
    },
    {
      "cell_type": "markdown",
      "metadata": {
        "colab_type": "text",
        "id": "MGkBjAh15oCp"
      },
      "source": [
        "## 1.2 Classifier definition\n",
        "\n",
        "Let's define a basic Classifier class. It will be used in both the normal and the adversarial training."
      ]
    },
    {
      "cell_type": "code",
      "metadata": {
        "colab_type": "code",
        "id": "bW1F7cd1upQ6",
        "colab": {}
      },
      "source": [
        "import torch\n",
        "import torch.nn as nn\n",
        "import torch.nn.functional as F\n",
        "\n",
        "\n",
        "class Classifier(nn.Module):\n",
        "    \"\"\"\n",
        "    Basic classifier class\n",
        "    \n",
        "    Args:\n",
        "        width (int): number of nodes in each layer\n",
        "    \"\"\"\n",
        "    \n",
        "    def __init__(self, width, n_inputs=2):\n",
        "        super(Classifier, self).__init__()\n",
        "        self.width = width\n",
        "    \n",
        "        # input layer\n",
        "        self.input = nn.Linear(n_inputs, width)\n",
        "    \n",
        "        # hidden layers\n",
        "        self.h1 = nn.Linear(width, width)\n",
        "        self.h2 = nn.Linear(width, width)\n",
        "    \n",
        "        # output layer\n",
        "        self.output = nn.Linear(width, 1)\n",
        "\n",
        "    def forward(self, x):\n",
        "    \n",
        "        # input layer\n",
        "        x = F.relu(self.input(x))\n",
        "    \n",
        "        # hidden layers\n",
        "        x = F.relu(self.h1(x))\n",
        "        x = F.relu(self.h2(x))\n",
        "        \n",
        "        # output layer\n",
        "        x = torch.sigmoid(self.output(x))\n",
        "    \n",
        "        return x\n"
      ],
      "execution_count": 0,
      "outputs": []
    },
    {
      "cell_type": "markdown",
      "metadata": {
        "colab_type": "text",
        "id": "eCT5w_Zo5BXQ"
      },
      "source": [
        "## 1.3 Standard (non-adversarial) classifier training and evaluation\n",
        "\n",
        "Let's first train a vanilla classifier and see how it performs."
      ]
    },
    {
      "cell_type": "markdown",
      "metadata": {
        "colab_type": "text",
        "id": "dDkxj64--qQ8"
      },
      "source": [
        "### Training block\n",
        "\n",
        "Training block is written as a function in order to emphasize similarities between the toy and the physics example. All that will be different is the function which generates X, Y, and Z."
      ]
    },
    {
      "cell_type": "code",
      "metadata": {
        "colab_type": "code",
        "id": "_eWc_WE75udO",
        "colab": {}
      },
      "source": [
        "def normal_training(generating_function, N_train=500):\n",
        "    \n",
        "    # determine the size of hte classifier\n",
        "    X, _, _, _ = generating_function(10)\n",
        "    n_inputs = X.shape[1]\n",
        "    \n",
        "    # create the network and the optimiser\n",
        "    clf = Classifier(10, n_inputs=n_inputs)\n",
        "    optimiser = torch.optim.Adam(clf.parameters(), lr=0.001)\n",
        "    criterion = nn.BCELoss()\n",
        "\n",
        "    # track the losses\n",
        "    clf_losses = []\n",
        "    clf_losses_test = []\n",
        "\n",
        "    for _ in range(N_train):\n",
        "\n",
        "        # create the data\n",
        "        X, Y, Z, weights = generating_function(512)\n",
        "        X = torch.as_tensor(X, dtype=torch.float)\n",
        "        Y = torch.as_tensor(Y.reshape(-1, 1), dtype=torch.float)\n",
        "        Z = torch.as_tensor(Z.reshape(-1, 1), dtype=torch.float)\n",
        "        weights = torch.as_tensor(weights.reshape(-1, 1), dtype=torch.float)\n",
        "\n",
        "        # make the training loss\n",
        "        output = clf(X)\n",
        "        loss = criterion(output, Y)\n",
        "        clf_losses.append(loss.data.numpy().item())\n",
        "\n",
        "        # backprop\n",
        "        clf.zero_grad()\n",
        "        loss.backward()\n",
        "        optimiser.step()\n",
        "        \n",
        "        # test loss\n",
        "        X_test, Y_test, _ , weights_test= generating_function(512, train=False)\n",
        "        X_test = torch.as_tensor(X_test, dtype=torch.float)\n",
        "        Y_test = torch.as_tensor(Y_test.reshape(-1, 1), dtype=torch.float)\n",
        "        output_test = clf(X_test)\n",
        "        loss_test = criterion(output_test, Y_test) \n",
        "        clf_losses_test.append(loss_test.data.numpy().item())\n",
        "    \n",
        "    print('Done with training')\n",
        "\n",
        "    fig, ax = plt.subplots()\n",
        "    ax.plot(range(len(clf_losses)), clf_losses, label='train loss')\n",
        "    ax.plot(range(len(clf_losses_test)), clf_losses_test, label='test loss')\n",
        "    ax.set_xlabel('Training step')\n",
        "    ax.set_ylabel('Classifier loss')\n",
        "    ax.legend(loc='best')\n",
        "    plt.show()\n",
        "    \n",
        "    return clf\n",
        "\n",
        "#clf_toys = normal_training(generate_toys)"
      ],
      "execution_count": 0,
      "outputs": []
    },
    {
      "cell_type": "markdown",
      "metadata": {
        "colab_type": "text",
        "id": "4iYN5N1CA8qk"
      },
      "source": [
        "### Evaluation\n",
        "\n",
        "\n",
        "Lots of plotting code, no need to read, just look at the figures on the bottom.\n",
        "\n",
        "-----\n",
        "\n",
        "The first panel shows the variates as above, with darker reds meaning higher Z values.\n",
        "\n",
        "The second panel shows the classifier output as a surface over the 2D input plane.\n",
        "\n",
        "The third panel shows the ROC curves for examples generated at Z=-1, 0, and 1. It is clear that separation is easier for higher values of Z.\n",
        "\n",
        "The fourth panel shows the classifier output distribution for examples at Z=-1, 0, and 1. Similarly, the distribution of Z=1 examples is shifted to the right."
      ]
    },
    {
      "cell_type": "code",
      "metadata": {
        "colab_type": "code",
        "id": "ZwHwmWSdLRku",
        "colab": {}
      },
      "source": [
        "from sklearn.metrics import roc_curve\n",
        "\n",
        "def show_roc_curves(ax, clf, generate):\n",
        "\n",
        "    # generate test data\n",
        "    n_samples = 10000\n",
        "    X0, Y0, Z0 = generate(n_samples, z=0)\n",
        "    X1, Y1, Z1 = generate(n_samples, z=1)\n",
        "    X_1, Y_1, Z_1 = generate(n_samples, z=-1)\n",
        "\n",
        "    # compute the roc curves\n",
        "    Y0_pred = clf(torch.as_tensor(X0, dtype=torch.float))\n",
        "    fpr0, tpr0, _ = roc_curve(Y0, Y0_pred.data)\n",
        "\n",
        "    Y1_pred = clf(torch.as_tensor(X1, dtype=torch.float))\n",
        "    fpr1, tpr1, _ = roc_curve(Y1, Y1_pred.data)\n",
        "\n",
        "    Y_1_pred = clf(torch.as_tensor(X_1, dtype=torch.float))\n",
        "    fpr_1, tpr_1, _ = roc_curve(Y_1, Y_1_pred.data)\n",
        "\n",
        "    # draw the roc curves\n",
        "    ax.plot(fpr_1, tpr_1, c='yellow', label='Z=-1')\n",
        "    ax.plot(fpr0, tpr0, c='red', label='Z=0')\n",
        "    ax.plot(fpr1, tpr1, c='darkred', label='Z=1')\n",
        "\n",
        "    # cosmetics\n",
        "    ax.legend(loc='best')\n",
        "    ax.set_xlabel('False positive rate')\n",
        "    ax.set_ylabel('True positive rate')\n",
        "    ax.set_title('ROC curve')\n",
        "\n",
        "def show_clf_output(ax, clf, generate):\n",
        "\n",
        "    # generate test data\n",
        "    n_samples = 10000\n",
        "    X0, Y0, Z0 = generate(n_samples, z=0)\n",
        "    X1, Y1, Z1 = generate(n_samples, z=1)\n",
        "    X_1, Y_1, Z_1 = generate(n_samples, z=-1)\n",
        "\n",
        "    # compute the predictions\n",
        "    Y0_pred = clf(torch.as_tensor(X0, dtype=torch.float)) \n",
        "    Y1_pred = clf(torch.as_tensor(X1, dtype=torch.float))\n",
        "    Y_1_pred = clf(torch.as_tensor(X_1, dtype=torch.float))\n",
        "\n",
        "    # show them\n",
        "    bins = 30\n",
        "    ax.hist(Y1_pred.data.numpy(), bins=bins, density=True, color='darkred', histtype='step', label='Z=1')\n",
        "    ax.hist(Y0_pred.data.numpy(), bins=bins, density=True, color='red', histtype='step', label='Z=0')\n",
        "    ax.hist(Y_1_pred.data.numpy(), bins=bins, density=True, color='yellow', histtype='step', label='Z=-1')\n",
        "\n",
        "    # cosmetics\n",
        "    ax.legend(loc='best')\n",
        "    ax.set_title('Classifier output')\n",
        "    ax.set_xlabel('Classifier output f(X|Z=z)')\n",
        "\n",
        "def show_decision_boundary(ax, clf, generate):\n",
        "\n",
        "    # generate test data\n",
        "    n_samples = 100000\n",
        "    X, Y, Z = generate(n_samples)\n",
        "\n",
        "    # predict\n",
        "    preds = clf(torch.as_tensor(X, dtype=torch.float)).data.numpy()\n",
        "\n",
        "    # plot\n",
        "    dec = ax.tricontourf(X[:,0], X[:,1], preds.ravel(), 20, extend='both')\n",
        "    plt.colorbar(dec, ax=ax)\n",
        "\n",
        "    # cosmetics\n",
        "    ax.set_ylim(-1, 3)\n",
        "    ax.set_xlim(-1, 2)\n",
        "    ax.set_title('Decision boundary')\n",
        "    ax.set_xlabel('x1')\n",
        "    ax.set_ylabel('x2')\n",
        "\n",
        "def evaluate_classifier(clf, generate):\n",
        "\n",
        "    fig, ax = plt.subplots(2, 2, figsize=(10, 10))\n",
        "    show_variates(ax[0, 0], generate)\n",
        "    show_decision_boundary(ax[0, 1], clf, generate)\n",
        "    show_roc_curves(ax[1,0], clf, generate)\n",
        "    show_clf_output(ax[1,1], clf, generate)\n",
        "    plt.show()\n",
        "    \n",
        "#evaluate_classifier(clf_toys, generate_toys)"
      ],
      "execution_count": 0,
      "outputs": []
    },
    {
      "cell_type": "markdown",
      "metadata": {
        "colab_type": "text",
        "id": "JHqJ34205yoy"
      },
      "source": [
        "## 1.4 Adversarial training of the classifier\n",
        "\n",
        "Let's now train the same classifier with it's loss function modified by the adversary. "
      ]
    },
    {
      "cell_type": "markdown",
      "metadata": {
        "colab_type": "text",
        "id": "5slQhbEy515g"
      },
      "source": [
        "### Adversary definition\n",
        "\n",
        "In this simple example the adversary is a regression NN. It is used to predict the protected parameter Z from the classifier output."
      ]
    },
    {
      "cell_type": "code",
      "metadata": {
        "colab_type": "code",
        "id": "BvBJeyd0-NHT",
        "colab": {}
      },
      "source": [
        "class Regressor(nn.Module):\n",
        "    \"\"\"\n",
        "    Basic regressor class. Can (and will) be used as the adversary in the\n",
        "    training of the classifier.\n",
        "    \n",
        "    Args:\n",
        "        width (int): number of nodes in each layer\n",
        "    \"\"\"\n",
        "    \n",
        "    def __init__(self, width):\n",
        "        super(Regressor, self).__init__()\n",
        "        self.width = width\n",
        "    \n",
        "        # input layer\n",
        "        self.input = nn.Linear(1, width)\n",
        "    \n",
        "        # hidden layers\n",
        "        self.h1 = nn.Linear(width, width)\n",
        "        self.h2 = nn.Linear(width, width)\n",
        "    \n",
        "        # output layer\n",
        "        self.output = nn.Linear(width, 1)\n",
        "\n",
        "    def forward(self, x):\n",
        "    \n",
        "        # input layer\n",
        "        x = F.relu(self.input(x))\n",
        "    \n",
        "        # hidden layers\n",
        "        x = F.relu(self.h1(x))\n",
        "        x = F.relu(self.h2(x))\n",
        "        \n",
        "        # output layer\n",
        "        x = self.output(x)\n",
        "    \n",
        "        return x\n",
        "\n"
      ],
      "execution_count": 0,
      "outputs": []
    },
    {
      "cell_type": "markdown",
      "metadata": {
        "colab_type": "text",
        "id": "w8DCFaewVO9T"
      },
      "source": [
        "### Classifier training with the adversary\n",
        "\n",
        "Train the classifier adversarially. Make sure you understand the code in this block."
      ]
    },
    {
      "cell_type": "code",
      "metadata": {
        "colab_type": "code",
        "id": "In-VufRz5x5c",
        "colab": {}
      },
      "source": [
        "def adversarial_training(generating_function, N_train=200):\n",
        "    \n",
        "    # determine the size of hte classifier\n",
        "    X, _, _,_ = generating_function(10)\n",
        "    n_inputs = X.shape[1]\n",
        "    \n",
        "    # create the classifier and the adversary networks\n",
        "    clf = Classifier(10, n_inputs=n_inputs)\n",
        "    adv = Regressor(10)\n",
        "\n",
        "    # training settings\n",
        "    learning_rate = 0.001\n",
        "    lam = 10.0 # lambda tradeoff parameter\n",
        "\n",
        "    # choose the criterions\n",
        "    clf_criterion = nn.BCELoss()\n",
        "    adv_criterion = nn.MSELoss()\n",
        "\n",
        "    # create optimisers (larger learning rate for the adversary )\n",
        "    clf_optimiser = torch.optim.Adam(clf.parameters(), lr=learning_rate)\n",
        "    adv_optimiser = torch.optim.Adam(adv.parameters(), lr=10*learning_rate)\n",
        "\n",
        "    # keep track of the losses\n",
        "    clf_losses = []\n",
        "    adv_losses = []\n",
        "    clf_losses_test = []\n",
        "    adv_losses_test = []\n",
        "\n",
        "    # training loop\n",
        "    for _ in range(N_train):\n",
        "\n",
        "        # create the data\n",
        "        X, Y, Z, weights = generating_function(512)\n",
        "        X = torch.as_tensor(X, dtype=torch.float)\n",
        "        Y = torch.as_tensor(Y.reshape(-1, 1), dtype=torch.float)\n",
        "        Z = torch.as_tensor(Z.reshape(-1, 1), dtype=torch.float)\n",
        "        weights = torch.as_tensor(weights.reshape(-1, 1), dtype=torch.float)\n",
        "        ##############################\n",
        "        # Update the adversary network\n",
        "        ##############################\n",
        "        M=10\n",
        "        for i in range(M):\n",
        "          # make the adversary loss\n",
        "          clf_output = clf(X)\n",
        "          adv_output = adv(clf_output)\n",
        "          adv_loss = adv_criterion(adv_output, Z)\n",
        "          adv_losses.append(adv_loss.data.numpy().item())\n",
        "\n",
        "          # backprop: adapt the adversary to the classifier (only update the adversary weights)\n",
        "          adv.zero_grad()\n",
        "          adv_loss.backward()\n",
        "          adv_optimiser.step()\n",
        "\n",
        "        ##############################\n",
        "        # Update the classifier network\n",
        "        ##############################\n",
        "    \n",
        "\n",
        "        # forward pass\n",
        "        clf_output = clf(X)\n",
        "        adv_output = adv(clf_output)\n",
        "    \n",
        "        # make the losses: both the classifier and the adversary loss\n",
        "        # combined loss: note the minus sign!\n",
        "        # (when updating the classifier, the goal is to confuse the adversary)\n",
        "        clf_loss = clf_criterion(clf_output, Y)\n",
        "        clf_loss = weights * clf_loss\n",
        "        adv_loss = adv_criterion(adv_output, Z)\n",
        "        adv_loss = weights * adv_loss\n",
        "        comb_loss = torch.mean(clf_loss - lam * adv_loss)\n",
        "            \n",
        "        # backprop the classifier: update only the classifier weights (keep adversary intact)\n",
        "        clf.zero_grad()\n",
        "        comb_loss.backward()\n",
        "        clf_optimiser.step()\n",
        "            \n",
        "        #clf_losses.append(clf_loss.data.numpy().item())\n",
        "    \n",
        "        #######################\n",
        "        # store the test losses\n",
        "        #######################\n",
        "        X_test, Y_test, _,weights_test = generating_function(512, train=False)\n",
        "        X_test = torch.as_tensor(X_test, dtype=torch.float)\n",
        "        Y_test = torch.as_tensor(Y_test.reshape(-1, 1), dtype=torch.float)\n",
        "        output_test = clf(X_test)\n",
        "        loss_test = clf_criterion(output_test, Y_test)\n",
        "        clf_losses_test.append(loss_test.data.numpy().item())\n",
        "    \n",
        "    print('Done with training')\n",
        "\n",
        "    fig, ax = plt.subplots(2, sharex=True)\n",
        "    ax[0].plot(range(len(clf_losses)), clf_losses, label='train loss')\n",
        "    ax[0].plot(range(len(clf_losses_test)), clf_losses_test, label='test loss')\n",
        "    ax[0].set_ylabel('Classifier loss')\n",
        "    ax[0].legend(loc='best')\n",
        "    ax[1].plot(range(len(adv_losses)), adv_losses, color='k')\n",
        "    ax[1].set_ylabel('Adversary loss')\n",
        "    ax[1].set_xlabel('Training step')\n",
        "    plt.show()\n",
        "    \n",
        "    return clf\n",
        "\n",
        "\n",
        "#clf_toys_adv = adversarial_training(generate_toys, 300)\n",
        "#evaluate_classifier(clf_toys_adv, generate_toys)"
      ],
      "execution_count": 0,
      "outputs": []
    },
    {
      "cell_type": "markdown",
      "metadata": {
        "colab_type": "text",
        "id": "Qk_r98gq-yfc"
      },
      "source": [
        "# 2 Physics example\n",
        "\n",
        "Here we look at a physically interesting situation: Search for a Standard Model Higgs boson produced in association with a vector boson decaying to a pair of bottom quarks (VH->bb). While there are several backgrounds in the real analysis we will focus on just one, Z+jets.\n",
        "\n",
        "The goal of the classification task is to separate H->bb events from the Z+jets background without learning the mass of the di-b-jet system.\n",
        "\n",
        "-----\n",
        "\n",
        "Thanks to Philipp Windischhofer for producing and sharing these MadGraph samples!"
      ]
    },
    {
      "cell_type": "markdown",
      "metadata": {
        "colab_type": "text",
        "id": "sRT24l4obnBk"
      },
      "source": [
        "## 2.1 Visualise the data"
      ]
    },
    {
      "cell_type": "markdown",
      "metadata": {
        "colab_type": "text",
        "id": "DJMjEILImjr6"
      },
      "source": [
        "### Get the data\n",
        "\n",
        "This will download ~12MB, will hopefully take no more than a minute."
      ]
    },
    {
      "cell_type": "code",
      "metadata": {
        "id": "NzKO2WDq2mbK",
        "colab_type": "code",
        "colab": {}
      },
      "source": [
        "    # ------------------------------------------\n",
        "    # load pickled numpy arrays or HDF5 as input data\n",
        "    # ------------------------------------------\n",
        "    def unpickle(fileName):\n",
        "        # pickled and gzipped numpy arrays\n",
        "        if fileName.endswith('.dmpz') or fileName.endswith('.dmp'):\n",
        "            inputFile = gzip.open(fileName,'rb') if fileName.endswith('.dmpz') else open(fileName, \"rb\")\n",
        "            try:\n",
        "                data = pickle.load(inputFile, encoding='latin1')\n",
        "            except:\n",
        "                data = pickle.load(inputFile)\n",
        "            inputFile.close()\n",
        "        # HDF5 (smaller, recommended)\n",
        "        elif fileName.endswith('.h5') or fileName.endswith('.hdf5'):\n",
        "            data = {}\n",
        "            with h5py.File(fileName, \"r\") as f:\n",
        "                for k in ['meta', 'category_labels']:\n",
        "                    data[k] = dict(json.loads(f.attrs[k].decode('utf-8'))) #py3 no .decode('utf-8') needed\n",
        "                for k in ['train', 'test']:\n",
        "                    data[k] = {k2: f.get(k + '/' + k2).value for k2 in ['X', 'y']}\n",
        "                    #optional: 'sample_weight', 'sample_weight_error'\n",
        "                    try:\n",
        "                        data[k]['sample_weight'] = f.get(k + '/sample_weight').value\n",
        "                    except:\n",
        "                        data[k]['sample_weight'] = np.full(len(data[k]['y']), 1.0, dtype=np.float32)\n",
        "                    try:\n",
        "                        data[k]['sample_weight_error'] = f.get(k + '/sample_weight_error').value\n",
        "                    except:\n",
        "                        data[k]['sample_weight_error'] = np.full(len(data[k]['y']), 0.0, dtype=np.float32)\n",
        "\n",
        "                try:\n",
        "                    for k in ['data']:\n",
        "                        data[k] = {k2: f.get(k + '/' + k2).value for k2 in ['X']}\n",
        "                    print(\"INFO: DATA included in H5 file, can make DATA/MC plots!\")\n",
        "                except:\n",
        "                    pass\n",
        "\n",
        "        # print meta data\n",
        "        if 'meta' in data:\n",
        "            print(\"INFO: read inputs from disk, metadata is pesent:\")\n",
        "            for k in sorted(data['meta'].keys()):\n",
        "                print(\"INFO:  >  \",k,data['meta'][k])\n",
        "        return data\n"
      ],
      "execution_count": 0,
      "outputs": []
    },
    {
      "cell_type": "code",
      "metadata": {
        "id": "ZU4Me2yG2mbS",
        "colab_type": "code",
        "colab": {}
      },
      "source": [
        "#!pip install h5py"
      ],
      "execution_count": 0,
      "outputs": []
    },
    {
      "cell_type": "code",
      "metadata": {
        "colab_type": "code",
        "id": "Mz-uNYC7BnqQ",
        "outputId": "49ff54fe-43f9-410d-8a2c-c73c92a8aeca",
        "colab": {
          "base_uri": "https://localhost:8080/",
          "height": 1000
        }
      },
      "source": [
        "import os\n",
        "import pandas as pd\n",
        "from sklearn.decomposition import PCA\n",
        "from sklearn.model_selection import train_test_split\n",
        "import h5py\n",
        "import json\n",
        "import numpy as np\n",
        "# download the data\n",
        "if not 'data_summer.h5' in os.listdir():\n",
        "    print('Downloading data:')\n",
        "    !wget https://github.com/hessikaveh/VHbbPytorch/raw/master/data_summer.h5 -O data_summer.h5\n",
        "else:\n",
        "    print('Data already downloaded')\n",
        "    print(os.listdir())\n",
        "    \n",
        "# prepare the data\n",
        "\n",
        "\n",
        "#df = pd.read_pickle('MadGraph.pkl')\n",
        "#features = ['MET', 'pTB1', 'pTB2', 'dRBB', 'dEtaBB', 'dPhiMETdijet']\n",
        "#X = df[features]\n",
        "#Y = df[['Y']]\n",
        "all_features = ['recon_Wmass', 'recon_Hmass', 'deltaR_reconHW', 'recon_Hpt', 'recon_Wpt', 'deltaR_bb', 'deltaR_W', 'Jet_HT', 'bJet_pt1', 'bJet_pt2', \n",
        "                'WJet_pt1', 'WJet_pt2', 'bJet_btagDeepB1', 'bJet_btagDeepB2', 'WJet_btagDeepB1', 'WJet_btagDeepB2']\n",
        "features = ['recon_Wmass', 'recon_Hmass', 'deltaR_reconHW', 'recon_Hpt', 'recon_Wpt', 'deltaR_bb', 'deltaR_W', 'Jet_HT', 'bJet_pt1', 'bJet_pt2', \n",
        "                'WJet_pt1', 'WJet_pt2', 'bJet_btagDeepB1', 'bJet_btagDeepB2', 'WJet_btagDeepB1', 'WJet_btagDeepB2']\n",
        "data = unpickle(\"data_summer.h5\")\n",
        "X_train = data['train']['X']\n",
        "Y_train = data['train']['y']\n",
        "sample_weight_train = data['train']['sample_weight']\n",
        "sample_weight_train = pd.DataFrame(sample_weight_train, columns=['weight'])\n",
        "X_train = pd.DataFrame(X_train, columns=all_features)\n",
        "Y_train = pd.DataFrame(Y_train, columns=['Y'])\n",
        "Z_train = X_train[['recon_Hmass']]\n",
        "\n",
        "X_test = data['test']['X']\n",
        "Y_test = data['test']['y']\n",
        "sample_weight_test = data['test']['sample_weight']\n",
        "sample_weight_test = pd.DataFrame(sample_weight_test, columns=['weight'])\n",
        "X_test = pd.DataFrame(X_test, columns=all_features)\n",
        "Y_test = pd.DataFrame(Y_test, columns=['Y'])\n",
        "Z_test = X_test[['recon_Hmass']]\n",
        "\n",
        "del X_test['recon_Hmass']\n",
        "del X_train['recon_Hmass']\n",
        "\n",
        "#print(Z)\n",
        "# preprocessing\n",
        "X = pd.concat([X_train, X_test],axis=0, join='inner')\n",
        "Y = pd.concat([Y_train, Y_test],axis=0, join='inner')\n",
        "Z = pd.concat([Z_train, Z_test],axis=0, join='inner')\n",
        "X_pca = PCA(X.shape[1], svd_solver='auto', whiten=True)\n",
        "Z_pca = PCA(Z.shape[1], svd_solver='auto', whiten=True)\n",
        "\n",
        "X_pca.fit(X)\n",
        "Z_pca.fit(Z)\n",
        "df = pd.concat([X, Y],axis=1, join='inner')\n",
        "print (df)\n",
        "# split\n",
        "#X_train, X_test, Y_train, Y_test, Z_train, Z_test = train_test_split(X, Y, Z)\n",
        "\n",
        "def generate_hbb(n_samples, train=True):\n",
        "    \n",
        "    # test or train\n",
        "    X_full = X_train if train else X_test\n",
        "    Y_full = Y_train if train else Y_test\n",
        "    Z_full = Z_train if train else Z_test\n",
        "    weights_full = sample_weight_train if train else sample_weight_test\n",
        "    # sample the events\n",
        "    random_state = np.random.randint(0, 10000)\n",
        "    X = X_full.sample(n_samples, random_state=random_state)\n",
        "    Y = Y_full.sample(n_samples, random_state=random_state)\n",
        "    Z = Z_full.sample(n_samples, random_state=random_state)\n",
        "    weights = weights_full.sample(n_samples, random_state=random_state)\n",
        "    # preprocess them\n",
        "    return X_pca.transform(X), Y.values, Z_pca.transform(Z), weights.values\n",
        "    #return X.values, Y.values, Z.values\n",
        "X, Y, Z, weights = generate_hbb(500, train=True)\n"
      ],
      "execution_count": 11,
      "outputs": [
        {
          "output_type": "stream",
          "text": [
            "Downloading data:\n",
            "--2019-08-12 15:27:42--  https://github.com/hessikaveh/VHbbPytorch/raw/master/data_summer.h5\n",
            "Resolving github.com (github.com)... 192.30.255.113\n",
            "Connecting to github.com (github.com)|192.30.255.113|:443... connected.\n",
            "HTTP request sent, awaiting response... 302 Found\n",
            "Location: https://raw.githubusercontent.com/hessikaveh/VHbbPytorch/master/data_summer.h5 [following]\n",
            "--2019-08-12 15:27:42--  https://raw.githubusercontent.com/hessikaveh/VHbbPytorch/master/data_summer.h5\n",
            "Resolving raw.githubusercontent.com (raw.githubusercontent.com)... 151.101.0.133, 151.101.64.133, 151.101.128.133, ...\n",
            "Connecting to raw.githubusercontent.com (raw.githubusercontent.com)|151.101.0.133|:443... connected.\n",
            "HTTP request sent, awaiting response... 200 OK\n",
            "Length: 78000 (76K) [application/octet-stream]\n",
            "Saving to: ‘data_summer.h5’\n",
            "\n",
            "data_summer.h5      100%[===================>]  76.17K  --.-KB/s    in 0.01s   \n",
            "\n",
            "2019-08-12 15:27:42 (5.24 MB/s) - ‘data_summer.h5’ saved [78000/78000]\n",
            "\n",
            "INFO: read inputs from disk, metadata is pesent:\n",
            "INFO:  >   variables recon_Wmass recon_Hmass deltaR_reconHW recon_Hpt recon_Wpt deltaR_bb deltaR_W Jet_HT bJet_pt1 bJet_pt2 WJet_pt1 WJet_pt2 bJet_btagDeepB1 bJet_btagDeepB2 WJet_btagDeepB1 WJet_btagDeepB2\n",
            "     recon_Wmass  deltaR_reconHW  ...  WJet_btagDeepB2    Y\n",
            "0      78.086906        2.366819  ...        -2.000000  0.0\n",
            "1     245.565460        4.245843  ...         0.109497  0.0\n",
            "2      57.747253        5.426533  ...         0.035126  0.0\n",
            "3      80.928177        2.579264  ...         0.021042  0.0\n",
            "4      38.834217        3.117774  ...         0.958496  0.0\n",
            "5      78.431854        4.290402  ...         0.510742  0.0\n",
            "6      90.549126        3.121130  ...         0.090637  0.0\n",
            "7      74.681236        2.503025  ...         0.994141  0.0\n",
            "8      69.365883        1.016159  ...         0.996094  0.0\n",
            "9      74.555595        3.138494  ...         0.053894  0.0\n",
            "10     93.181602        1.526222  ...         0.008873  0.0\n",
            "11     77.944824        2.309811  ...         0.982910  0.0\n",
            "12     87.715630        1.907558  ...         0.683105  0.0\n",
            "13     92.084694        3.194723  ...         0.193481  0.0\n",
            "14     76.396591        2.900568  ...         0.285156  0.0\n",
            "15     73.453674        8.456326  ...        -2.000000  0.0\n",
            "16    683.749939        3.321496  ...         0.998047  0.0\n",
            "17     66.946938        2.199452  ...         0.056732  0.0\n",
            "18     84.098915        3.339751  ...         0.791992  0.0\n",
            "19     82.991959        3.123913  ...         0.924805  0.0\n",
            "20     84.713890        1.895923  ...         0.999023  0.0\n",
            "21     64.880386        2.993032  ...         0.197876  0.0\n",
            "22     72.848694        3.055925  ...         0.020203  0.0\n",
            "23     80.980698        3.136620  ...         0.999023  0.0\n",
            "24     83.381233        2.812377  ...        -2.000000  0.0\n",
            "25     67.569405        3.085133  ...         0.079773  0.0\n",
            "26     90.660141        3.887024  ...         0.286377  0.0\n",
            "27    178.068695        3.141827  ...         0.502930  0.0\n",
            "28     73.604515        2.606608  ...         0.120605  0.0\n",
            "29     80.948296        2.216870  ...         0.981934  0.0\n",
            "..           ...             ...  ...              ...  ...\n",
            "556    26.837444        2.702923  ...        -2.000000  1.0\n",
            "557   795.734741        7.950329  ...        -2.000000  1.0\n",
            "558    36.951515        2.135861  ...         0.507812  1.0\n",
            "559    80.715927        2.934367  ...         0.019135  1.0\n",
            "560    86.126465        3.866610  ...        -2.000000  1.0\n",
            "561    65.335510        5.342518  ...         0.495850  1.0\n",
            "562    93.233887        4.149575  ...         0.936035  1.0\n",
            "563    52.390236        3.272770  ...         0.039978  1.0\n",
            "564   423.440308        3.164924  ...         0.982422  1.0\n",
            "565   446.211609        1.468539  ...         0.829590  1.0\n",
            "566    46.841885        3.001044  ...        -2.000000  1.0\n",
            "567    88.133751        4.316540  ...         0.011841  1.0\n",
            "568    86.466789        2.327233  ...         0.998047  1.0\n",
            "569    66.580887        2.230695  ...        -2.000000  1.0\n",
            "570    61.068905        5.541762  ...         0.889648  1.0\n",
            "571   152.410522        3.038976  ...         0.623535  1.0\n",
            "572    95.460342        2.708308  ...         0.157349  1.0\n",
            "573    39.851028        3.722878  ...         0.187012  1.0\n",
            "574    77.811569        3.089219  ...         0.085327  1.0\n",
            "575    54.132572        1.921085  ...         0.998047  1.0\n",
            "576   401.372986        0.536620  ...         0.987305  1.0\n",
            "577    84.391685        7.241659  ...        -2.000000  1.0\n",
            "578    67.981033        7.683262  ...         0.960449  1.0\n",
            "579    60.151287        3.314686  ...         0.553711  1.0\n",
            "580   326.179535        4.211267  ...         0.742676  1.0\n",
            "581    51.687580        2.967534  ...        -2.000000  1.0\n",
            "582    41.494678        1.720187  ...         0.990723  1.0\n",
            "583   247.191589        3.285344  ...         0.893555  1.0\n",
            "584    90.491051        4.713316  ...         0.841309  1.0\n",
            "585    89.559189        4.676655  ...         0.013573  1.0\n",
            "\n",
            "[1179 rows x 16 columns]\n"
          ],
          "name": "stdout"
        }
      ]
    },
    {
      "cell_type": "markdown",
      "metadata": {
        "colab_type": "text",
        "id": "mKasny7bcS2c"
      },
      "source": [
        "### Show the data\n",
        "\n",
        "Here, let's take a look at a few kinematic variables for the signal and background samples."
      ]
    },
    {
      "cell_type": "code",
      "metadata": {
        "colab_type": "code",
        "id": "Gf2rDRRrCFUR",
        "outputId": "13511d0c-4117-4cc5-8ad5-117ee783582f",
        "colab": {
          "base_uri": "https://localhost:8080/",
          "height": 1000
        }
      },
      "source": [
        "for feature in features:\n",
        "    fig, ax = plt.subplots()\n",
        "    print(feature)\n",
        "    _ = ax.hist(df.query('Y==1')[feature], bins=30, alpha=0.5, density=True, color='tomato', label='H->bb')\n",
        "    _ = ax.hist(df.query('Y==0')[feature], bins=30, alpha=0.5, density=True, color='darkblue', label='QCD')\n",
        "    ax.set_title(feature)\n",
        "    ax.legend(loc='best')"
      ],
      "execution_count": 14,
      "outputs": [
        {
          "output_type": "stream",
          "text": [
            "recon_Wmass\n",
            "recon_Hmass\n"
          ],
          "name": "stdout"
        },
        {
          "output_type": "error",
          "ename": "KeyError",
          "evalue": "ignored",
          "traceback": [
            "\u001b[0;31m---------------------------------------------------------------------------\u001b[0m",
            "\u001b[0;31mKeyError\u001b[0m                                  Traceback (most recent call last)",
            "\u001b[0;32m/usr/local/lib/python3.6/dist-packages/pandas/core/indexes/base.py\u001b[0m in \u001b[0;36mget_loc\u001b[0;34m(self, key, method, tolerance)\u001b[0m\n\u001b[1;32m   2656\u001b[0m             \u001b[0;32mtry\u001b[0m\u001b[0;34m:\u001b[0m\u001b[0;34m\u001b[0m\u001b[0;34m\u001b[0m\u001b[0m\n\u001b[0;32m-> 2657\u001b[0;31m                 \u001b[0;32mreturn\u001b[0m \u001b[0mself\u001b[0m\u001b[0;34m.\u001b[0m\u001b[0m_engine\u001b[0m\u001b[0;34m.\u001b[0m\u001b[0mget_loc\u001b[0m\u001b[0;34m(\u001b[0m\u001b[0mkey\u001b[0m\u001b[0;34m)\u001b[0m\u001b[0;34m\u001b[0m\u001b[0;34m\u001b[0m\u001b[0m\n\u001b[0m\u001b[1;32m   2658\u001b[0m             \u001b[0;32mexcept\u001b[0m \u001b[0mKeyError\u001b[0m\u001b[0;34m:\u001b[0m\u001b[0;34m\u001b[0m\u001b[0;34m\u001b[0m\u001b[0m\n",
            "\u001b[0;32mpandas/_libs/index.pyx\u001b[0m in \u001b[0;36mpandas._libs.index.IndexEngine.get_loc\u001b[0;34m()\u001b[0m\n",
            "\u001b[0;32mpandas/_libs/index.pyx\u001b[0m in \u001b[0;36mpandas._libs.index.IndexEngine.get_loc\u001b[0;34m()\u001b[0m\n",
            "\u001b[0;32mpandas/_libs/hashtable_class_helper.pxi\u001b[0m in \u001b[0;36mpandas._libs.hashtable.PyObjectHashTable.get_item\u001b[0;34m()\u001b[0m\n",
            "\u001b[0;32mpandas/_libs/hashtable_class_helper.pxi\u001b[0m in \u001b[0;36mpandas._libs.hashtable.PyObjectHashTable.get_item\u001b[0;34m()\u001b[0m\n",
            "\u001b[0;31mKeyError\u001b[0m: 'recon_Hmass'",
            "\nDuring handling of the above exception, another exception occurred:\n",
            "\u001b[0;31mKeyError\u001b[0m                                  Traceback (most recent call last)",
            "\u001b[0;32m<ipython-input-14-9672e54a6b2d>\u001b[0m in \u001b[0;36m<module>\u001b[0;34m()\u001b[0m\n\u001b[1;32m      2\u001b[0m     \u001b[0mfig\u001b[0m\u001b[0;34m,\u001b[0m \u001b[0max\u001b[0m \u001b[0;34m=\u001b[0m \u001b[0mplt\u001b[0m\u001b[0;34m.\u001b[0m\u001b[0msubplots\u001b[0m\u001b[0;34m(\u001b[0m\u001b[0;34m)\u001b[0m\u001b[0;34m\u001b[0m\u001b[0;34m\u001b[0m\u001b[0m\n\u001b[1;32m      3\u001b[0m     \u001b[0mprint\u001b[0m\u001b[0;34m(\u001b[0m\u001b[0mfeature\u001b[0m\u001b[0;34m)\u001b[0m\u001b[0;34m\u001b[0m\u001b[0;34m\u001b[0m\u001b[0m\n\u001b[0;32m----> 4\u001b[0;31m     \u001b[0m_\u001b[0m \u001b[0;34m=\u001b[0m \u001b[0max\u001b[0m\u001b[0;34m.\u001b[0m\u001b[0mhist\u001b[0m\u001b[0;34m(\u001b[0m\u001b[0mdf\u001b[0m\u001b[0;34m.\u001b[0m\u001b[0mquery\u001b[0m\u001b[0;34m(\u001b[0m\u001b[0;34m'Y==1'\u001b[0m\u001b[0;34m)\u001b[0m\u001b[0;34m[\u001b[0m\u001b[0mfeature\u001b[0m\u001b[0;34m]\u001b[0m\u001b[0;34m,\u001b[0m \u001b[0mbins\u001b[0m\u001b[0;34m=\u001b[0m\u001b[0;36m30\u001b[0m\u001b[0;34m,\u001b[0m \u001b[0malpha\u001b[0m\u001b[0;34m=\u001b[0m\u001b[0;36m0.5\u001b[0m\u001b[0;34m,\u001b[0m \u001b[0mdensity\u001b[0m\u001b[0;34m=\u001b[0m\u001b[0;32mTrue\u001b[0m\u001b[0;34m,\u001b[0m \u001b[0mcolor\u001b[0m\u001b[0;34m=\u001b[0m\u001b[0;34m'tomato'\u001b[0m\u001b[0;34m,\u001b[0m \u001b[0mlabel\u001b[0m\u001b[0;34m=\u001b[0m\u001b[0;34m'H->bb'\u001b[0m\u001b[0;34m)\u001b[0m\u001b[0;34m\u001b[0m\u001b[0;34m\u001b[0m\u001b[0m\n\u001b[0m\u001b[1;32m      5\u001b[0m     \u001b[0m_\u001b[0m \u001b[0;34m=\u001b[0m \u001b[0max\u001b[0m\u001b[0;34m.\u001b[0m\u001b[0mhist\u001b[0m\u001b[0;34m(\u001b[0m\u001b[0mdf\u001b[0m\u001b[0;34m.\u001b[0m\u001b[0mquery\u001b[0m\u001b[0;34m(\u001b[0m\u001b[0;34m'Y==0'\u001b[0m\u001b[0;34m)\u001b[0m\u001b[0;34m[\u001b[0m\u001b[0mfeature\u001b[0m\u001b[0;34m]\u001b[0m\u001b[0;34m,\u001b[0m \u001b[0mbins\u001b[0m\u001b[0;34m=\u001b[0m\u001b[0;36m30\u001b[0m\u001b[0;34m,\u001b[0m \u001b[0malpha\u001b[0m\u001b[0;34m=\u001b[0m\u001b[0;36m0.5\u001b[0m\u001b[0;34m,\u001b[0m \u001b[0mdensity\u001b[0m\u001b[0;34m=\u001b[0m\u001b[0;32mTrue\u001b[0m\u001b[0;34m,\u001b[0m \u001b[0mcolor\u001b[0m\u001b[0;34m=\u001b[0m\u001b[0;34m'darkblue'\u001b[0m\u001b[0;34m,\u001b[0m \u001b[0mlabel\u001b[0m\u001b[0;34m=\u001b[0m\u001b[0;34m'QCD'\u001b[0m\u001b[0;34m)\u001b[0m\u001b[0;34m\u001b[0m\u001b[0;34m\u001b[0m\u001b[0m\n\u001b[1;32m      6\u001b[0m     \u001b[0max\u001b[0m\u001b[0;34m.\u001b[0m\u001b[0mset_title\u001b[0m\u001b[0;34m(\u001b[0m\u001b[0mfeature\u001b[0m\u001b[0;34m)\u001b[0m\u001b[0;34m\u001b[0m\u001b[0;34m\u001b[0m\u001b[0m\n",
            "\u001b[0;32m/usr/local/lib/python3.6/dist-packages/pandas/core/frame.py\u001b[0m in \u001b[0;36m__getitem__\u001b[0;34m(self, key)\u001b[0m\n\u001b[1;32m   2925\u001b[0m             \u001b[0;32mif\u001b[0m \u001b[0mself\u001b[0m\u001b[0;34m.\u001b[0m\u001b[0mcolumns\u001b[0m\u001b[0;34m.\u001b[0m\u001b[0mnlevels\u001b[0m \u001b[0;34m>\u001b[0m \u001b[0;36m1\u001b[0m\u001b[0;34m:\u001b[0m\u001b[0;34m\u001b[0m\u001b[0;34m\u001b[0m\u001b[0m\n\u001b[1;32m   2926\u001b[0m                 \u001b[0;32mreturn\u001b[0m \u001b[0mself\u001b[0m\u001b[0;34m.\u001b[0m\u001b[0m_getitem_multilevel\u001b[0m\u001b[0;34m(\u001b[0m\u001b[0mkey\u001b[0m\u001b[0;34m)\u001b[0m\u001b[0;34m\u001b[0m\u001b[0;34m\u001b[0m\u001b[0m\n\u001b[0;32m-> 2927\u001b[0;31m             \u001b[0mindexer\u001b[0m \u001b[0;34m=\u001b[0m \u001b[0mself\u001b[0m\u001b[0;34m.\u001b[0m\u001b[0mcolumns\u001b[0m\u001b[0;34m.\u001b[0m\u001b[0mget_loc\u001b[0m\u001b[0;34m(\u001b[0m\u001b[0mkey\u001b[0m\u001b[0;34m)\u001b[0m\u001b[0;34m\u001b[0m\u001b[0;34m\u001b[0m\u001b[0m\n\u001b[0m\u001b[1;32m   2928\u001b[0m             \u001b[0;32mif\u001b[0m \u001b[0mis_integer\u001b[0m\u001b[0;34m(\u001b[0m\u001b[0mindexer\u001b[0m\u001b[0;34m)\u001b[0m\u001b[0;34m:\u001b[0m\u001b[0;34m\u001b[0m\u001b[0;34m\u001b[0m\u001b[0m\n\u001b[1;32m   2929\u001b[0m                 \u001b[0mindexer\u001b[0m \u001b[0;34m=\u001b[0m \u001b[0;34m[\u001b[0m\u001b[0mindexer\u001b[0m\u001b[0;34m]\u001b[0m\u001b[0;34m\u001b[0m\u001b[0;34m\u001b[0m\u001b[0m\n",
            "\u001b[0;32m/usr/local/lib/python3.6/dist-packages/pandas/core/indexes/base.py\u001b[0m in \u001b[0;36mget_loc\u001b[0;34m(self, key, method, tolerance)\u001b[0m\n\u001b[1;32m   2657\u001b[0m                 \u001b[0;32mreturn\u001b[0m \u001b[0mself\u001b[0m\u001b[0;34m.\u001b[0m\u001b[0m_engine\u001b[0m\u001b[0;34m.\u001b[0m\u001b[0mget_loc\u001b[0m\u001b[0;34m(\u001b[0m\u001b[0mkey\u001b[0m\u001b[0;34m)\u001b[0m\u001b[0;34m\u001b[0m\u001b[0;34m\u001b[0m\u001b[0m\n\u001b[1;32m   2658\u001b[0m             \u001b[0;32mexcept\u001b[0m \u001b[0mKeyError\u001b[0m\u001b[0;34m:\u001b[0m\u001b[0;34m\u001b[0m\u001b[0;34m\u001b[0m\u001b[0m\n\u001b[0;32m-> 2659\u001b[0;31m                 \u001b[0;32mreturn\u001b[0m \u001b[0mself\u001b[0m\u001b[0;34m.\u001b[0m\u001b[0m_engine\u001b[0m\u001b[0;34m.\u001b[0m\u001b[0mget_loc\u001b[0m\u001b[0;34m(\u001b[0m\u001b[0mself\u001b[0m\u001b[0;34m.\u001b[0m\u001b[0m_maybe_cast_indexer\u001b[0m\u001b[0;34m(\u001b[0m\u001b[0mkey\u001b[0m\u001b[0;34m)\u001b[0m\u001b[0;34m)\u001b[0m\u001b[0;34m\u001b[0m\u001b[0;34m\u001b[0m\u001b[0m\n\u001b[0m\u001b[1;32m   2660\u001b[0m         \u001b[0mindexer\u001b[0m \u001b[0;34m=\u001b[0m \u001b[0mself\u001b[0m\u001b[0;34m.\u001b[0m\u001b[0mget_indexer\u001b[0m\u001b[0;34m(\u001b[0m\u001b[0;34m[\u001b[0m\u001b[0mkey\u001b[0m\u001b[0;34m]\u001b[0m\u001b[0;34m,\u001b[0m \u001b[0mmethod\u001b[0m\u001b[0;34m=\u001b[0m\u001b[0mmethod\u001b[0m\u001b[0;34m,\u001b[0m \u001b[0mtolerance\u001b[0m\u001b[0;34m=\u001b[0m\u001b[0mtolerance\u001b[0m\u001b[0;34m)\u001b[0m\u001b[0;34m\u001b[0m\u001b[0;34m\u001b[0m\u001b[0m\n\u001b[1;32m   2661\u001b[0m         \u001b[0;32mif\u001b[0m \u001b[0mindexer\u001b[0m\u001b[0;34m.\u001b[0m\u001b[0mndim\u001b[0m \u001b[0;34m>\u001b[0m \u001b[0;36m1\u001b[0m \u001b[0;32mor\u001b[0m \u001b[0mindexer\u001b[0m\u001b[0;34m.\u001b[0m\u001b[0msize\u001b[0m \u001b[0;34m>\u001b[0m \u001b[0;36m1\u001b[0m\u001b[0;34m:\u001b[0m\u001b[0;34m\u001b[0m\u001b[0;34m\u001b[0m\u001b[0m\n",
            "\u001b[0;32mpandas/_libs/index.pyx\u001b[0m in \u001b[0;36mpandas._libs.index.IndexEngine.get_loc\u001b[0;34m()\u001b[0m\n",
            "\u001b[0;32mpandas/_libs/index.pyx\u001b[0m in \u001b[0;36mpandas._libs.index.IndexEngine.get_loc\u001b[0;34m()\u001b[0m\n",
            "\u001b[0;32mpandas/_libs/hashtable_class_helper.pxi\u001b[0m in \u001b[0;36mpandas._libs.hashtable.PyObjectHashTable.get_item\u001b[0;34m()\u001b[0m\n",
            "\u001b[0;32mpandas/_libs/hashtable_class_helper.pxi\u001b[0m in \u001b[0;36mpandas._libs.hashtable.PyObjectHashTable.get_item\u001b[0;34m()\u001b[0m\n",
            "\u001b[0;31mKeyError\u001b[0m: 'recon_Hmass'"
          ]
        },
        {
          "output_type": "display_data",
          "data": {
            "image/png": "[encoded data removed]",
            "text/plain": [
              "<Figure size 432x288 with 1 Axes>"
            ]
          },
          "metadata": {
            "tags": []
          }
        },
        {
          "output_type": "display_data",
          "data": {
            "image/png": "[encoded data removed]",
            "text/plain": [
              "<Figure size 432x288 with 1 Axes>"
            ]
          },
          "metadata": {
            "tags": []
          }
        }
      ]
    },
    {
      "cell_type": "markdown",
      "metadata": {
        "colab_type": "text",
        "id": "chaj_pnyms_5"
      },
      "source": [
        "## 2.2 Normal training"
      ]
    },
    {
      "cell_type": "markdown",
      "metadata": {
        "colab_type": "text",
        "id": "LmqqBhb7pKV9"
      },
      "source": [
        "### Training"
      ]
    },
    {
      "cell_type": "code",
      "metadata": {
        "colab_type": "code",
        "id": "zsl7dOheELGC",
        "outputId": "5b856d77-33d8-4ce2-e966-7b1bea6992d4",
        "colab": {
          "base_uri": "https://localhost:8080/",
          "height": 301
        }
      },
      "source": [
        "clf_hbb = normal_training(generate_hbb, 300)"
      ],
      "execution_count": 0,
      "outputs": [
        {
          "output_type": "stream",
          "text": [
            "Done with training\n"
          ],
          "name": "stdout"
        },
        {
          "output_type": "display_data",
          "data": {
            "image/png": "[encoded data removed]",
            "text/plain": [
              "<Figure size 432x288 with 1 Axes>"
            ]
          },
          "metadata": {
            "tags": []
          }
        }
      ]
    },
    {
      "cell_type": "markdown",
      "metadata": {
        "colab_type": "text",
        "id": "fBqzyLmnpMCv"
      },
      "source": [
        "### Evaluation\n",
        "\n",
        "Lots of plotting code first, just look at the figures at the bottom.\n",
        "\n",
        "It can be seen that the classifier learns the mass of the two b-quarks to be a powerful discriminating variable: it preferentially selects events around the Higgs boson mass."
      ]
    },
    {
      "cell_type": "code",
      "metadata": {
        "colab_type": "code",
        "id": "JNL_YMspdzLJ",
        "colab": {}
      },
      "source": [
        "from matplotlib.lines import Line2D\n",
        "from matplotlib.patches import Patch\n",
        "\n",
        "def show_roc_curves_hbb(ax, clf, generate):\n",
        "\n",
        "    # generate test data\n",
        "    n_samples = 10000\n",
        "    X, Y, Z, weights = generate(n_samples)\n",
        "    \n",
        "    # split events in the three mass ranges\n",
        "    low_z = Z_pca.transform([[115]])\n",
        "    high_z = Z_pca.transform([[125]])\n",
        "    mask_1 = (Z < low_z).ravel()\n",
        "    X_1 = X[mask_1]\n",
        "    Y_1 = Y[mask_1]\n",
        "    mask1 = (Z > high_z).ravel()\n",
        "    X1 = X[mask1]\n",
        "    Y1 = Y[mask1]\n",
        "    mask0 = ((Z > low_z) & (Z < high_z)).ravel()\n",
        "    X0 = X[mask0]\n",
        "    Y0 = Y[mask0]\n",
        "    \n",
        "    # compute the roc curves\n",
        "    Y0_pred = clf(torch.as_tensor(X0, dtype=torch.float))\n",
        "    fpr0, tpr0, _ = roc_curve(Y0, Y0_pred.data)\n",
        "\n",
        "    Y1_pred = clf(torch.as_tensor(X1, dtype=torch.float))\n",
        "    fpr1, tpr1, _ = roc_curve(Y1, Y1_pred.data)\n",
        "\n",
        "    Y_1_pred = clf(torch.as_tensor(X_1, dtype=torch.float))\n",
        "    fpr_1, tpr_1, _ = roc_curve(Y_1, Y_1_pred.data)\n",
        "\n",
        "    # draw the roc curves\n",
        "    ax.plot(fpr_1, tpr_1, c='yellow', label='mBB < 115 GeV')\n",
        "    ax.plot(fpr0, tpr0, c='red', label='115 < mBB < 125 GeV')\n",
        "    ax.plot(fpr1, tpr1, c='darkred', label='mBB > 125 GeV')\n",
        "\n",
        "    # cosmetics\n",
        "    ax.legend(loc='best')\n",
        "    ax.set_xlabel('False positive rate')\n",
        "    ax.set_ylabel('True positive rate')\n",
        "    ax.set_title('ROC curve')\n",
        "\n",
        "def show_mass_distribution(ax, clf, generate):\n",
        "    \n",
        "    # generate test data\n",
        "    n_samples = 10000\n",
        "    X, Y, Z, weights = generate(n_samples)\n",
        "    \n",
        "    # split events depending on the score they get\n",
        "    Y_pred = clf(torch.as_tensor(X, dtype=torch.float)).detach().numpy()\n",
        "    median = np.percentile(Y_pred, 50)\n",
        "    #median = 0.88\n",
        "    # get the mass shape\n",
        "    mass = Z_pca.inverse_transform(Z)\n",
        "    \n",
        "    # plot stacked \n",
        "    ax.hist([mass[(Y==0) & (Y_pred>median)],mass[(Y==0) & (Y_pred<median)],   mass[(Y==1) & (Y_pred>median)], mass[(Y==1) & (Y_pred<median)] ]\n",
        "            , bins=30,stacked=True, range=(50, 200), alpha=0.5, label=[ 'bkg high score', 'bkg low score','H->bb high score', 'H->bb low score'],\n",
        "             weights=[ weights[(Y==0) & (Y_pred>median)], weights[(Y==0) & (Y_pred<median)] , weights[(Y==1) & (Y_pred>median)],weights[(Y==1) & (Y_pred<median)] ])\n",
        "    # plot inclusive spectra, and spectra with high and low scores\n",
        "    #ax.hist(mass[Y==1], bins=30, range=(50, 200), alpha=0.5, label='H->bb', color='tomato', weights=weights[Y==1])\n",
        "    #ax.hist(mass[(Y==1) & (Y_pred>median)], bins=30, range=(50, 200), histtype='step', color='tomato', weights=weights[(Y==1) & (Y_pred>median)])\n",
        "    #ax.hist(mass[(Y==1) & (Y_pred<median)], bins=30, range=(50, 200), histtype='step', color='tomato', linestyle=':', weights=weights[(Y==1) & (Y_pred<median)])\n",
        "    \n",
        "    #ax.hist(mass[Y==0], bins=30, range=(50, 200), alpha=0.5, label='Z+jets', color='darkblue', weights=weights[Y==0])\n",
        "    #ax.hist(mass[(Y==0) & (Y_pred>median)], bins=30, range=(50, 200), histtype='step', color='darkblue', weights=weights[(Y==0) & (Y_pred>median)])\n",
        "    #ax.hist(mass[(Y==0) & (Y_pred<median)], bins=30, range=(50, 200), histtype='step', color='darkblue', linestyle=':', weights=weights[(Y==0) & (Y_pred<median)])\n",
        "    \n",
        "\n",
        "    custom_lines = [Patch(facecolor='tomato', alpha=0.5),\n",
        "                    Line2D([0], [0], color='tomato'),\n",
        "                    Line2D([0], [0], color='tomato', linestyle=':'),\n",
        "                    Patch(facecolor='darkblue', alpha=0.5),\n",
        "                    Line2D([0], [0], color='darkblue'),\n",
        "                    Line2D([0], [0], color='darkblue', linestyle=':'),\n",
        "                   ]\n",
        "\n",
        "    #ax.legend(custom_lines, ['H->bb inclusive', 'H->bb high score', 'H->bb low score',\n",
        "    #                         'bkg inclusive', 'bkg high score', 'bkg low score'])\n",
        "    ax.legend()\n",
        "def show_discriminator_distribution(ax, clf, generate):\n",
        "    \n",
        "    # generate test data\n",
        "    n_samples = 10000\n",
        "    X, Y, Z, weights = generate(n_samples)\n",
        "    \n",
        "    # split events depending on the score they get\n",
        "    Y_pred = clf(torch.as_tensor(X, dtype=torch.float)).detach().numpy()\n",
        "    median = np.percentile(Y_pred, 50)\n",
        "    #median = 0.88\n",
        "    # get the mass shape\n",
        "    mass = Z_pca.inverse_transform(Z)\n",
        "    print(median)\n",
        "    # plot stacked \n",
        "    #ax.hist([Y_pred[Y==0],Y_pred[(Y==0) & (Y_pred>median)],Y_pred[(Y==0) & (Y_pred<median)],   Y_pred[(Y==1) & (Y_pred>median)], Y_pred[(Y==1) & (Y_pred<median)] ]\n",
        "    #        , bins=30,stacked=True, range=(0, 1), alpha=0.5, label=['bkg inclusive', 'bkg high score', 'bkg low score','H->bb high score', 'H->bb low score'])\n",
        "#\n",
        "    ax.hist([Y_pred[(Y==0) & (Y_pred>median)],Y_pred[(Y==0) & (Y_pred<median)],  Y_pred[(Y==1) & (Y_pred>median)], Y_pred[(Y==1) & (Y_pred<median)] ]\n",
        "            , bins=30,stacked=True, range=(0, 1), alpha=0.5, label=['bkg high score', 'bkg low score','H->bb high score', 'H->bb low score'],\n",
        "             weights=[ weights[(Y==0) & (Y_pred>median)], weights[(Y==0) & (Y_pred<median)] ,weights[(Y==1) & (Y_pred>median)],weights[(Y==1) & (Y_pred<median)] ])\n",
        "    # plot inclusive spectra, and spectra with high and low scores\n",
        "    #ax.hist(mass[Y==1], bins=30, range=(50, 200), alpha=0.5, label='H->bb', color='tomato', weights=weights[Y==1])\n",
        "    #ax.hist(mass[(Y==1) & (Y_pred>median)], bins=30, range=(50, 200), histtype='step', color='tomato', weights=weights[(Y==1) & (Y_pred>median)])\n",
        "    #ax.hist(mass[(Y==1) & (Y_pred<median)], bins=30, range=(50, 200), histtype='step', color='tomato', linestyle=':', weights=weights[(Y==1) & (Y_pred<median)])\n",
        "    \n",
        "    #ax.hist(mass[Y==0], bins=30, range=(50, 200), alpha=0.5, label='Z+jets', color='darkblue', weights=weights[Y==0])\n",
        "    #ax.hist(mass[(Y==0) & (Y_pred>median)], bins=30, range=(50, 200), histtype='step', color='darkblue', weights=weights[(Y==0) & (Y_pred>median)])\n",
        "    #ax.hist(mass[(Y==0) & (Y_pred<median)], bins=30, range=(50, 200), histtype='step', color='darkblue', linestyle=':', weights=weights[(Y==0) & (Y_pred<median)])\n",
        "    \n",
        "\n",
        "    custom_lines = [Patch(facecolor='tomato', alpha=0.5),\n",
        "                    Line2D([0], [0], color='tomato'),\n",
        "                    Line2D([0], [0], color='tomato', linestyle=':'),\n",
        "                    Patch(facecolor='darkblue', alpha=0.5),\n",
        "                    Line2D([0], [0], color='darkblue'),\n",
        "                    Line2D([0], [0], color='darkblue', linestyle=':'),\n",
        "                   ]\n",
        "\n",
        "    #ax.legend(custom_lines, ['H->bb inclusive', 'H->bb high score', 'H->bb low score',\n",
        "    #                         'bkg inclusive', 'bkg high score', 'bkg low score'])\n",
        "    ax.legend()\n",
        "\n",
        "def evaluate_hbb_classifier(clf, generate):\n",
        "\n",
        "    fig, ax = plt.subplots(1, 2, figsize=(20, 10))\n",
        "    show_roc_curves_hbb(ax[0], clf, generate_hbb)\n",
        "    #show_mass_distribution(ax[1], clf, generate_hbb)\n",
        "    #show_discriminator_distribution(ax[1], clf, generate_hbb)\n",
        "    plt.show()\n",
        "def evaluate_hbb_classifier2(clf, generate):\n",
        "\n",
        "    fig, ax = plt.subplots(1, 2, figsize=(20, 10))\n",
        "    #show_roc_curves_hbb(ax[0], clf, generate_hbb)\n",
        "    show_mass_distribution(ax[0], clf, generate_hbb)\n",
        "    show_discriminator_distribution(ax[1], clf, generate_hbb)\n",
        "    plt.show()\n",
        "#evaluate_hbb_classifier(clf_hbb, generate_hbb)\n",
        "#evaluate_hbb_classifier2(clf_hbb, generate_hbb)"
      ],
      "execution_count": 0,
      "outputs": []
    },
    {
      "cell_type": "markdown",
      "metadata": {
        "colab_type": "text",
        "id": "edG2EH8fR1Uv"
      },
      "source": [
        "## 2.3 Adversarial training\n",
        "\n",
        "### Easy Task\n",
        "\n",
        "Now, a very short task for you! The key is to note that the adversarial training proceeds in exactly the same way as before, only with a different dataset. \n",
        "\n",
        "Task: Reuse the functions above to train your own adversarial classifier.\n",
        "\n"
      ]
    },
    {
      "cell_type": "code",
      "metadata": {
        "colab_type": "code",
        "id": "9zT1YffOe6NW",
        "outputId": "bed235e1-f631-4f0a-eef1-57ef9da4fe45",
        "colab": {
          "base_uri": "https://localhost:8080/",
          "height": 1000
        }
      },
      "source": [
        "\n",
        "#\n",
        "# train the classifier here:\n",
        "#clf_hbb_adv = adversarial_training(generate_hbb, 500)\n",
        "#\n",
        "# evaluate the classifier here:\n",
        "evaluate_hbb_classifier(clf_hbb_adv, generate_hbb)\n",
        "evaluate_hbb_classifier2(clf_hbb_adv, generate_hbb)\n",
        "\n",
        "#\n",
        "#\n",
        "\n",
        "\n"
      ],
      "execution_count": 0,
      "outputs": [
        {
          "output_type": "display_data",
          "data": {
            "image/png": "[encoded data removed]",
            "text/plain": [
              "<Figure size 1440x720 with 2 Axes>"
            ]
          },
          "metadata": {
            "tags": []
          }
        },
        {
          "output_type": "stream",
          "text": [
            "0.885121077299118\n"
          ],
          "name": "stdout"
        },
        {
          "output_type": "display_data",
          "data": {
            "image/png": "[encoded data removed]",
            "text/plain": [
              "<Figure size 1440x720 with 2 Axes>"
            ]
          },
          "metadata": {
            "tags": []
          }
        }
      ]
    },
    {
      "cell_type": "markdown",
      "metadata": {
        "colab_type": "text",
        "id": "LEhI70PCVK6W"
      },
      "source": [
        "### Solutions"
      ]
    },
    {
      "cell_type": "code",
      "metadata": {
        "colab_type": "code",
        "id": "vMDmeF56R8Hd",
        "colab": {}
      },
      "source": [
        "# <your code here>\n",
        "#\n",
        "# train the classifier here:\n",
        "#clf_hbb_adv = adversarial_training(generate_hbb, 1000)\n",
        "#\n",
        "# evaluate the classifier here:\n",
        "#evaluate_hbb_classifier(clf_hbb_adv, generate_hbb)\n",
        "#\n",
        "#\n"
      ],
      "execution_count": 0,
      "outputs": []
    },
    {
      "cell_type": "code",
      "metadata": {
        "id": "NHBOQL8C2mcL",
        "colab_type": "code",
        "outputId": "3c3f9007-32e7-49e6-c0dd-99f95bfb8c98",
        "colab": {}
      },
      "source": [
        "evaluate_hbb_classifier(clf_hbb_adv, generate_hbb)\n"
      ],
      "execution_count": 0,
      "outputs": [
        {
          "output_type": "stream",
          "text": [
            "[[ -7.18324938e-01  -9.37319453e-02  -4.33532730e-01 ...,  -3.73920080e-01\n",
            "    9.00609107e-01  -5.54203240e-02]\n",
            " [ -2.07246706e-01  -4.05823543e-01   3.34690052e-01 ...,  -3.35971757e-01\n",
            "   -4.94077614e-01   3.83492083e-01]\n",
            " [ -6.92974258e-01  -4.95139407e-01   6.90971519e-01 ...,  -8.63815442e-04\n",
            "    2.57517566e-01  -5.79368278e-02]\n",
            " ..., \n",
            " [ -4.02587301e-01  -3.23610896e-01  -3.17287530e-01 ...,   1.02772498e+00\n",
            "   -4.19312946e-01   4.40817274e-01]\n",
            " [  4.27523148e-01   6.43243985e-01  -1.76001875e+00 ...,   8.15269769e-01\n",
            "   -9.96470192e-02   1.86883272e-01]\n",
            " [ -8.76898394e-02  -1.80294849e-01  -9.16993766e-01 ...,  -1.76679848e-01\n",
            "    6.79929772e-01  -4.16923623e-01]] [[ 1.]\n",
            " [ 1.]\n",
            " [ 0.]\n",
            " ..., \n",
            " [ 1.]\n",
            " [ 1.]\n",
            " [ 1.]]\n"
          ],
          "name": "stdout"
        },
        {
          "output_type": "display_data",
          "data": {
            "image/png": "[encoded data removed]",
            "text/plain": [
              "<Figure size 720x360 with 2 Axes>"
            ]
          },
          "metadata": {
            "tags": [],
            "needs_background": "light"
          }
        }
      ]
    },
    {
      "cell_type": "markdown",
      "metadata": {
        "colab_type": "text",
        "id": "MO4A1tutnIYF"
      },
      "source": [
        "### Harder task 1\n",
        "\n",
        "Play around with the adversarial training parameters:\n",
        "\n",
        "a) What happens if you increase the number of training steps? \\\\\n",
        "b) How to get rid of the loss oscillations? Hint: is the task the adversary is trying to solve stationary? \\\\\n",
        "c) Change classifier complexity: try a linear classifier, or increase the number of layers.\n",
        "\n"
      ]
    },
    {
      "cell_type": "code",
      "metadata": {
        "colab_type": "code",
        "id": "WYKN9pzJna8W",
        "colab": {}
      },
      "source": [
        ""
      ],
      "execution_count": 0,
      "outputs": []
    },
    {
      "cell_type": "markdown",
      "metadata": {
        "colab_type": "text",
        "id": "ujqnItAAXxrq"
      },
      "source": [
        "### Harder Task 2\n",
        "\n",
        "If this is too easy, try using a different adversary:\n",
        "\n",
        "  - Gaussian mixture model, as in the original paper [1] (Keras implementation at [2]), \n",
        "  \n",
        "  or\n",
        " \n",
        "  - Mutual Information Neural Estimator (MINE) [3] (Pytorch implementation at [4])\n",
        "\n",
        "Gaussian mixture model essentially models the probability density distribution over the protected parameter Z, rather than a point estimate that we have used. The loss function is essentially a log likelihood.\n",
        "\n",
        "MINE provides a differentiable estimate of the mutual information [5] between the output of the classifier and the protected parameter, allowing the classifier to change in a way which minimises it directly.\n",
        "\n",
        "\n",
        "[1] https://arxiv.org/abs/1611.01046 \\\\\n",
        "[2] https://github.com/glouppe/paper-learning-to-pivot/blob/master/code/Toy.ipynb \\\\\n",
        "[3] https://arxiv.org/abs/1801.04062 \\\\\n",
        "[4] https://github.com/MasanoriYamada/Mine_pytorch \\\\\n",
        "[5] https://en.wikipedia.org/wiki/Mutual_information\n"
      ]
    },
    {
      "cell_type": "code",
      "metadata": {
        "colab_type": "code",
        "id": "heDz0bAuX_xX",
        "colab": {}
      },
      "source": [
        ""
      ],
      "execution_count": 0,
      "outputs": []
    }
  ]
}